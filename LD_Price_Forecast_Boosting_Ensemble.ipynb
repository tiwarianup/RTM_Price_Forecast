{
 "cells": [
  {
   "cell_type": "markdown",
   "metadata": {},
   "source": [
    "# RTM IEX Price Forecasting using Boosting & Ensembles"
   ]
  },
  {
   "cell_type": "markdown",
   "metadata": {},
   "source": []
  },
  {
   "cell_type": "code",
   "execution_count": 51,
   "metadata": {
    "id": "vByTBWE_o2GZ"
   },
   "outputs": [],
   "source": [
    "# importing required python modules\n",
    "import numpy as np, pandas as pd\n",
    "import matplotlib.pyplot as plt, seaborn as sns\n",
    "from sklearn.model_selection import GridSearchCV\n",
    "import xgboost\n",
    "import datetime"
   ]
  },
  {
   "cell_type": "code",
   "execution_count": 54,
   "metadata": {
    "id": "dIlTsu2up776"
   },
   "outputs": [],
   "source": [
    "# importing required datasets\n",
    "price_df = pd.read_csv('dataset2.csv')"
   ]
  },
  {
   "cell_type": "code",
   "execution_count": 55,
   "metadata": {
    "colab": {
     "base_uri": "https://localhost:8080/",
     "height": 306
    },
    "id": "EbUvE_XrqoNv",
    "outputId": "9986bbf1-a916-4559-ffdf-9d642ab08041"
   },
   "outputs": [
    {
     "data": {
      "text/html": [
       "<div>\n",
       "<style scoped>\n",
       "    .dataframe tbody tr th:only-of-type {\n",
       "        vertical-align: middle;\n",
       "    }\n",
       "\n",
       "    .dataframe tbody tr th {\n",
       "        vertical-align: top;\n",
       "    }\n",
       "\n",
       "    .dataframe thead th {\n",
       "        text-align: right;\n",
       "    }\n",
       "</style>\n",
       "<table border=\"1\" class=\"dataframe\">\n",
       "  <thead>\n",
       "    <tr style=\"text-align: right;\">\n",
       "      <th></th>\n",
       "      <th>Date</th>\n",
       "      <th>Timeblock</th>\n",
       "      <th>DAM_Price</th>\n",
       "      <th>RTM_Price</th>\n",
       "      <th>RTM_Purchase_Bid</th>\n",
       "      <th>RTM_Selling_Bid</th>\n",
       "      <th>DAM_Purchase_Bid</th>\n",
       "      <th>DAM_Selling_Bid</th>\n",
       "      <th>Demand</th>\n",
       "    </tr>\n",
       "  </thead>\n",
       "  <tbody>\n",
       "    <tr>\n",
       "      <th>0</th>\n",
       "      <td>01-08-2020</td>\n",
       "      <td>1</td>\n",
       "      <td>2350.94</td>\n",
       "      <td>2900.83</td>\n",
       "      <td>1516.4</td>\n",
       "      <td>2431.6</td>\n",
       "      <td>8401.3</td>\n",
       "      <td>9522.2</td>\n",
       "      <td>160750</td>\n",
       "    </tr>\n",
       "    <tr>\n",
       "      <th>1</th>\n",
       "      <td>01-08-2020</td>\n",
       "      <td>2</td>\n",
       "      <td>2500.38</td>\n",
       "      <td>2900.22</td>\n",
       "      <td>1509.4</td>\n",
       "      <td>2558</td>\n",
       "      <td>8357.9</td>\n",
       "      <td>9583.2</td>\n",
       "      <td>160525</td>\n",
       "    </tr>\n",
       "    <tr>\n",
       "      <th>2</th>\n",
       "      <td>01-08-2020</td>\n",
       "      <td>3</td>\n",
       "      <td>2589.31</td>\n",
       "      <td>2599.48</td>\n",
       "      <td>1233.7</td>\n",
       "      <td>2698.3</td>\n",
       "      <td>8237.7</td>\n",
       "      <td>9579.2</td>\n",
       "      <td>156044</td>\n",
       "    </tr>\n",
       "    <tr>\n",
       "      <th>3</th>\n",
       "      <td>01-08-2020</td>\n",
       "      <td>4</td>\n",
       "      <td>2500.59</td>\n",
       "      <td>2589.91</td>\n",
       "      <td>1191.7</td>\n",
       "      <td>2770.8</td>\n",
       "      <td>7995.7</td>\n",
       "      <td>9747.2</td>\n",
       "      <td>155191</td>\n",
       "    </tr>\n",
       "    <tr>\n",
       "      <th>4</th>\n",
       "      <td>01-08-2020</td>\n",
       "      <td>5</td>\n",
       "      <td>2450.51</td>\n",
       "      <td>2599.61</td>\n",
       "      <td>1312.5</td>\n",
       "      <td>2725.9</td>\n",
       "      <td>7723.2</td>\n",
       "      <td>9924.2</td>\n",
       "      <td>153877</td>\n",
       "    </tr>\n",
       "  </tbody>\n",
       "</table>\n",
       "</div>"
      ],
      "text/plain": [
       "         Date  Timeblock  DAM_Price RTM_Price RTM_Purchase_Bid  \\\n",
       "0  01-08-2020          1    2350.94   2900.83           1516.4   \n",
       "1  01-08-2020          2    2500.38   2900.22           1509.4   \n",
       "2  01-08-2020          3    2589.31   2599.48           1233.7   \n",
       "3  01-08-2020          4    2500.59   2589.91           1191.7   \n",
       "4  01-08-2020          5    2450.51   2599.61           1312.5   \n",
       "\n",
       "  RTM_Selling_Bid  DAM_Purchase_Bid  DAM_Selling_Bid  Demand  \n",
       "0          2431.6            8401.3           9522.2  160750  \n",
       "1            2558            8357.9           9583.2  160525  \n",
       "2          2698.3            8237.7           9579.2  156044  \n",
       "3          2770.8            7995.7           9747.2  155191  \n",
       "4          2725.9            7723.2           9924.2  153877  "
      ]
     },
     "execution_count": 55,
     "metadata": {},
     "output_type": "execute_result"
    }
   ],
   "source": [
    "# inspecting price dataframe\n",
    "price_df.head()"
   ]
  },
  {
   "cell_type": "code",
   "execution_count": 56,
   "metadata": {
    "colab": {
     "base_uri": "https://localhost:8080/"
    },
    "id": "giK9ZqAAqyKL",
    "outputId": "5084dee2-5000-4451-db8a-1209f5fe9518"
   },
   "outputs": [
    {
     "data": {
      "text/plain": [
       "(16512, 9)"
      ]
     },
     "execution_count": 56,
     "metadata": {},
     "output_type": "execute_result"
    }
   ],
   "source": [
    "# checking shapes of both dataframes\n",
    "price_df.shape"
   ]
  },
  {
   "cell_type": "code",
   "execution_count": 57,
   "metadata": {
    "id": "LBIT1_jSrCAe"
   },
   "outputs": [],
   "source": [
    "# user inputs\n",
    "n_train_days = 92 # int(input(\"No. of Training Days: \"))\n",
    "n_pred_block = 96 # int(input(\"No. of Time Blocks to Predict: \"))"
   ]
  },
  {
   "cell_type": "code",
   "execution_count": 58,
   "metadata": {
    "colab": {
     "base_uri": "https://localhost:8080/"
    },
    "id": "326z7lWnrHkz",
    "outputId": "4405bd17-0074-41ec-b53f-58c8702bebff"
   },
   "outputs": [
    {
     "name": "stdout",
     "output_type": "stream",
     "text": [
      "<class 'pandas.core.frame.DataFrame'>\n",
      "RangeIndex: 16512 entries, 0 to 16511\n",
      "Data columns (total 9 columns):\n",
      " #   Column            Non-Null Count  Dtype  \n",
      "---  ------            --------------  -----  \n",
      " 0   Date              16512 non-null  object \n",
      " 1   Timeblock         16512 non-null  int64  \n",
      " 2   DAM_Price         16512 non-null  float64\n",
      " 3   RTM_Price         16512 non-null  object \n",
      " 4   RTM_Purchase_Bid  16512 non-null  object \n",
      " 5   RTM_Selling_Bid   16512 non-null  object \n",
      " 6   DAM_Purchase_Bid  16512 non-null  float64\n",
      " 7   DAM_Selling_Bid   16512 non-null  float64\n",
      " 8   Demand            16512 non-null  int64  \n",
      "dtypes: float64(3), int64(2), object(4)\n",
      "memory usage: 1.1+ MB\n"
     ]
    }
   ],
   "source": [
    "# checking price data column types\n",
    "price_df.info()"
   ]
  },
  {
   "cell_type": "code",
   "execution_count": 59,
   "metadata": {
    "id": "8PExcPqYtQrR"
   },
   "outputs": [],
   "source": [
    "# converting object dtypes to numeric dtype\n",
    "price_df['RTM_Price'] = pd.to_numeric(price_df['RTM_Price'], errors='coerce')\n",
    "price_df['DAM_Price'] = pd.to_numeric(price_df['DAM_Price'], errors='coerce')\n",
    "price_df['RTM_Purchase_Bid'] = pd.to_numeric(price_df['RTM_Purchase_Bid'], errors='coerce')\n",
    "price_df['RTM_Selling_Bid'] = pd.to_numeric(price_df['RTM_Selling_Bid'], errors='coerce')\n",
    "price_df['DAM_Purchase_Bid'] = pd.to_numeric(price_df['DAM_Purchase_Bid'], errors='coerce')\n",
    "price_df['DAM_Selling_Bid'] = pd.to_numeric(price_df['DAM_Selling_Bid'], errors='coerce')\n",
    "price_df['Demand'] = pd.to_numeric(price_df['Demand'], errors='coerce')"
   ]
  },
  {
   "cell_type": "code",
   "execution_count": 60,
   "metadata": {
    "colab": {
     "base_uri": "https://localhost:8080/",
     "height": 309
    },
    "id": "FlIjXOGetwcX",
    "outputId": "39590412-45ee-4a41-c70c-d29d5ea50b02"
   },
   "outputs": [
    {
     "data": {
      "text/html": [
       "<div>\n",
       "<style scoped>\n",
       "    .dataframe tbody tr th:only-of-type {\n",
       "        vertical-align: middle;\n",
       "    }\n",
       "\n",
       "    .dataframe tbody tr th {\n",
       "        vertical-align: top;\n",
       "    }\n",
       "\n",
       "    .dataframe thead th {\n",
       "        text-align: right;\n",
       "    }\n",
       "</style>\n",
       "<table border=\"1\" class=\"dataframe\">\n",
       "  <thead>\n",
       "    <tr style=\"text-align: right;\">\n",
       "      <th></th>\n",
       "      <th>Date</th>\n",
       "      <th>Timeblock</th>\n",
       "      <th>DAM_Price</th>\n",
       "      <th>RTM_Price</th>\n",
       "      <th>RTM_Purchase_Bid</th>\n",
       "      <th>RTM_Selling_Bid</th>\n",
       "      <th>DAM_Purchase_Bid</th>\n",
       "      <th>DAM_Selling_Bid</th>\n",
       "      <th>Demand</th>\n",
       "      <th>Holiday</th>\n",
       "    </tr>\n",
       "  </thead>\n",
       "  <tbody>\n",
       "    <tr>\n",
       "      <th>0</th>\n",
       "      <td>2020-01-08</td>\n",
       "      <td>1</td>\n",
       "      <td>2350.94</td>\n",
       "      <td>2900.83</td>\n",
       "      <td>1516.4</td>\n",
       "      <td>2431.6</td>\n",
       "      <td>8401.3</td>\n",
       "      <td>9522.2</td>\n",
       "      <td>160750</td>\n",
       "      <td>0</td>\n",
       "    </tr>\n",
       "    <tr>\n",
       "      <th>1</th>\n",
       "      <td>2020-01-08</td>\n",
       "      <td>2</td>\n",
       "      <td>2500.38</td>\n",
       "      <td>2900.22</td>\n",
       "      <td>1509.4</td>\n",
       "      <td>2558.0</td>\n",
       "      <td>8357.9</td>\n",
       "      <td>9583.2</td>\n",
       "      <td>160525</td>\n",
       "      <td>0</td>\n",
       "    </tr>\n",
       "    <tr>\n",
       "      <th>2</th>\n",
       "      <td>2020-01-08</td>\n",
       "      <td>3</td>\n",
       "      <td>2589.31</td>\n",
       "      <td>2599.48</td>\n",
       "      <td>1233.7</td>\n",
       "      <td>2698.3</td>\n",
       "      <td>8237.7</td>\n",
       "      <td>9579.2</td>\n",
       "      <td>156044</td>\n",
       "      <td>0</td>\n",
       "    </tr>\n",
       "    <tr>\n",
       "      <th>3</th>\n",
       "      <td>2020-01-08</td>\n",
       "      <td>4</td>\n",
       "      <td>2500.59</td>\n",
       "      <td>2589.91</td>\n",
       "      <td>1191.7</td>\n",
       "      <td>2770.8</td>\n",
       "      <td>7995.7</td>\n",
       "      <td>9747.2</td>\n",
       "      <td>155191</td>\n",
       "      <td>0</td>\n",
       "    </tr>\n",
       "    <tr>\n",
       "      <th>4</th>\n",
       "      <td>2020-01-08</td>\n",
       "      <td>5</td>\n",
       "      <td>2450.51</td>\n",
       "      <td>2599.61</td>\n",
       "      <td>1312.5</td>\n",
       "      <td>2725.9</td>\n",
       "      <td>7723.2</td>\n",
       "      <td>9924.2</td>\n",
       "      <td>153877</td>\n",
       "      <td>0</td>\n",
       "    </tr>\n",
       "  </tbody>\n",
       "</table>\n",
       "</div>"
      ],
      "text/plain": [
       "        Date  Timeblock  DAM_Price  RTM_Price  RTM_Purchase_Bid  \\\n",
       "0 2020-01-08          1    2350.94    2900.83            1516.4   \n",
       "1 2020-01-08          2    2500.38    2900.22            1509.4   \n",
       "2 2020-01-08          3    2589.31    2599.48            1233.7   \n",
       "3 2020-01-08          4    2500.59    2589.91            1191.7   \n",
       "4 2020-01-08          5    2450.51    2599.61            1312.5   \n",
       "\n",
       "   RTM_Selling_Bid  DAM_Purchase_Bid  DAM_Selling_Bid  Demand  Holiday  \n",
       "0           2431.6            8401.3           9522.2  160750        0  \n",
       "1           2558.0            8357.9           9583.2  160525        0  \n",
       "2           2698.3            8237.7           9579.2  156044        0  \n",
       "3           2770.8            7995.7           9747.2  155191        0  \n",
       "4           2725.9            7723.2           9924.2  153877        0  "
      ]
     },
     "execution_count": 60,
     "metadata": {},
     "output_type": "execute_result"
    }
   ],
   "source": [
    "# creating a column to track day of week and holidays\n",
    "price_df['Date'] = pd.to_datetime(price_df.Date)\n",
    "price_df['Day_of_week'] = price_df['Date'].dt.dayofweek\n",
    "\n",
    "# create a function to check if the day of week is a weekend\n",
    "def is_weekend(row):\n",
    "    if (row == 5) or (row == 6):\n",
    "        return 1\n",
    "    else:\n",
    "        return 0\n",
    "\n",
    "price_df['Holiday'] = price_df['Day_of_week'].apply(is_weekend)\n",
    "price_df = price_df.drop(columns=['Day_of_week'])\n",
    "price_df.head()"
   ]
  },
  {
   "cell_type": "code",
   "execution_count": 10,
   "metadata": {
    "colab": {
     "base_uri": "https://localhost:8080/"
    },
    "id": "J85g2w_6B9-m",
    "outputId": "6e5825c9-7c01-4ea1-9028-bbbee2f9c90b"
   },
   "outputs": [
    {
     "data": {
      "text/plain": [
       "0    15648\n",
       "1     6528\n",
       "Name: Holiday, dtype: int64"
      ]
     },
     "execution_count": 10,
     "metadata": {},
     "output_type": "execute_result"
    }
   ],
   "source": [
    "price_df.Holiday.value_counts()"
   ]
  },
  {
   "cell_type": "code",
   "execution_count": 11,
   "metadata": {
    "colab": {
     "base_uri": "https://localhost:8080/"
    },
    "id": "CWTGEyAHuLO8",
    "outputId": "f9cc36ba-d653-4437-eded-4b4f556f354d"
   },
   "outputs": [
    {
     "data": {
      "text/plain": [
       "Date                  0\n",
       "Timeblock             0\n",
       "DAM_Price             0\n",
       "RTM_Price           103\n",
       "RTM_Purchase_Bid     88\n",
       "RTM_Selling_Bid      88\n",
       "DAM_Purchase_Bid      0\n",
       "DAM_Selling_Bid       0\n",
       "Demand                0\n",
       "Holiday               0\n",
       "dtype: int64"
      ]
     },
     "execution_count": 11,
     "metadata": {},
     "output_type": "execute_result"
    }
   ],
   "source": [
    "# check for missing values in price dataset\n",
    "price_df.isna().sum()"
   ]
  },
  {
   "cell_type": "code",
   "execution_count": 12,
   "metadata": {
    "id": "FUCVPH8wufry"
   },
   "outputs": [],
   "source": [
    "# Assign special days as a value of 2\n",
    "price_df.loc[price_df.Date == datetime.datetime(2020,8,15,0,0,0), 'Holiday'] = 2 #Independence Day\n",
    "price_df.loc[price_df.Date == datetime.datetime(2020,8,1,0,0,0), 'Holiday'] = 2 #Eid\n",
    "price_df.loc[price_df.Date == datetime.datetime(2020,8,3,0,0,0), 'Holiday'] = 2 #RakshaBandhan\n",
    "price_df.loc[price_df.Date == datetime.datetime(2020,8,12,0,0,0), 'Holiday'] = 2 #Janmashtami\n",
    "price_df.loc[price_df.Date == datetime.datetime(2020,8,22,0,0,0), 'Holiday'] = 2 #Ganesh Puja\n",
    "price_df.loc[price_df.Date == datetime.datetime(2020,8,31,0,0,0), 'Holiday'] = 2 #Onam\n",
    "price_df.loc[price_df.Date == datetime.datetime(2020,10,2,0,0,0), 'Holiday'] = 2 #Gandhi Jayanti\n",
    "price_df.loc[price_df.Date == datetime.datetime(2020,10,25,0,0,0), 'Holiday'] = 2 #Dusshera\n",
    "price_df.loc[price_df.Date == datetime.datetime(2020,10,30,0,0,0), 'Holiday'] = 2 #Good Friday\n",
    "price_df.loc[price_df.Date == datetime.datetime(2020,11,14,0,0,0), 'Holiday'] = 2 #Diwali\n",
    "price_df.loc[price_df.Date == datetime.datetime(2020,12,25,0,0,0), 'Holiday'] = 2 #Christmas\n",
    "price_df.loc[price_df.Date == datetime.datetime(2020,12,31,0,0,0), 'Holiday'] = 2 #New Year"
   ]
  },
  {
   "cell_type": "code",
   "execution_count": 13,
   "metadata": {
    "colab": {
     "base_uri": "https://localhost:8080/"
    },
    "id": "xmAs0wZaCHaa",
    "outputId": "fe412857-aa56-46d4-b174-9b9d70cd6b4c"
   },
   "outputs": [
    {
     "data": {
      "text/plain": [
       "0    15264\n",
       "1     6240\n",
       "2      672\n",
       "Name: Holiday, dtype: int64"
      ]
     },
     "execution_count": 13,
     "metadata": {},
     "output_type": "execute_result"
    }
   ],
   "source": [
    "price_df.Holiday.value_counts()"
   ]
  },
  {
   "cell_type": "code",
   "execution_count": 14,
   "metadata": {
    "id": "HxEVrmk9u1I-"
   },
   "outputs": [],
   "source": [
    "# create two dataframe to hold values\n",
    "df1 = pd.DataFrame()\n",
    "df2 = pd.DataFrame()"
   ]
  },
  {
   "cell_type": "code",
   "execution_count": 15,
   "metadata": {
    "colab": {
     "base_uri": "https://localhost:8080/",
     "height": 309
    },
    "id": "Fj5E--_c_sPI",
    "outputId": "91367a3c-692e-4c88-eb84-1b736b8e6ea9"
   },
   "outputs": [
    {
     "data": {
      "text/html": [
       "<div>\n",
       "<style scoped>\n",
       "    .dataframe tbody tr th:only-of-type {\n",
       "        vertical-align: middle;\n",
       "    }\n",
       "\n",
       "    .dataframe tbody tr th {\n",
       "        vertical-align: top;\n",
       "    }\n",
       "\n",
       "    .dataframe thead th {\n",
       "        text-align: right;\n",
       "    }\n",
       "</style>\n",
       "<table border=\"1\" class=\"dataframe\">\n",
       "  <thead>\n",
       "    <tr style=\"text-align: right;\">\n",
       "      <th></th>\n",
       "      <th>Date</th>\n",
       "      <th>Timeblock</th>\n",
       "      <th>DAM_Price</th>\n",
       "      <th>RTM_Price</th>\n",
       "      <th>RTM_Purchase_Bid</th>\n",
       "      <th>RTM_Selling_Bid</th>\n",
       "      <th>DAM_Purchase_Bid</th>\n",
       "      <th>DAM_Selling_Bid</th>\n",
       "      <th>Demand</th>\n",
       "      <th>Holiday</th>\n",
       "    </tr>\n",
       "  </thead>\n",
       "  <tbody>\n",
       "    <tr>\n",
       "      <th>672</th>\n",
       "      <td>2020-06-10</td>\n",
       "      <td>1</td>\n",
       "      <td>2700.90</td>\n",
       "      <td>4001.37</td>\n",
       "      <td>2691.2</td>\n",
       "      <td>1075.8</td>\n",
       "      <td>8516.6</td>\n",
       "      <td>9224.9</td>\n",
       "      <td>150689</td>\n",
       "      <td>0</td>\n",
       "    </tr>\n",
       "    <tr>\n",
       "      <th>673</th>\n",
       "      <td>2020-06-10</td>\n",
       "      <td>2</td>\n",
       "      <td>2699.22</td>\n",
       "      <td>4000.57</td>\n",
       "      <td>2640.2</td>\n",
       "      <td>1242.5</td>\n",
       "      <td>8285.1</td>\n",
       "      <td>9287.6</td>\n",
       "      <td>150607</td>\n",
       "      <td>0</td>\n",
       "    </tr>\n",
       "    <tr>\n",
       "      <th>674</th>\n",
       "      <td>2020-06-10</td>\n",
       "      <td>3</td>\n",
       "      <td>2599.16</td>\n",
       "      <td>3989.51</td>\n",
       "      <td>2372.2</td>\n",
       "      <td>1467.5</td>\n",
       "      <td>8060.1</td>\n",
       "      <td>9487.9</td>\n",
       "      <td>149732</td>\n",
       "      <td>0</td>\n",
       "    </tr>\n",
       "    <tr>\n",
       "      <th>675</th>\n",
       "      <td>2020-06-10</td>\n",
       "      <td>4</td>\n",
       "      <td>2600.64</td>\n",
       "      <td>3989.39</td>\n",
       "      <td>2340.2</td>\n",
       "      <td>1456.0</td>\n",
       "      <td>8118.1</td>\n",
       "      <td>9581.9</td>\n",
       "      <td>149150</td>\n",
       "      <td>0</td>\n",
       "    </tr>\n",
       "    <tr>\n",
       "      <th>676</th>\n",
       "      <td>2020-06-10</td>\n",
       "      <td>5</td>\n",
       "      <td>2639.71</td>\n",
       "      <td>3500.21</td>\n",
       "      <td>1624.3</td>\n",
       "      <td>1222.2</td>\n",
       "      <td>8202.6</td>\n",
       "      <td>9687.9</td>\n",
       "      <td>147983</td>\n",
       "      <td>0</td>\n",
       "    </tr>\n",
       "  </tbody>\n",
       "</table>\n",
       "</div>"
      ],
      "text/plain": [
       "          Date  Timeblock  DAM_Price  RTM_Price  RTM_Purchase_Bid  \\\n",
       "672 2020-06-10          1    2700.90    4001.37            2691.2   \n",
       "673 2020-06-10          2    2699.22    4000.57            2640.2   \n",
       "674 2020-06-10          3    2599.16    3989.51            2372.2   \n",
       "675 2020-06-10          4    2600.64    3989.39            2340.2   \n",
       "676 2020-06-10          5    2639.71    3500.21            1624.3   \n",
       "\n",
       "     RTM_Selling_Bid  DAM_Purchase_Bid  DAM_Selling_Bid  Demand  Holiday  \n",
       "672           1075.8            8516.6           9224.9  150689        0  \n",
       "673           1242.5            8285.1           9287.6  150607        0  \n",
       "674           1467.5            8060.1           9487.9  149732        0  \n",
       "675           1456.0            8118.1           9581.9  149150        0  \n",
       "676           1222.2            8202.6           9687.9  147983        0  "
      ]
     },
     "execution_count": 15,
     "metadata": {},
     "output_type": "execute_result"
    }
   ],
   "source": [
    "price_df[672:].head()"
   ]
  },
  {
   "cell_type": "code",
   "execution_count": 16,
   "metadata": {
    "id": "7llkLnTf_jgE"
   },
   "outputs": [],
   "source": [
    "# starting from 10th of June\n",
    "june10_index = 672\n",
    "df1['Timeblock'] = price_df['Timeblock'][june10_index:]\n",
    "df1['Holiday'] = price_df['Holiday'][june10_index:]\n",
    "df1['DAM_Price'] = price_df['DAM_Price'][june10_index:]\n",
    "df1['DAM_Purchase_Bid'] = price_df['DAM_Purchase_Bid'][june10_index:]\n",
    "df1['DAM_Selling_Bid'] = price_df['DAM_Selling_Bid'][june10_index:]\n",
    "df1['RTM_Price_SD'] = price_df['RTM_Price'][june10_index:]"
   ]
  },
  {
   "cell_type": "code",
   "execution_count": 17,
   "metadata": {
    "colab": {
     "base_uri": "https://localhost:8080/",
     "height": 309
    },
    "id": "IklKpZ_GARAa",
    "outputId": "d3fb21ea-54b9-48b7-c8ce-6bdc35ff302f"
   },
   "outputs": [
    {
     "data": {
      "text/html": [
       "<div>\n",
       "<style scoped>\n",
       "    .dataframe tbody tr th:only-of-type {\n",
       "        vertical-align: middle;\n",
       "    }\n",
       "\n",
       "    .dataframe tbody tr th {\n",
       "        vertical-align: top;\n",
       "    }\n",
       "\n",
       "    .dataframe thead th {\n",
       "        text-align: right;\n",
       "    }\n",
       "</style>\n",
       "<table border=\"1\" class=\"dataframe\">\n",
       "  <thead>\n",
       "    <tr style=\"text-align: right;\">\n",
       "      <th></th>\n",
       "      <th>Date</th>\n",
       "      <th>Timeblock</th>\n",
       "      <th>DAM_Price</th>\n",
       "      <th>RTM_Price</th>\n",
       "      <th>RTM_Purchase_Bid</th>\n",
       "      <th>RTM_Selling_Bid</th>\n",
       "      <th>DAM_Purchase_Bid</th>\n",
       "      <th>DAM_Selling_Bid</th>\n",
       "      <th>Demand</th>\n",
       "      <th>Holiday</th>\n",
       "    </tr>\n",
       "  </thead>\n",
       "  <tbody>\n",
       "    <tr>\n",
       "      <th>21499</th>\n",
       "      <td>2021-01-12</td>\n",
       "      <td>92</td>\n",
       "      <td>2349.18</td>\n",
       "      <td>2619.10</td>\n",
       "      <td>1448.4</td>\n",
       "      <td>5003.3</td>\n",
       "      <td>5907.7</td>\n",
       "      <td>13820.2</td>\n",
       "      <td>134938</td>\n",
       "      <td>0</td>\n",
       "    </tr>\n",
       "    <tr>\n",
       "      <th>21500</th>\n",
       "      <td>2021-01-12</td>\n",
       "      <td>93</td>\n",
       "      <td>2399.68</td>\n",
       "      <td>2400.38</td>\n",
       "      <td>1218.1</td>\n",
       "      <td>5380.0</td>\n",
       "      <td>6132.7</td>\n",
       "      <td>13900.3</td>\n",
       "      <td>133046</td>\n",
       "      <td>0</td>\n",
       "    </tr>\n",
       "    <tr>\n",
       "      <th>21501</th>\n",
       "      <td>2021-01-12</td>\n",
       "      <td>94</td>\n",
       "      <td>2411.29</td>\n",
       "      <td>2499.21</td>\n",
       "      <td>1213.1</td>\n",
       "      <td>5357.0</td>\n",
       "      <td>6420.1</td>\n",
       "      <td>13457.3</td>\n",
       "      <td>131531</td>\n",
       "      <td>0</td>\n",
       "    </tr>\n",
       "    <tr>\n",
       "      <th>21502</th>\n",
       "      <td>2021-01-12</td>\n",
       "      <td>95</td>\n",
       "      <td>2324.79</td>\n",
       "      <td>1799.96</td>\n",
       "      <td>1158.7</td>\n",
       "      <td>5702.5</td>\n",
       "      <td>6463.6</td>\n",
       "      <td>13903.9</td>\n",
       "      <td>130332</td>\n",
       "      <td>0</td>\n",
       "    </tr>\n",
       "    <tr>\n",
       "      <th>21503</th>\n",
       "      <td>2021-01-12</td>\n",
       "      <td>96</td>\n",
       "      <td>2249.00</td>\n",
       "      <td>1799.43</td>\n",
       "      <td>1039.0</td>\n",
       "      <td>5786.5</td>\n",
       "      <td>6642.5</td>\n",
       "      <td>13667.9</td>\n",
       "      <td>128852</td>\n",
       "      <td>0</td>\n",
       "    </tr>\n",
       "  </tbody>\n",
       "</table>\n",
       "</div>"
      ],
      "text/plain": [
       "            Date  Timeblock  DAM_Price  RTM_Price  RTM_Purchase_Bid  \\\n",
       "21499 2021-01-12         92    2349.18    2619.10            1448.4   \n",
       "21500 2021-01-12         93    2399.68    2400.38            1218.1   \n",
       "21501 2021-01-12         94    2411.29    2499.21            1213.1   \n",
       "21502 2021-01-12         95    2324.79    1799.96            1158.7   \n",
       "21503 2021-01-12         96    2249.00    1799.43            1039.0   \n",
       "\n",
       "       RTM_Selling_Bid  DAM_Purchase_Bid  DAM_Selling_Bid  Demand  Holiday  \n",
       "21499           5003.3            5907.7          13820.2  134938        0  \n",
       "21500           5380.0            6132.7          13900.3  133046        0  \n",
       "21501           5357.0            6420.1          13457.3  131531        0  \n",
       "21502           5702.5            6463.6          13903.9  130332        0  \n",
       "21503           5786.5            6642.5          13667.9  128852        0  "
      ]
     },
     "execution_count": 17,
     "metadata": {},
     "output_type": "execute_result"
    }
   ],
   "source": [
    "price_df[:-672].tail()"
   ]
  },
  {
   "cell_type": "code",
   "execution_count": 18,
   "metadata": {
    "colab": {
     "base_uri": "https://localhost:8080/",
     "height": 222
    },
    "id": "1-0Fd1qsADKw",
    "outputId": "a671fb99-b586-41a8-a005-cee3874214cc"
   },
   "outputs": [
    {
     "data": {
      "text/html": [
       "<div>\n",
       "<style scoped>\n",
       "    .dataframe tbody tr th:only-of-type {\n",
       "        vertical-align: middle;\n",
       "    }\n",
       "\n",
       "    .dataframe tbody tr th {\n",
       "        vertical-align: top;\n",
       "    }\n",
       "\n",
       "    .dataframe thead th {\n",
       "        text-align: right;\n",
       "    }\n",
       "</style>\n",
       "<table border=\"1\" class=\"dataframe\">\n",
       "  <thead>\n",
       "    <tr style=\"text-align: right;\">\n",
       "      <th></th>\n",
       "      <th>Timeblock</th>\n",
       "      <th>Holiday</th>\n",
       "      <th>DAM_Price</th>\n",
       "      <th>DAM_Purchase_Bid</th>\n",
       "      <th>DAM_Selling_Bid</th>\n",
       "      <th>RTM_Price_SD</th>\n",
       "      <th>RTM_Price_SDLW</th>\n",
       "      <th>RTM_Purchase_Bid_SDLW</th>\n",
       "      <th>RTM_Selling_Bid_SDLW</th>\n",
       "    </tr>\n",
       "  </thead>\n",
       "  <tbody>\n",
       "    <tr>\n",
       "      <th>0</th>\n",
       "      <td>1</td>\n",
       "      <td>0</td>\n",
       "      <td>2700.90</td>\n",
       "      <td>8516.6</td>\n",
       "      <td>9224.9</td>\n",
       "      <td>4001.37</td>\n",
       "      <td>1700.86</td>\n",
       "      <td>519.6</td>\n",
       "      <td>2400.0</td>\n",
       "    </tr>\n",
       "    <tr>\n",
       "      <th>1</th>\n",
       "      <td>2</td>\n",
       "      <td>0</td>\n",
       "      <td>2699.22</td>\n",
       "      <td>8285.1</td>\n",
       "      <td>9287.6</td>\n",
       "      <td>4000.57</td>\n",
       "      <td>1876.17</td>\n",
       "      <td>533.1</td>\n",
       "      <td>2252.4</td>\n",
       "    </tr>\n",
       "    <tr>\n",
       "      <th>2</th>\n",
       "      <td>3</td>\n",
       "      <td>0</td>\n",
       "      <td>2599.16</td>\n",
       "      <td>8060.1</td>\n",
       "      <td>9487.9</td>\n",
       "      <td>3989.51</td>\n",
       "      <td>1749.68</td>\n",
       "      <td>433.1</td>\n",
       "      <td>2331.1</td>\n",
       "    </tr>\n",
       "    <tr>\n",
       "      <th>3</th>\n",
       "      <td>4</td>\n",
       "      <td>0</td>\n",
       "      <td>2600.64</td>\n",
       "      <td>8118.1</td>\n",
       "      <td>9581.9</td>\n",
       "      <td>3989.39</td>\n",
       "      <td>1749.44</td>\n",
       "      <td>419.6</td>\n",
       "      <td>2296.3</td>\n",
       "    </tr>\n",
       "    <tr>\n",
       "      <th>4</th>\n",
       "      <td>5</td>\n",
       "      <td>0</td>\n",
       "      <td>2639.71</td>\n",
       "      <td>8202.6</td>\n",
       "      <td>9687.9</td>\n",
       "      <td>3500.21</td>\n",
       "      <td>1930.72</td>\n",
       "      <td>700.5</td>\n",
       "      <td>2247.5</td>\n",
       "    </tr>\n",
       "  </tbody>\n",
       "</table>\n",
       "</div>"
      ],
      "text/plain": [
       "   Timeblock  Holiday  DAM_Price  DAM_Purchase_Bid  DAM_Selling_Bid  \\\n",
       "0          1        0    2700.90            8516.6           9224.9   \n",
       "1          2        0    2699.22            8285.1           9287.6   \n",
       "2          3        0    2599.16            8060.1           9487.9   \n",
       "3          4        0    2600.64            8118.1           9581.9   \n",
       "4          5        0    2639.71            8202.6           9687.9   \n",
       "\n",
       "   RTM_Price_SD  RTM_Price_SDLW  RTM_Purchase_Bid_SDLW  RTM_Selling_Bid_SDLW  \n",
       "0       4001.37         1700.86                  519.6                2400.0  \n",
       "1       4000.57         1876.17                  533.1                2252.4  \n",
       "2       3989.51         1749.68                  433.1                2331.1  \n",
       "3       3989.39         1749.44                  419.6                2296.3  \n",
       "4       3500.21         1930.72                  700.5                2247.5  "
      ]
     },
     "execution_count": 18,
     "metadata": {},
     "output_type": "execute_result"
    }
   ],
   "source": [
    "df1.reset_index(inplace = True)\n",
    "df1 = df1.drop(['index'], axis = 1)\n",
    "\n",
    "last_wkday_index = -672\n",
    "#Taking stats from same day last week(Same day is 10th June so starting same day last week is 3rd June)\n",
    "df1['RTM_Price_SDLW'] = price_df['RTM_Price'][:last_wkday_index]\n",
    "df1['RTM_Purchase_Bid_SDLW'] = price_df['RTM_Purchase_Bid'][:last_wkday_index]\n",
    "df1['RTM_Selling_Bid_SDLW'] = price_df['RTM_Selling_Bid'][:last_wkday_index]\n",
    "df1.head()"
   ]
  },
  {
   "cell_type": "code",
   "execution_count": 19,
   "metadata": {
    "colab": {
     "base_uri": "https://localhost:8080/",
     "height": 202
    },
    "id": "eu-H-iNqC1aE",
    "outputId": "b7262baf-189e-4b36-c815-36b5a130a7df"
   },
   "outputs": [
    {
     "data": {
      "text/html": [
       "<div>\n",
       "<style scoped>\n",
       "    .dataframe tbody tr th:only-of-type {\n",
       "        vertical-align: middle;\n",
       "    }\n",
       "\n",
       "    .dataframe tbody tr th {\n",
       "        vertical-align: top;\n",
       "    }\n",
       "\n",
       "    .dataframe thead th {\n",
       "        text-align: right;\n",
       "    }\n",
       "</style>\n",
       "<table border=\"1\" class=\"dataframe\">\n",
       "  <thead>\n",
       "    <tr style=\"text-align: right;\">\n",
       "      <th></th>\n",
       "      <th>RTM_Price_PD</th>\n",
       "      <th>RTM_Purchase_Bid_PD</th>\n",
       "      <th>RTM_Selling_Bid_PD</th>\n",
       "    </tr>\n",
       "  </thead>\n",
       "  <tbody>\n",
       "    <tr>\n",
       "      <th>0</th>\n",
       "      <td>3895.58</td>\n",
       "      <td>2917.2</td>\n",
       "      <td>1150.1</td>\n",
       "    </tr>\n",
       "    <tr>\n",
       "      <th>1</th>\n",
       "      <td>3586.93</td>\n",
       "      <td>2865.2</td>\n",
       "      <td>1230.1</td>\n",
       "    </tr>\n",
       "    <tr>\n",
       "      <th>2</th>\n",
       "      <td>3000.80</td>\n",
       "      <td>2120.5</td>\n",
       "      <td>1575.8</td>\n",
       "    </tr>\n",
       "    <tr>\n",
       "      <th>3</th>\n",
       "      <td>3000.76</td>\n",
       "      <td>2080.5</td>\n",
       "      <td>1572.8</td>\n",
       "    </tr>\n",
       "    <tr>\n",
       "      <th>4</th>\n",
       "      <td>2760.75</td>\n",
       "      <td>1444.5</td>\n",
       "      <td>1498.2</td>\n",
       "    </tr>\n",
       "  </tbody>\n",
       "</table>\n",
       "</div>"
      ],
      "text/plain": [
       "   RTM_Price_PD  RTM_Purchase_Bid_PD  RTM_Selling_Bid_PD\n",
       "0       3895.58               2917.2              1150.1\n",
       "1       3586.93               2865.2              1230.1\n",
       "2       3000.80               2120.5              1575.8\n",
       "3       3000.76               2080.5              1572.8\n",
       "4       2760.75               1444.5              1498.2"
      ]
     },
     "execution_count": 19,
     "metadata": {},
     "output_type": "execute_result"
    }
   ],
   "source": [
    "#Taking stats from previous day(Same day is 10th June so previous day starts from 9th June)\n",
    "june9_index = 576\n",
    "df2['RTM_Price_PD'] = price_df['RTM_Price'][june9_index:-96]\n",
    "df2['RTM_Purchase_Bid_PD'] = price_df['RTM_Purchase_Bid'][june9_index:-96]\n",
    "df2['RTM_Selling_Bid_PD'] = price_df['RTM_Selling_Bid'][june9_index:-96]\n",
    "df2.reset_index(inplace = True)\n",
    "df2.drop('index', axis=1, inplace=True)\n",
    "df2.head()"
   ]
  },
  {
   "cell_type": "code",
   "execution_count": 20,
   "metadata": {
    "colab": {
     "base_uri": "https://localhost:8080/"
    },
    "id": "oDDIOfNJEKLB",
    "outputId": "b82c59d8-0e49-4c93-bd7c-005f8a7fc7ef"
   },
   "outputs": [
    {
     "data": {
      "text/plain": [
       "((21504, 9), (21504, 3))"
      ]
     },
     "execution_count": 20,
     "metadata": {},
     "output_type": "execute_result"
    }
   ],
   "source": [
    "# check shapes of both dataframes\n",
    "df1.shape, df2.shape"
   ]
  },
  {
   "cell_type": "code",
   "execution_count": 21,
   "metadata": {
    "colab": {
     "base_uri": "https://localhost:8080/",
     "height": 222
    },
    "id": "T6Bt0WnuErTg",
    "outputId": "d6edd66f-4f04-4cbb-8756-59085af4a4a9"
   },
   "outputs": [
    {
     "data": {
      "text/html": [
       "<div>\n",
       "<style scoped>\n",
       "    .dataframe tbody tr th:only-of-type {\n",
       "        vertical-align: middle;\n",
       "    }\n",
       "\n",
       "    .dataframe tbody tr th {\n",
       "        vertical-align: top;\n",
       "    }\n",
       "\n",
       "    .dataframe thead th {\n",
       "        text-align: right;\n",
       "    }\n",
       "</style>\n",
       "<table border=\"1\" class=\"dataframe\">\n",
       "  <thead>\n",
       "    <tr style=\"text-align: right;\">\n",
       "      <th></th>\n",
       "      <th>Timeblock</th>\n",
       "      <th>Holiday</th>\n",
       "      <th>DAM_Price</th>\n",
       "      <th>DAM_Purchase_Bid</th>\n",
       "      <th>DAM_Selling_Bid</th>\n",
       "      <th>RTM_Price_PD</th>\n",
       "      <th>RTM_Purchase_Bid_PD</th>\n",
       "      <th>RTM_Selling_Bid_PD</th>\n",
       "      <th>RTM_Price_SDLW</th>\n",
       "      <th>RTM_Purchase_Bid_SDLW</th>\n",
       "      <th>RTM_Selling_Bid_SDLW</th>\n",
       "      <th>RTM_Price_SD</th>\n",
       "    </tr>\n",
       "  </thead>\n",
       "  <tbody>\n",
       "    <tr>\n",
       "      <th>0</th>\n",
       "      <td>1</td>\n",
       "      <td>0</td>\n",
       "      <td>2700.90</td>\n",
       "      <td>8516.6</td>\n",
       "      <td>9224.9</td>\n",
       "      <td>3895.58</td>\n",
       "      <td>2917.2</td>\n",
       "      <td>1150.1</td>\n",
       "      <td>1700.86</td>\n",
       "      <td>519.6</td>\n",
       "      <td>2400.0</td>\n",
       "      <td>4001.37</td>\n",
       "    </tr>\n",
       "    <tr>\n",
       "      <th>1</th>\n",
       "      <td>2</td>\n",
       "      <td>0</td>\n",
       "      <td>2699.22</td>\n",
       "      <td>8285.1</td>\n",
       "      <td>9287.6</td>\n",
       "      <td>3586.93</td>\n",
       "      <td>2865.2</td>\n",
       "      <td>1230.1</td>\n",
       "      <td>1876.17</td>\n",
       "      <td>533.1</td>\n",
       "      <td>2252.4</td>\n",
       "      <td>4000.57</td>\n",
       "    </tr>\n",
       "    <tr>\n",
       "      <th>2</th>\n",
       "      <td>3</td>\n",
       "      <td>0</td>\n",
       "      <td>2599.16</td>\n",
       "      <td>8060.1</td>\n",
       "      <td>9487.9</td>\n",
       "      <td>3000.80</td>\n",
       "      <td>2120.5</td>\n",
       "      <td>1575.8</td>\n",
       "      <td>1749.68</td>\n",
       "      <td>433.1</td>\n",
       "      <td>2331.1</td>\n",
       "      <td>3989.51</td>\n",
       "    </tr>\n",
       "    <tr>\n",
       "      <th>3</th>\n",
       "      <td>4</td>\n",
       "      <td>0</td>\n",
       "      <td>2600.64</td>\n",
       "      <td>8118.1</td>\n",
       "      <td>9581.9</td>\n",
       "      <td>3000.76</td>\n",
       "      <td>2080.5</td>\n",
       "      <td>1572.8</td>\n",
       "      <td>1749.44</td>\n",
       "      <td>419.6</td>\n",
       "      <td>2296.3</td>\n",
       "      <td>3989.39</td>\n",
       "    </tr>\n",
       "    <tr>\n",
       "      <th>4</th>\n",
       "      <td>5</td>\n",
       "      <td>0</td>\n",
       "      <td>2639.71</td>\n",
       "      <td>8202.6</td>\n",
       "      <td>9687.9</td>\n",
       "      <td>2760.75</td>\n",
       "      <td>1444.5</td>\n",
       "      <td>1498.2</td>\n",
       "      <td>1930.72</td>\n",
       "      <td>700.5</td>\n",
       "      <td>2247.5</td>\n",
       "      <td>3500.21</td>\n",
       "    </tr>\n",
       "  </tbody>\n",
       "</table>\n",
       "</div>"
      ],
      "text/plain": [
       "   Timeblock  Holiday  DAM_Price  DAM_Purchase_Bid  DAM_Selling_Bid  \\\n",
       "0          1        0    2700.90            8516.6           9224.9   \n",
       "1          2        0    2699.22            8285.1           9287.6   \n",
       "2          3        0    2599.16            8060.1           9487.9   \n",
       "3          4        0    2600.64            8118.1           9581.9   \n",
       "4          5        0    2639.71            8202.6           9687.9   \n",
       "\n",
       "   RTM_Price_PD  RTM_Purchase_Bid_PD  RTM_Selling_Bid_PD  RTM_Price_SDLW  \\\n",
       "0       3895.58               2917.2              1150.1         1700.86   \n",
       "1       3586.93               2865.2              1230.1         1876.17   \n",
       "2       3000.80               2120.5              1575.8         1749.68   \n",
       "3       3000.76               2080.5              1572.8         1749.44   \n",
       "4       2760.75               1444.5              1498.2         1930.72   \n",
       "\n",
       "   RTM_Purchase_Bid_SDLW  RTM_Selling_Bid_SDLW  RTM_Price_SD  \n",
       "0                  519.6                2400.0       4001.37  \n",
       "1                  533.1                2252.4       4000.57  \n",
       "2                  433.1                2331.1       3989.51  \n",
       "3                  419.6                2296.3       3989.39  \n",
       "4                  700.5                2247.5       3500.21  "
      ]
     },
     "execution_count": 21,
     "metadata": {},
     "output_type": "execute_result"
    }
   ],
   "source": [
    "df1['RTM_Price_PD'] = df2['RTM_Price_PD']\n",
    "df1['RTM_Purchase_Bid_PD'] = df2['RTM_Purchase_Bid_PD']\n",
    "df1['RTM_Selling_Bid_PD'] = df2['RTM_Selling_Bid_PD']\n",
    "\n",
    "df1 = df1[['Timeblock','Holiday','DAM_Price','DAM_Purchase_Bid','DAM_Selling_Bid','RTM_Price_PD',\n",
    "           'RTM_Purchase_Bid_PD','RTM_Selling_Bid_PD','RTM_Price_SDLW','RTM_Purchase_Bid_SDLW', \\\n",
    "           'RTM_Selling_Bid_SDLW', 'RTM_Price_SD']]\n",
    "\n",
    "df1.head()"
   ]
  },
  {
   "cell_type": "code",
   "execution_count": 22,
   "metadata": {
    "id": "wSq7CMoJFYhp"
   },
   "outputs": [],
   "source": [
    "\"\"\"\n",
    "demand_df['StateLoad'] = pd.to_numeric(demand_df['StateLoad'], errors='coerce')\n",
    "demand_df['StateLoad'].isna().sum()\n",
    "\n",
    "date_df = demand_df[['DataDate']]\n",
    "date_df = date_df.drop_duplicates()\n",
    "date_df.reset_index(inplace = True)\n",
    "date_df = date_df.drop(['index'], axis = 1)\n",
    "\n",
    "block_df = demand_df[['Block']]\n",
    "block_df = block_df.drop_duplicates()\n",
    "block_df = block_df.sort_values(by=['Block'])\n",
    "block_df.reset_index(inplace = True)\n",
    "block_df = block_df.drop(['index'], axis = 1)\n",
    "\n",
    "\n",
    "demand = []\n",
    "for i in date_df['DataDate']:\n",
    "    for j in block_df['Block']:\n",
    "        demand_sum = demand_df.loc[(demand_df['DataDate']==i) & (demand_df['Block']==j),'StateLoad'].sum()\n",
    "        demand.append(demand_sum)\n",
    "\n",
    "for i in range(len(demand)):\n",
    "    if demand[i] == 0:\n",
    "        demand[i] = demand[i-1]\n",
    "\n",
    "dm_df= pd.DataFrame({'Demand':demand})\n",
    "\"\"\"\n",
    "#Taking demand of previous day(Same day is 10th June so previous day starts from 9th June)\n",
    "\n",
    "df2= pd.DataFrame()\n",
    "df2['Demand PD'] = price_df['Demand'][768:-96]\n",
    "\n",
    "df2.reset_index(inplace = True)\n",
    "df2 = df2.drop(['index'], axis = 1)\n",
    "\n",
    "df1['Demand PD'] = df2['Demand PD']\n",
    "\n",
    "#Taking stats from same day last week(Same day is 10th June so starting same day last week is 3rd June)\n",
    "df2= pd.DataFrame()\n",
    "df2['Demand SDLW'] = price_df['Demand'][192:-672]\n",
    "\n",
    "df2.reset_index(inplace = True)\n",
    "df2 = df2.drop(['index'], axis = 1)\n",
    "\n",
    "df1['Demand SDLW'] = df2['Demand SDLW']\n",
    "\n",
    "        "
   ]
  },
  {
   "cell_type": "code",
   "execution_count": 23,
   "metadata": {
    "colab": {
     "base_uri": "https://localhost:8080/",
     "height": 239
    },
    "id": "-9DvHY04Gu3D",
    "outputId": "86a2511e-8db5-412b-dd60-fa63a2034703"
   },
   "outputs": [
    {
     "data": {
      "text/html": [
       "<div>\n",
       "<style scoped>\n",
       "    .dataframe tbody tr th:only-of-type {\n",
       "        vertical-align: middle;\n",
       "    }\n",
       "\n",
       "    .dataframe tbody tr th {\n",
       "        vertical-align: top;\n",
       "    }\n",
       "\n",
       "    .dataframe thead th {\n",
       "        text-align: right;\n",
       "    }\n",
       "</style>\n",
       "<table border=\"1\" class=\"dataframe\">\n",
       "  <thead>\n",
       "    <tr style=\"text-align: right;\">\n",
       "      <th></th>\n",
       "      <th>Timeblock</th>\n",
       "      <th>Holiday</th>\n",
       "      <th>DAM_Price</th>\n",
       "      <th>DAM_Purchase_Bid</th>\n",
       "      <th>DAM_Selling_Bid</th>\n",
       "      <th>RTM_Price_PD</th>\n",
       "      <th>RTM_Purchase_Bid_PD</th>\n",
       "      <th>RTM_Selling_Bid_PD</th>\n",
       "      <th>RTM_Price_SDLW</th>\n",
       "      <th>RTM_Purchase_Bid_SDLW</th>\n",
       "      <th>RTM_Selling_Bid_SDLW</th>\n",
       "      <th>RTM_Price_SD</th>\n",
       "      <th>Demand PD</th>\n",
       "      <th>Demand SDLW</th>\n",
       "    </tr>\n",
       "  </thead>\n",
       "  <tbody>\n",
       "    <tr>\n",
       "      <th>0</th>\n",
       "      <td>1</td>\n",
       "      <td>0</td>\n",
       "      <td>2700.90</td>\n",
       "      <td>8516.6</td>\n",
       "      <td>9224.9</td>\n",
       "      <td>3895.58</td>\n",
       "      <td>2917.2</td>\n",
       "      <td>1150.1</td>\n",
       "      <td>1700.86</td>\n",
       "      <td>519.6</td>\n",
       "      <td>2400.0</td>\n",
       "      <td>4001.37</td>\n",
       "      <td>147656.0</td>\n",
       "      <td>126810.0</td>\n",
       "    </tr>\n",
       "    <tr>\n",
       "      <th>1</th>\n",
       "      <td>2</td>\n",
       "      <td>0</td>\n",
       "      <td>2699.22</td>\n",
       "      <td>8285.1</td>\n",
       "      <td>9287.6</td>\n",
       "      <td>3586.93</td>\n",
       "      <td>2865.2</td>\n",
       "      <td>1230.1</td>\n",
       "      <td>1876.17</td>\n",
       "      <td>533.1</td>\n",
       "      <td>2252.4</td>\n",
       "      <td>4000.57</td>\n",
       "      <td>146825.0</td>\n",
       "      <td>126379.0</td>\n",
       "    </tr>\n",
       "    <tr>\n",
       "      <th>2</th>\n",
       "      <td>3</td>\n",
       "      <td>0</td>\n",
       "      <td>2599.16</td>\n",
       "      <td>8060.1</td>\n",
       "      <td>9487.9</td>\n",
       "      <td>3000.80</td>\n",
       "      <td>2120.5</td>\n",
       "      <td>1575.8</td>\n",
       "      <td>1749.68</td>\n",
       "      <td>433.1</td>\n",
       "      <td>2331.1</td>\n",
       "      <td>3989.51</td>\n",
       "      <td>145790.0</td>\n",
       "      <td>125192.0</td>\n",
       "    </tr>\n",
       "    <tr>\n",
       "      <th>3</th>\n",
       "      <td>4</td>\n",
       "      <td>0</td>\n",
       "      <td>2600.64</td>\n",
       "      <td>8118.1</td>\n",
       "      <td>9581.9</td>\n",
       "      <td>3000.76</td>\n",
       "      <td>2080.5</td>\n",
       "      <td>1572.8</td>\n",
       "      <td>1749.44</td>\n",
       "      <td>419.6</td>\n",
       "      <td>2296.3</td>\n",
       "      <td>3989.39</td>\n",
       "      <td>145339.0</td>\n",
       "      <td>124323.0</td>\n",
       "    </tr>\n",
       "    <tr>\n",
       "      <th>4</th>\n",
       "      <td>5</td>\n",
       "      <td>0</td>\n",
       "      <td>2639.71</td>\n",
       "      <td>8202.6</td>\n",
       "      <td>9687.9</td>\n",
       "      <td>2760.75</td>\n",
       "      <td>1444.5</td>\n",
       "      <td>1498.2</td>\n",
       "      <td>1930.72</td>\n",
       "      <td>700.5</td>\n",
       "      <td>2247.5</td>\n",
       "      <td>3500.21</td>\n",
       "      <td>144461.0</td>\n",
       "      <td>111357.0</td>\n",
       "    </tr>\n",
       "  </tbody>\n",
       "</table>\n",
       "</div>"
      ],
      "text/plain": [
       "   Timeblock  Holiday  DAM_Price  DAM_Purchase_Bid  DAM_Selling_Bid  \\\n",
       "0          1        0    2700.90            8516.6           9224.9   \n",
       "1          2        0    2699.22            8285.1           9287.6   \n",
       "2          3        0    2599.16            8060.1           9487.9   \n",
       "3          4        0    2600.64            8118.1           9581.9   \n",
       "4          5        0    2639.71            8202.6           9687.9   \n",
       "\n",
       "   RTM_Price_PD  RTM_Purchase_Bid_PD  RTM_Selling_Bid_PD  RTM_Price_SDLW  \\\n",
       "0       3895.58               2917.2              1150.1         1700.86   \n",
       "1       3586.93               2865.2              1230.1         1876.17   \n",
       "2       3000.80               2120.5              1575.8         1749.68   \n",
       "3       3000.76               2080.5              1572.8         1749.44   \n",
       "4       2760.75               1444.5              1498.2         1930.72   \n",
       "\n",
       "   RTM_Purchase_Bid_SDLW  RTM_Selling_Bid_SDLW  RTM_Price_SD  Demand PD  \\\n",
       "0                  519.6                2400.0       4001.37   147656.0   \n",
       "1                  533.1                2252.4       4000.57   146825.0   \n",
       "2                  433.1                2331.1       3989.51   145790.0   \n",
       "3                  419.6                2296.3       3989.39   145339.0   \n",
       "4                  700.5                2247.5       3500.21   144461.0   \n",
       "\n",
       "   Demand SDLW  \n",
       "0     126810.0  \n",
       "1     126379.0  \n",
       "2     125192.0  \n",
       "3     124323.0  \n",
       "4     111357.0  "
      ]
     },
     "execution_count": 23,
     "metadata": {},
     "output_type": "execute_result"
    }
   ],
   "source": [
    "df1.head()"
   ]
  },
  {
   "cell_type": "code",
   "execution_count": 24,
   "metadata": {
    "colab": {
     "base_uri": "https://localhost:8080/",
     "height": 222
    },
    "id": "qCiXAAlGJCc7",
    "outputId": "039d136f-2d62-4510-8fac-20e9b3233cad"
   },
   "outputs": [
    {
     "data": {
      "text/html": [
       "<div>\n",
       "<style scoped>\n",
       "    .dataframe tbody tr th:only-of-type {\n",
       "        vertical-align: middle;\n",
       "    }\n",
       "\n",
       "    .dataframe tbody tr th {\n",
       "        vertical-align: top;\n",
       "    }\n",
       "\n",
       "    .dataframe thead th {\n",
       "        text-align: right;\n",
       "    }\n",
       "</style>\n",
       "<table border=\"1\" class=\"dataframe\">\n",
       "  <thead>\n",
       "    <tr style=\"text-align: right;\">\n",
       "      <th></th>\n",
       "      <th>Timeblock</th>\n",
       "      <th>Holiday</th>\n",
       "      <th>DAM_Price</th>\n",
       "      <th>DAM_Purchase_Bid</th>\n",
       "      <th>DAM_Selling_Bid</th>\n",
       "      <th>RTM_Price_PD</th>\n",
       "      <th>RTM_Purchase_Bid_PD</th>\n",
       "      <th>RTM_Selling_Bid_PD</th>\n",
       "      <th>RTM_Price_SDLW</th>\n",
       "      <th>RTM_Purchase_Bid_SDLW</th>\n",
       "      <th>RTM_Selling_Bid_SDLW</th>\n",
       "      <th>RTM_Price_SD</th>\n",
       "      <th>Demand_PD</th>\n",
       "      <th>Demand_SDLW</th>\n",
       "    </tr>\n",
       "  </thead>\n",
       "  <tbody>\n",
       "    <tr>\n",
       "      <th>0</th>\n",
       "      <td>1</td>\n",
       "      <td>0</td>\n",
       "      <td>2700.90</td>\n",
       "      <td>8516.6</td>\n",
       "      <td>9224.9</td>\n",
       "      <td>3895.58</td>\n",
       "      <td>2917.2</td>\n",
       "      <td>1150.1</td>\n",
       "      <td>1700.86</td>\n",
       "      <td>519.6</td>\n",
       "      <td>2400.0</td>\n",
       "      <td>4001.37</td>\n",
       "      <td>147656.0</td>\n",
       "      <td>126810.0</td>\n",
       "    </tr>\n",
       "    <tr>\n",
       "      <th>1</th>\n",
       "      <td>2</td>\n",
       "      <td>0</td>\n",
       "      <td>2699.22</td>\n",
       "      <td>8285.1</td>\n",
       "      <td>9287.6</td>\n",
       "      <td>3586.93</td>\n",
       "      <td>2865.2</td>\n",
       "      <td>1230.1</td>\n",
       "      <td>1876.17</td>\n",
       "      <td>533.1</td>\n",
       "      <td>2252.4</td>\n",
       "      <td>4000.57</td>\n",
       "      <td>146825.0</td>\n",
       "      <td>126379.0</td>\n",
       "    </tr>\n",
       "    <tr>\n",
       "      <th>2</th>\n",
       "      <td>3</td>\n",
       "      <td>0</td>\n",
       "      <td>2599.16</td>\n",
       "      <td>8060.1</td>\n",
       "      <td>9487.9</td>\n",
       "      <td>3000.80</td>\n",
       "      <td>2120.5</td>\n",
       "      <td>1575.8</td>\n",
       "      <td>1749.68</td>\n",
       "      <td>433.1</td>\n",
       "      <td>2331.1</td>\n",
       "      <td>3989.51</td>\n",
       "      <td>145790.0</td>\n",
       "      <td>125192.0</td>\n",
       "    </tr>\n",
       "    <tr>\n",
       "      <th>3</th>\n",
       "      <td>4</td>\n",
       "      <td>0</td>\n",
       "      <td>2600.64</td>\n",
       "      <td>8118.1</td>\n",
       "      <td>9581.9</td>\n",
       "      <td>3000.76</td>\n",
       "      <td>2080.5</td>\n",
       "      <td>1572.8</td>\n",
       "      <td>1749.44</td>\n",
       "      <td>419.6</td>\n",
       "      <td>2296.3</td>\n",
       "      <td>3989.39</td>\n",
       "      <td>145339.0</td>\n",
       "      <td>124323.0</td>\n",
       "    </tr>\n",
       "    <tr>\n",
       "      <th>4</th>\n",
       "      <td>5</td>\n",
       "      <td>0</td>\n",
       "      <td>2639.71</td>\n",
       "      <td>8202.6</td>\n",
       "      <td>9687.9</td>\n",
       "      <td>2760.75</td>\n",
       "      <td>1444.5</td>\n",
       "      <td>1498.2</td>\n",
       "      <td>1930.72</td>\n",
       "      <td>700.5</td>\n",
       "      <td>2247.5</td>\n",
       "      <td>3500.21</td>\n",
       "      <td>144461.0</td>\n",
       "      <td>111357.0</td>\n",
       "    </tr>\n",
       "  </tbody>\n",
       "</table>\n",
       "</div>"
      ],
      "text/plain": [
       "   Timeblock  Holiday  DAM_Price  DAM_Purchase_Bid  DAM_Selling_Bid  \\\n",
       "0          1        0    2700.90            8516.6           9224.9   \n",
       "1          2        0    2699.22            8285.1           9287.6   \n",
       "2          3        0    2599.16            8060.1           9487.9   \n",
       "3          4        0    2600.64            8118.1           9581.9   \n",
       "4          5        0    2639.71            8202.6           9687.9   \n",
       "\n",
       "   RTM_Price_PD  RTM_Purchase_Bid_PD  RTM_Selling_Bid_PD  RTM_Price_SDLW  \\\n",
       "0       3895.58               2917.2              1150.1         1700.86   \n",
       "1       3586.93               2865.2              1230.1         1876.17   \n",
       "2       3000.80               2120.5              1575.8         1749.68   \n",
       "3       3000.76               2080.5              1572.8         1749.44   \n",
       "4       2760.75               1444.5              1498.2         1930.72   \n",
       "\n",
       "   RTM_Purchase_Bid_SDLW  RTM_Selling_Bid_SDLW  RTM_Price_SD  Demand_PD  \\\n",
       "0                  519.6                2400.0       4001.37   147656.0   \n",
       "1                  533.1                2252.4       4000.57   146825.0   \n",
       "2                  433.1                2331.1       3989.51   145790.0   \n",
       "3                  419.6                2296.3       3989.39   145339.0   \n",
       "4                  700.5                2247.5       3500.21   144461.0   \n",
       "\n",
       "   Demand_SDLW  \n",
       "0     126810.0  \n",
       "1     126379.0  \n",
       "2     125192.0  \n",
       "3     124323.0  \n",
       "4     111357.0  "
      ]
     },
     "execution_count": 24,
     "metadata": {},
     "output_type": "execute_result"
    }
   ],
   "source": [
    "df1 = df1.rename({'Demand PD': 'Demand_PD', 'Demand SDLW': 'Demand_SDLW'}, axis=1)\n",
    "df1.head()"
   ]
  },
  {
   "cell_type": "code",
   "execution_count": 25,
   "metadata": {
    "colab": {
     "base_uri": "https://localhost:8080/",
     "height": 222
    },
    "id": "VWR_6oxIJj7l",
    "outputId": "97d528c8-6db8-441b-c26b-7b465c19047c"
   },
   "outputs": [
    {
     "data": {
      "text/html": [
       "<div>\n",
       "<style scoped>\n",
       "    .dataframe tbody tr th:only-of-type {\n",
       "        vertical-align: middle;\n",
       "    }\n",
       "\n",
       "    .dataframe tbody tr th {\n",
       "        vertical-align: top;\n",
       "    }\n",
       "\n",
       "    .dataframe thead th {\n",
       "        text-align: right;\n",
       "    }\n",
       "</style>\n",
       "<table border=\"1\" class=\"dataframe\">\n",
       "  <thead>\n",
       "    <tr style=\"text-align: right;\">\n",
       "      <th></th>\n",
       "      <th>Timeblock</th>\n",
       "      <th>Holiday</th>\n",
       "      <th>DAM_Price</th>\n",
       "      <th>DAM_Purchase_Bid</th>\n",
       "      <th>DAM_Selling_Bid</th>\n",
       "      <th>RTM_Price_PD</th>\n",
       "      <th>RTM_Purchase_Bid_PD</th>\n",
       "      <th>RTM_Selling_Bid_PD</th>\n",
       "      <th>RTM_Price_SDLW</th>\n",
       "      <th>RTM_Purchase_Bid_SDLW</th>\n",
       "      <th>RTM_Selling_Bid_SDLW</th>\n",
       "      <th>RTM_Price_SD</th>\n",
       "      <th>Demand_PD</th>\n",
       "      <th>Demand_SDLW</th>\n",
       "    </tr>\n",
       "  </thead>\n",
       "  <tbody>\n",
       "    <tr>\n",
       "      <th>21499</th>\n",
       "      <td>92</td>\n",
       "      <td>0</td>\n",
       "      <td>2150.34</td>\n",
       "      <td>5543.8</td>\n",
       "      <td>13425.9</td>\n",
       "      <td>2589.38</td>\n",
       "      <td>1869.4</td>\n",
       "      <td>4375.9</td>\n",
       "      <td>2619.10</td>\n",
       "      <td>1448.4</td>\n",
       "      <td>5003.3</td>\n",
       "      <td>2669.49</td>\n",
       "      <td>NaN</td>\n",
       "      <td>NaN</td>\n",
       "    </tr>\n",
       "    <tr>\n",
       "      <th>21500</th>\n",
       "      <td>93</td>\n",
       "      <td>0</td>\n",
       "      <td>2099.44</td>\n",
       "      <td>5351.2</td>\n",
       "      <td>14851.1</td>\n",
       "      <td>2399.37</td>\n",
       "      <td>1905.2</td>\n",
       "      <td>5337.7</td>\n",
       "      <td>2400.38</td>\n",
       "      <td>1218.1</td>\n",
       "      <td>5380.0</td>\n",
       "      <td>2589.49</td>\n",
       "      <td>NaN</td>\n",
       "      <td>NaN</td>\n",
       "    </tr>\n",
       "    <tr>\n",
       "      <th>21501</th>\n",
       "      <td>94</td>\n",
       "      <td>0</td>\n",
       "      <td>2050.40</td>\n",
       "      <td>5313.1</td>\n",
       "      <td>15551.1</td>\n",
       "      <td>2249.86</td>\n",
       "      <td>1765.2</td>\n",
       "      <td>5438.7</td>\n",
       "      <td>2499.21</td>\n",
       "      <td>1213.1</td>\n",
       "      <td>5357.0</td>\n",
       "      <td>2579.87</td>\n",
       "      <td>NaN</td>\n",
       "      <td>NaN</td>\n",
       "    </tr>\n",
       "    <tr>\n",
       "      <th>21502</th>\n",
       "      <td>95</td>\n",
       "      <td>0</td>\n",
       "      <td>2118.23</td>\n",
       "      <td>5426.9</td>\n",
       "      <td>15568.7</td>\n",
       "      <td>2589.81</td>\n",
       "      <td>1785.2</td>\n",
       "      <td>4732.9</td>\n",
       "      <td>1799.96</td>\n",
       "      <td>1158.7</td>\n",
       "      <td>5702.5</td>\n",
       "      <td>2589.32</td>\n",
       "      <td>NaN</td>\n",
       "      <td>NaN</td>\n",
       "    </tr>\n",
       "    <tr>\n",
       "      <th>21503</th>\n",
       "      <td>96</td>\n",
       "      <td>0</td>\n",
       "      <td>2099.74</td>\n",
       "      <td>5636.2</td>\n",
       "      <td>15513.6</td>\n",
       "      <td>2579.28</td>\n",
       "      <td>1661.6</td>\n",
       "      <td>4815.7</td>\n",
       "      <td>1799.43</td>\n",
       "      <td>1039.0</td>\n",
       "      <td>5786.5</td>\n",
       "      <td>2579.70</td>\n",
       "      <td>NaN</td>\n",
       "      <td>NaN</td>\n",
       "    </tr>\n",
       "  </tbody>\n",
       "</table>\n",
       "</div>"
      ],
      "text/plain": [
       "       Timeblock  Holiday  DAM_Price  DAM_Purchase_Bid  DAM_Selling_Bid  \\\n",
       "21499         92        0    2150.34            5543.8          13425.9   \n",
       "21500         93        0    2099.44            5351.2          14851.1   \n",
       "21501         94        0    2050.40            5313.1          15551.1   \n",
       "21502         95        0    2118.23            5426.9          15568.7   \n",
       "21503         96        0    2099.74            5636.2          15513.6   \n",
       "\n",
       "       RTM_Price_PD  RTM_Purchase_Bid_PD  RTM_Selling_Bid_PD  RTM_Price_SDLW  \\\n",
       "21499       2589.38               1869.4              4375.9         2619.10   \n",
       "21500       2399.37               1905.2              5337.7         2400.38   \n",
       "21501       2249.86               1765.2              5438.7         2499.21   \n",
       "21502       2589.81               1785.2              4732.9         1799.96   \n",
       "21503       2579.28               1661.6              4815.7         1799.43   \n",
       "\n",
       "       RTM_Purchase_Bid_SDLW  RTM_Selling_Bid_SDLW  RTM_Price_SD  Demand_PD  \\\n",
       "21499                 1448.4                5003.3       2669.49        NaN   \n",
       "21500                 1218.1                5380.0       2589.49        NaN   \n",
       "21501                 1213.1                5357.0       2579.87        NaN   \n",
       "21502                 1158.7                5702.5       2589.32        NaN   \n",
       "21503                 1039.0                5786.5       2579.70        NaN   \n",
       "\n",
       "       Demand_SDLW  \n",
       "21499          NaN  \n",
       "21500          NaN  \n",
       "21501          NaN  \n",
       "21502          NaN  \n",
       "21503          NaN  "
      ]
     },
     "execution_count": 25,
     "metadata": {},
     "output_type": "execute_result"
    }
   ],
   "source": [
    "df1.tail()"
   ]
  },
  {
   "cell_type": "code",
   "execution_count": 26,
   "metadata": {
    "colab": {
     "base_uri": "https://localhost:8080/"
    },
    "id": "6ErUWr0lJppF",
    "outputId": "9f6a2865-5f26-46df-9b04-e9b1c5e22007"
   },
   "outputs": [
    {
     "data": {
      "text/plain": [
       "Timeblock                  0\n",
       "Holiday                    0\n",
       "DAM_Price                  0\n",
       "DAM_Purchase_Bid           0\n",
       "DAM_Selling_Bid            0\n",
       "RTM_Price_PD              79\n",
       "RTM_Purchase_Bid_PD       64\n",
       "RTM_Selling_Bid_PD        64\n",
       "RTM_Price_SDLW           101\n",
       "RTM_Purchase_Bid_SDLW     86\n",
       "RTM_Selling_Bid_SDLW      86\n",
       "RTM_Price_SD              79\n",
       "Demand_PD                192\n",
       "Demand_SDLW              192\n",
       "dtype: int64"
      ]
     },
     "execution_count": 26,
     "metadata": {},
     "output_type": "execute_result"
    }
   ],
   "source": [
    "# check the no of missing values in each column\n",
    "df1.isna().sum()"
   ]
  },
  {
   "cell_type": "code",
   "execution_count": 27,
   "metadata": {
    "colab": {
     "base_uri": "https://localhost:8080/"
    },
    "id": "6NF1Lb7MJ4Xd",
    "outputId": "92240e29-c513-48dd-f9fd-ac13a597e91b"
   },
   "outputs": [
    {
     "data": {
      "text/plain": [
       "Timeblock                0\n",
       "Holiday                  0\n",
       "DAM_Price                0\n",
       "DAM_Purchase_Bid         0\n",
       "DAM_Selling_Bid          0\n",
       "RTM_Price_PD             0\n",
       "RTM_Purchase_Bid_PD      0\n",
       "RTM_Selling_Bid_PD       0\n",
       "RTM_Price_SDLW           0\n",
       "RTM_Purchase_Bid_SDLW    0\n",
       "RTM_Selling_Bid_SDLW     0\n",
       "RTM_Price_SD             0\n",
       "Demand_PD                0\n",
       "Demand_SDLW              0\n",
       "dtype: int64"
      ]
     },
     "execution_count": 27,
     "metadata": {},
     "output_type": "execute_result"
    }
   ],
   "source": [
    "# filling the value from previous timeblock for all NaN or NA\n",
    "df1 = df1.ffill(axis = 0)\n",
    "df1.isna().sum()"
   ]
  },
  {
   "cell_type": "code",
   "execution_count": 28,
   "metadata": {
    "colab": {
     "base_uri": "https://localhost:8080/",
     "height": 565
    },
    "id": "B2x4shU0BmUf",
    "outputId": "c9dfd9e4-c38e-4a84-9765-a6a49f117e49"
   },
   "outputs": [
    {
     "data": {
      "text/plain": [
       "<AxesSubplot:>"
      ]
     },
     "execution_count": 28,
     "metadata": {},
     "output_type": "execute_result"
    },
    {
     "data": {
      "image/png": "[encoded data removed]",
      "text/plain": [
       "<Figure size 720x504 with 2 Axes>"
      ]
     },
     "metadata": {
      "needs_background": "light"
     },
     "output_type": "display_data"
    }
   ],
   "source": [
    "plt.figure(figsize=(10,7))\n",
    "sns.heatmap(df1.corr(), annot=True)"
   ]
  },
  {
   "cell_type": "code",
   "execution_count": 29,
   "metadata": {
    "colab": {
     "base_uri": "https://localhost:8080/",
     "height": 251
    },
    "id": "kSXI0yEYKJ7M",
    "outputId": "d9038026-da09-486d-8cda-c4d1531d2e84"
   },
   "outputs": [
    {
     "data": {
      "text/html": [
       "<div>\n",
       "<style scoped>\n",
       "    .dataframe tbody tr th:only-of-type {\n",
       "        vertical-align: middle;\n",
       "    }\n",
       "\n",
       "    .dataframe tbody tr th {\n",
       "        vertical-align: top;\n",
       "    }\n",
       "\n",
       "    .dataframe thead th {\n",
       "        text-align: right;\n",
       "    }\n",
       "</style>\n",
       "<table border=\"1\" class=\"dataframe\">\n",
       "  <thead>\n",
       "    <tr style=\"text-align: right;\">\n",
       "      <th></th>\n",
       "      <th>Timeblock_1</th>\n",
       "      <th>Timeblock_2</th>\n",
       "      <th>Timeblock_3</th>\n",
       "      <th>Timeblock_4</th>\n",
       "      <th>Timeblock_5</th>\n",
       "      <th>Timeblock_6</th>\n",
       "      <th>Timeblock_7</th>\n",
       "      <th>Timeblock_8</th>\n",
       "      <th>Timeblock_9</th>\n",
       "      <th>Timeblock_10</th>\n",
       "      <th>...</th>\n",
       "      <th>DAM_Purchase_Bid</th>\n",
       "      <th>DAM_Selling_Bid</th>\n",
       "      <th>RTM_Price_PD</th>\n",
       "      <th>RTM_Purchase_Bid_PD</th>\n",
       "      <th>RTM_Selling_Bid_PD</th>\n",
       "      <th>RTM_Price_SDLW</th>\n",
       "      <th>RTM_Purchase_Bid_SDLW</th>\n",
       "      <th>RTM_Selling_Bid_SDLW</th>\n",
       "      <th>Demand_PD</th>\n",
       "      <th>RTM_Price_SD</th>\n",
       "    </tr>\n",
       "  </thead>\n",
       "  <tbody>\n",
       "    <tr>\n",
       "      <th>0</th>\n",
       "      <td>1</td>\n",
       "      <td>0</td>\n",
       "      <td>0</td>\n",
       "      <td>0</td>\n",
       "      <td>0</td>\n",
       "      <td>0</td>\n",
       "      <td>0</td>\n",
       "      <td>0</td>\n",
       "      <td>0</td>\n",
       "      <td>0</td>\n",
       "      <td>...</td>\n",
       "      <td>8516.6</td>\n",
       "      <td>9224.9</td>\n",
       "      <td>3895.58</td>\n",
       "      <td>2917.2</td>\n",
       "      <td>1150.1</td>\n",
       "      <td>1700.86</td>\n",
       "      <td>519.6</td>\n",
       "      <td>2400.0</td>\n",
       "      <td>147656.0</td>\n",
       "      <td>4001.37</td>\n",
       "    </tr>\n",
       "    <tr>\n",
       "      <th>1</th>\n",
       "      <td>0</td>\n",
       "      <td>1</td>\n",
       "      <td>0</td>\n",
       "      <td>0</td>\n",
       "      <td>0</td>\n",
       "      <td>0</td>\n",
       "      <td>0</td>\n",
       "      <td>0</td>\n",
       "      <td>0</td>\n",
       "      <td>0</td>\n",
       "      <td>...</td>\n",
       "      <td>8285.1</td>\n",
       "      <td>9287.6</td>\n",
       "      <td>3586.93</td>\n",
       "      <td>2865.2</td>\n",
       "      <td>1230.1</td>\n",
       "      <td>1876.17</td>\n",
       "      <td>533.1</td>\n",
       "      <td>2252.4</td>\n",
       "      <td>146825.0</td>\n",
       "      <td>4000.57</td>\n",
       "    </tr>\n",
       "    <tr>\n",
       "      <th>2</th>\n",
       "      <td>0</td>\n",
       "      <td>0</td>\n",
       "      <td>1</td>\n",
       "      <td>0</td>\n",
       "      <td>0</td>\n",
       "      <td>0</td>\n",
       "      <td>0</td>\n",
       "      <td>0</td>\n",
       "      <td>0</td>\n",
       "      <td>0</td>\n",
       "      <td>...</td>\n",
       "      <td>8060.1</td>\n",
       "      <td>9487.9</td>\n",
       "      <td>3000.80</td>\n",
       "      <td>2120.5</td>\n",
       "      <td>1575.8</td>\n",
       "      <td>1749.68</td>\n",
       "      <td>433.1</td>\n",
       "      <td>2331.1</td>\n",
       "      <td>145790.0</td>\n",
       "      <td>3989.51</td>\n",
       "    </tr>\n",
       "    <tr>\n",
       "      <th>3</th>\n",
       "      <td>0</td>\n",
       "      <td>0</td>\n",
       "      <td>0</td>\n",
       "      <td>1</td>\n",
       "      <td>0</td>\n",
       "      <td>0</td>\n",
       "      <td>0</td>\n",
       "      <td>0</td>\n",
       "      <td>0</td>\n",
       "      <td>0</td>\n",
       "      <td>...</td>\n",
       "      <td>8118.1</td>\n",
       "      <td>9581.9</td>\n",
       "      <td>3000.76</td>\n",
       "      <td>2080.5</td>\n",
       "      <td>1572.8</td>\n",
       "      <td>1749.44</td>\n",
       "      <td>419.6</td>\n",
       "      <td>2296.3</td>\n",
       "      <td>145339.0</td>\n",
       "      <td>3989.39</td>\n",
       "    </tr>\n",
       "    <tr>\n",
       "      <th>4</th>\n",
       "      <td>0</td>\n",
       "      <td>0</td>\n",
       "      <td>0</td>\n",
       "      <td>0</td>\n",
       "      <td>1</td>\n",
       "      <td>0</td>\n",
       "      <td>0</td>\n",
       "      <td>0</td>\n",
       "      <td>0</td>\n",
       "      <td>0</td>\n",
       "      <td>...</td>\n",
       "      <td>8202.6</td>\n",
       "      <td>9687.9</td>\n",
       "      <td>2760.75</td>\n",
       "      <td>1444.5</td>\n",
       "      <td>1498.2</td>\n",
       "      <td>1930.72</td>\n",
       "      <td>700.5</td>\n",
       "      <td>2247.5</td>\n",
       "      <td>144461.0</td>\n",
       "      <td>3500.21</td>\n",
       "    </tr>\n",
       "  </tbody>\n",
       "</table>\n",
       "<p>5 rows × 110 columns</p>\n",
       "</div>"
      ],
      "text/plain": [
       "   Timeblock_1  Timeblock_2  Timeblock_3  Timeblock_4  Timeblock_5  \\\n",
       "0            1            0            0            0            0   \n",
       "1            0            1            0            0            0   \n",
       "2            0            0            1            0            0   \n",
       "3            0            0            0            1            0   \n",
       "4            0            0            0            0            1   \n",
       "\n",
       "   Timeblock_6  Timeblock_7  Timeblock_8  Timeblock_9  Timeblock_10  ...  \\\n",
       "0            0            0            0            0             0  ...   \n",
       "1            0            0            0            0             0  ...   \n",
       "2            0            0            0            0             0  ...   \n",
       "3            0            0            0            0             0  ...   \n",
       "4            0            0            0            0             0  ...   \n",
       "\n",
       "   DAM_Purchase_Bid  DAM_Selling_Bid  RTM_Price_PD  RTM_Purchase_Bid_PD  \\\n",
       "0            8516.6           9224.9       3895.58               2917.2   \n",
       "1            8285.1           9287.6       3586.93               2865.2   \n",
       "2            8060.1           9487.9       3000.80               2120.5   \n",
       "3            8118.1           9581.9       3000.76               2080.5   \n",
       "4            8202.6           9687.9       2760.75               1444.5   \n",
       "\n",
       "   RTM_Selling_Bid_PD  RTM_Price_SDLW  RTM_Purchase_Bid_SDLW  \\\n",
       "0              1150.1         1700.86                  519.6   \n",
       "1              1230.1         1876.17                  533.1   \n",
       "2              1575.8         1749.68                  433.1   \n",
       "3              1572.8         1749.44                  419.6   \n",
       "4              1498.2         1930.72                  700.5   \n",
       "\n",
       "   RTM_Selling_Bid_SDLW  Demand_PD  RTM_Price_SD  \n",
       "0                2400.0   147656.0       4001.37  \n",
       "1                2252.4   146825.0       4000.57  \n",
       "2                2331.1   145790.0       3989.51  \n",
       "3                2296.3   145339.0       3989.39  \n",
       "4                2247.5   144461.0       3500.21  \n",
       "\n",
       "[5 rows x 110 columns]"
      ]
     },
     "execution_count": 29,
     "metadata": {},
     "output_type": "execute_result"
    }
   ],
   "source": [
    "# create dummy variables for Holidays and Time Blocks\n",
    "df1 = pd.get_dummies(df1, columns = ['Holiday'] )\n",
    "df1 = pd.get_dummies(df1, columns = ['Timeblock'] )\n",
    "df1 = df1[['Timeblock_1','Timeblock_2','Timeblock_3','Timeblock_4','Timeblock_5','Timeblock_6','Timeblock_7',\n",
    "           'Timeblock_8','Timeblock_9','Timeblock_10','Timeblock_11','Timeblock_12','Timeblock_13','Timeblock_14',\n",
    "           'Timeblock_15','Timeblock_16','Timeblock_17','Timeblock_18','Timeblock_19','Timeblock_20','Timeblock_21',\n",
    "           'Timeblock_22','Timeblock_23','Timeblock_24','Timeblock_25','Timeblock_26','Timeblock_27','Timeblock_28',\n",
    "           'Timeblock_29','Timeblock_30','Timeblock_31','Timeblock_32','Timeblock_33','Timeblock_34','Timeblock_35',\n",
    "           'Timeblock_36','Timeblock_37','Timeblock_38','Timeblock_39','Timeblock_40','Timeblock_41','Timeblock_42',\n",
    "           'Timeblock_43','Timeblock_44','Timeblock_45','Timeblock_46','Timeblock_47','Timeblock_48','Timeblock_49',\n",
    "           'Timeblock_50','Timeblock_51','Timeblock_52','Timeblock_53','Timeblock_54','Timeblock_55','Timeblock_56',\n",
    "           'Timeblock_57','Timeblock_58','Timeblock_59','Timeblock_60','Timeblock_61','Timeblock_62','Timeblock_63',\n",
    "           'Timeblock_64','Timeblock_65','Timeblock_66','Timeblock_67','Timeblock_68','Timeblock_69','Timeblock_70',\n",
    "           'Timeblock_71','Timeblock_72','Timeblock_73','Timeblock_74','Timeblock_75','Timeblock_76','Timeblock_77',\n",
    "           'Timeblock_78','Timeblock_79','Timeblock_80','Timeblock_81','Timeblock_82','Timeblock_83','Timeblock_84',\n",
    "           'Timeblock_85','Timeblock_86','Timeblock_87','Timeblock_88','Timeblock_89','Timeblock_90','Timeblock_91',\n",
    "           'Timeblock_92','Timeblock_93','Timeblock_94','Timeblock_95','Timeblock_96','Holiday_0','Holiday_1',\n",
    "           'Holiday_2','DAM_Price', 'DAM_Purchase_Bid', 'DAM_Selling_Bid', 'RTM_Price_PD', 'RTM_Purchase_Bid_PD', \n",
    "           'RTM_Selling_Bid_PD', 'RTM_Price_SDLW', 'RTM_Purchase_Bid_SDLW', 'RTM_Selling_Bid_SDLW', \n",
    "           'Demand_PD', 'RTM_Price_SD']]\n",
    "df1.head()"
   ]
  },
  {
   "cell_type": "code",
   "execution_count": 30,
   "metadata": {
    "id": "s5MireJ6KpLL"
   },
   "outputs": [],
   "source": [
    "# creating dependent and independent variable\n",
    "X = df1.iloc[:,:-1].values\n",
    "y = df1.iloc[:,-1].values"
   ]
  },
  {
   "cell_type": "code",
   "execution_count": 31,
   "metadata": {
    "colab": {
     "base_uri": "https://localhost:8080/"
    },
    "id": "rFd71UQ9K8t7",
    "outputId": "b8b4d825-0ee3-41b0-ebbc-7df01575c99f"
   },
   "outputs": [
    {
     "data": {
      "text/plain": [
       "((21504, 109), (21504,))"
      ]
     },
     "execution_count": 31,
     "metadata": {},
     "output_type": "execute_result"
    }
   ],
   "source": [
    "# checking shape of both data\n",
    "X.shape, y.shape"
   ]
  },
  {
   "cell_type": "code",
   "execution_count": 32,
   "metadata": {
    "id": "tiFNUScGLZAJ"
   },
   "outputs": [],
   "source": [
    "# creating train test split\n",
    "# predicting the RTM Price \n",
    "# 1 signifies finding value of latest day and as n value increases we move backward from current day\n",
    "n = 1\n",
    "X_train,y_train  = X[-(n_train_days + n)*96:-96*n,:] , y[-(n_train_days + n)*96:-96*n]\n",
    "if n > 1:\n",
    "    if n_pred_block == 96:\n",
    "        X_test , y_test = X[-96*n:-96*(n-1),:] , y[-96*n:-96*(n-1)] #Remember -96*n:-96*(n-1) for both X and y here\n",
    "    else:\n",
    "        X_test , y_test = X[-96*n:-96*n + n_pred_block, :] , y[-96*n:-96*n + n_pred_block]\n",
    "\n",
    "if n==1:\n",
    "    if n_pred_block == 96:\n",
    "        X_test , y_test = X[-96*n:, :] , y[-96*n:] #Remember -96*n:-96*(n-1) for both X and y here\n",
    "    else:\n",
    "        X_test , y_test = X[-96*n:-96*n + n_pred_block, :] , y[-96*n:-96*n + n_pred_block]"
   ]
  },
  {
   "cell_type": "code",
   "execution_count": 33,
   "metadata": {
    "colab": {
     "base_uri": "https://localhost:8080/"
    },
    "id": "eJtR_SBhGjKP",
    "outputId": "28dd1949-522d-4785-dc0c-ee34a79b33dc"
   },
   "outputs": [
    {
     "data": {
      "text/plain": [
       "-96"
      ]
     },
     "execution_count": 33,
     "metadata": {},
     "output_type": "execute_result"
    }
   ],
   "source": [
    "-96*n"
   ]
  },
  {
   "cell_type": "code",
   "execution_count": 34,
   "metadata": {
    "colab": {
     "base_uri": "https://localhost:8080/"
    },
    "id": "6xzPKFTKGtOK",
    "outputId": "d3619bb8-a0d6-47ad-bc2c-d809094ad92a"
   },
   "outputs": [
    {
     "data": {
      "text/plain": [
       "96"
      ]
     },
     "execution_count": 34,
     "metadata": {},
     "output_type": "execute_result"
    }
   ],
   "source": [
    "n_pred_block"
   ]
  },
  {
   "cell_type": "code",
   "execution_count": 35,
   "metadata": {
    "colab": {
     "base_uri": "https://localhost:8080/"
    },
    "id": "u_yiIZB2GeYR",
    "outputId": "93cfcf5c-9597-4aaf-8a3c-3c4987bddab6"
   },
   "outputs": [
    {
     "data": {
      "text/plain": [
       "-192"
      ]
     },
     "execution_count": 35,
     "metadata": {},
     "output_type": "execute_result"
    }
   ],
   "source": [
    "-96*n - n_pred_block"
   ]
  },
  {
   "cell_type": "code",
   "execution_count": 36,
   "metadata": {
    "colab": {
     "base_uri": "https://localhost:8080/"
    },
    "id": "JSKUiNN-DY23",
    "outputId": "a888e161-00fa-4841-f3a1-72a9e2f17ede"
   },
   "outputs": [
    {
     "data": {
      "text/plain": [
       "(0, 109)"
      ]
     },
     "execution_count": 36,
     "metadata": {},
     "output_type": "execute_result"
    }
   ],
   "source": [
    " X[-96*n:-96*n - n_pred_block].shape"
   ]
  },
  {
   "cell_type": "code",
   "execution_count": 37,
   "metadata": {
    "colab": {
     "base_uri": "https://localhost:8080/"
    },
    "id": "nVomMOjNXXMN",
    "outputId": "f1ed4041-e8f3-4f86-ec64-c274cbb2c198"
   },
   "outputs": [
    {
     "data": {
      "text/plain": [
       "((8832, 109), (8832,), (96, 109), (96,))"
      ]
     },
     "execution_count": 37,
     "metadata": {},
     "output_type": "execute_result"
    }
   ],
   "source": [
    "X_train.shape, y_train.shape, X_test.shape, y_test.shape"
   ]
  },
  {
   "cell_type": "code",
   "execution_count": 38,
   "metadata": {
    "colab": {
     "base_uri": "https://localhost:8080/"
    },
    "id": "HeNY3lhELIZa",
    "outputId": "dc3112c6-e4fa-4c37-c133-129cd51313c2"
   },
   "outputs": [
    {
     "name": "stdout",
     "output_type": "stream",
     "text": [
      "Fitting 5 folds for each of 144 candidates, totalling 720 fits\n"
     ]
    },
    {
     "name": "stderr",
     "output_type": "stream",
     "text": [
      "[Parallel(n_jobs=-1)]: Using backend LokyBackend with 48 concurrent workers.\n",
      "[Parallel(n_jobs=-1)]: Done 104 tasks      | elapsed:   45.3s\n",
      "[Parallel(n_jobs=-1)]: Done 354 tasks      | elapsed:  2.2min\n",
      "[Parallel(n_jobs=-1)]: Done 720 out of 720 | elapsed:  4.3min finished\n"
     ]
    },
    {
     "name": "stdout",
     "output_type": "stream",
     "text": [
      "[13:10:39] WARNING: C:/Users/Administrator/workspace/xgboost-win64_release_1.3.0/src/learner.cc:541: \n",
      "Parameters: { min_samples_leaf } might not be used.\n",
      "\n",
      "  This may not be accurate due to some parameters are only used in language bindings but\n",
      "  passed down to XGBoost core.  Or some parameters are not used but slip through this\n",
      "  verification. Please open an issue if you find above cases.\n",
      "\n",
      "\n"
     ]
    },
    {
     "data": {
      "text/plain": [
       "GridSearchCV(estimator=XGBRegressor(base_score=None, booster=None,\n",
       "                                    colsample_bylevel=None,\n",
       "                                    colsample_bynode=None,\n",
       "                                    colsample_bytree=None, gamma=None,\n",
       "                                    gpu_id=None, importance_type='gain',\n",
       "                                    interaction_constraints=None,\n",
       "                                    learning_rate=None, max_delta_step=None,\n",
       "                                    max_depth=None, min_child_weight=None,\n",
       "                                    missing=nan, monotone_constraints=None,\n",
       "                                    n_estimators=100, n_jobs=None,\n",
       "                                    num_parallel_tree=None, random_state=None,\n",
       "                                    reg_alpha=None, reg_lambda=None,\n",
       "                                    scale_pos_weight=None, subsample=None,\n",
       "                                    tree_method=None, validate_parameters=None,\n",
       "                                    verbosity=None),\n",
       "             n_jobs=-1,\n",
       "             param_grid={'colsample_bytree': [0.8, 0.9], 'gamma': [0.05, 0.1],\n",
       "                         'learning_rate': [0.05, 0.07], 'max_depth': [5, 7],\n",
       "                         'min_samples_leaf': [3, 5, 7],\n",
       "                         'n_estimators': [100, 150, 200]},\n",
       "             scoring='neg_mean_squared_error', verbose=1)"
      ]
     },
     "execution_count": 38,
     "metadata": {},
     "output_type": "execute_result"
    }
   ],
   "source": [
    "#Hyperparameter Tuning of Xgboost Model\n",
    "\n",
    "parameters_for_testing = {\n",
    "    'colsample_bytree':[0.8,0.9],\n",
    "    'gamma':[0.05,0.1],\n",
    "    'min_samples_leaf':[3,5,7],\n",
    "    'learning_rate':[0.05,0.07],\n",
    "    'max_depth':[5,7],\n",
    "    'n_estimators':[100, 150, 200]\n",
    "     }\n",
    "xgb_model = xgboost.XGBRegressor()\n",
    "\n",
    "gsearch1 = GridSearchCV(estimator = xgb_model, param_grid = parameters_for_testing, n_jobs=-1,\n",
    "                        verbose=1,scoring='neg_mean_squared_error')\n",
    "gsearch1.fit(X_train,y_train)"
   ]
  },
  {
   "cell_type": "code",
   "execution_count": 39,
   "metadata": {
    "colab": {
     "base_uri": "https://localhost:8080/"
    },
    "id": "V5SBXITWLS7S",
    "outputId": "850bd9d8-6a90-4e67-ecd8-f04438506c97"
   },
   "outputs": [
    {
     "name": "stdout",
     "output_type": "stream",
     "text": [
      "Best Params: {'colsample_bytree': 0.8, 'gamma': 0.05, 'learning_rate': 0.07, 'max_depth': 5, 'min_samples_leaf': 3, 'n_estimators': 100}\n",
      "Best Score: -297856.65361082973\n",
      "Best Estimator: XGBRegressor(base_score=0.5, booster='gbtree', colsample_bylevel=1,\n",
      "             colsample_bynode=1, colsample_bytree=0.8, gamma=0.05, gpu_id=-1,\n",
      "             importance_type='gain', interaction_constraints='',\n",
      "             learning_rate=0.07, max_delta_step=0, max_depth=5,\n",
      "             min_child_weight=1, min_samples_leaf=3, missing=nan,\n",
      "             monotone_constraints='()', n_estimators=100, n_jobs=48,\n",
      "             num_parallel_tree=1, random_state=0, reg_alpha=0, reg_lambda=1,\n",
      "             scale_pos_weight=1, subsample=1, tree_method='exact',\n",
      "             validate_parameters=1, verbosity=None)\n"
     ]
    }
   ],
   "source": [
    "#print (gsearch1.cv_results_)\n",
    "print('Best Params:', gsearch1.best_params_)\n",
    "print('Best Score:', gsearch1.best_score_)\n",
    "print('Best Estimator:', gsearch1.best_estimator_)"
   ]
  },
  {
   "cell_type": "code",
   "execution_count": 40,
   "metadata": {
    "colab": {
     "base_uri": "https://localhost:8080/"
    },
    "id": "GRJzQ8AlWhuG",
    "outputId": "7d092434-6b23-4ea1-a650-7e2aaacc917b"
   },
   "outputs": [
    {
     "name": "stdout",
     "output_type": "stream",
     "text": [
      "[13:10:39] WARNING: C:/Users/Administrator/workspace/xgboost-win64_release_1.3.0/src/learner.cc:541: \n",
      "Parameters: { min_samples_leaf } might not be used.\n",
      "\n",
      "  This may not be accurate due to some parameters are only used in language bindings but\n",
      "  passed down to XGBoost core.  Or some parameters are not used but slip through this\n",
      "  verification. Please open an issue if you find above cases.\n",
      "\n",
      "\n"
     ]
    }
   ],
   "source": [
    "best_regr = gsearch1.best_estimator_\n",
    "best_regr.fit(X_train,y_train)\n",
    "\n",
    "y_predict1 = best_regr.predict(X_test)"
   ]
  },
  {
   "cell_type": "code",
   "execution_count": null,
   "metadata": {
    "id": "D6MGbwsZEcbV"
   },
   "outputs": [],
   "source": []
  },
  {
   "cell_type": "code",
   "execution_count": 41,
   "metadata": {
    "colab": {
     "base_uri": "https://localhost:8080/"
    },
    "id": "bwhagHs3WwuL",
    "outputId": "fa779ed6-b540-4f0e-995f-bbb9385c6cd7"
   },
   "outputs": [
    {
     "name": "stdout",
     "output_type": "stream",
     "text": [
      "MAPE = 10.762444145555788\n",
      "Maximum Error of the day =  2138.7783203125\n",
      "Minimum Error of the day =  20.49326171875009\n",
      "MAE of the day =  [440.60946268717436]\n",
      "Average RTM Price =  3989.9464583333333\n",
      "Average DAM Price =  3617.9903125\n",
      "MAPE during 00:00-06:00 hrs =  11.773262544339982\n",
      "MAPE during 06:00-12:00 hrs =  9.523836297457978\n",
      "MAPE during 12:00-18:00 hrs =  12.005127398652327\n",
      "MAPE during 18:00-24:00 hrs =  9.747550341772866\n",
      "MAPE Full day 00:00-24:00 hrs =  10.762444145555788\n"
     ]
    }
   ],
   "source": [
    "test_diff = np.abs(y_predict1 - y_test)\n",
    "\n",
    "#MAE for test set\n",
    "diff_day = []\n",
    "diff_sum = 0\n",
    "time = 0\n",
    "for i in test_diff:\n",
    "    if time != n_pred_block-1:\n",
    "        diff_sum +=i\n",
    "        time +=1\n",
    "    else:\n",
    "        diff_sum = diff_sum/n_pred_block\n",
    "        diff_day.append(diff_sum)\n",
    "        diff_sum = 0\n",
    "        time = 0\n",
    "        \n",
    "#MAPE for test set\n",
    "def mean_absolute_percentage_error(y_true, y_pred): \n",
    "    return np.mean(np.abs((y_true - y_pred) / y_true)) * 100\n",
    "\n",
    "mape0 = mean_absolute_percentage_error(y_test, y_predict1)\n",
    "print('MAPE =' ,mape0)\n",
    "\n",
    "#Max error and Min Error for the test set\n",
    "max_error  = max(test_diff)\n",
    "min_error = min(test_diff)\n",
    "\n",
    "print('Maximum Error of the day = ',max_error)\n",
    "print('Minimum Error of the day = ',min_error)\n",
    "print('MAE of the day = ',diff_day)#mae\n",
    "\n",
    "print('Average RTM Price = ',np.mean(y_test))\n",
    "print('Average DAM Price = ',X_test[:,99].mean())\n",
    "\n",
    "mape1 = mean_absolute_percentage_error(y_test[:24],y_predict1[:24])\n",
    "mape2 = mean_absolute_percentage_error(y_test[24:48],y_predict1[24:48])\n",
    "mape3 = mean_absolute_percentage_error(y_test[48:72],y_predict1[48:72])\n",
    "mape4 = mean_absolute_percentage_error(y_test[72:],y_predict1[72:])\n",
    "#Error during different sections of day:\n",
    "print('MAPE during 00:00-06:00 hrs = ',mape1)\n",
    "print('MAPE during 06:00-12:00 hrs = ',mape2)\n",
    "print('MAPE during 12:00-18:00 hrs = ',mape3)\n",
    "print('MAPE during 18:00-24:00 hrs = ',mape4)\n",
    "print('MAPE Full day 00:00-24:00 hrs = ', ((mape1+mape2+mape3+mape4)/4))"
   ]
  },
  {
   "cell_type": "code",
   "execution_count": 42,
   "metadata": {
    "colab": {
     "base_uri": "https://localhost:8080/",
     "height": 287
    },
    "id": "rTcwojuxW-T6",
    "outputId": "1e7d7fb4-1242-45d0-cfab-fdd9e2d88da1"
   },
   "outputs": [
    {
     "data": {
      "image/png": "[encoded data removed]",
      "text/plain": [
       "<Figure size 1440x432 with 1 Axes>"
      ]
     },
     "metadata": {
      "needs_background": "light"
     },
     "output_type": "display_data"
    }
   ],
   "source": [
    "#Plotting for the test day\n",
    "import matplotlib.pyplot as plt\n",
    "plt.figure(figsize=(20,6))\n",
    "plt.xlabel('Timeblock', fontsize = 10)\n",
    "plt.ylabel('RTM Value', fontsize = 10)\n",
    "plt.plot(y_predict1, label = 'Predicted Price', linewidth=1)\n",
    "plt.plot(y_test, label = 'Actual Price',  linewidth=2)\n",
    "plt.legend(loc = 'lower right',frameon=True,  prop={\"size\":8});\n",
    "plt.show()"
   ]
  },
  {
   "cell_type": "code",
   "execution_count": 43,
   "metadata": {
    "id": "yv37imH7byQj"
   },
   "outputs": [],
   "source": [
    "    \n",
    "    \n",
    "#Saving the predicted and actual value to csv file\n",
    "save_df = pd.DataFrame({\"Actual RTM Price\" : y_test, \"Predicted RTM Price\" : y_predict1,\"Difference\": test_diff})\n",
    "save_df.to_csv(\"Forecast.csv\", index=False)"
   ]
  },
  {
   "cell_type": "code",
   "execution_count": 44,
   "metadata": {
    "id": "PZMVBH2qEycs"
   },
   "outputs": [],
   "source": [
    "from sklearn.ensemble import RandomForestRegressor"
   ]
  },
  {
   "cell_type": "code",
   "execution_count": 45,
   "metadata": {
    "colab": {
     "base_uri": "https://localhost:8080/"
    },
    "id": "jJh2ySO9b-7Y",
    "outputId": "3449a9e4-2400-4833-d75d-b97344c7daab"
   },
   "outputs": [
    {
     "name": "stdout",
     "output_type": "stream",
     "text": [
      "Fitting 3 folds for each of 324 candidates, totalling 972 fits\n"
     ]
    },
    {
     "name": "stderr",
     "output_type": "stream",
     "text": [
      "[Parallel(n_jobs=-1)]: Using backend LokyBackend with 48 concurrent workers.\n",
      "[Parallel(n_jobs=-1)]: Done  66 tasks      | elapsed:    2.2s\n",
      "[Parallel(n_jobs=-1)]: Done 269 tasks      | elapsed:    6.9s\n",
      "[Parallel(n_jobs=-1)]: Done 552 tasks      | elapsed:   14.5s\n",
      "[Parallel(n_jobs=-1)]: Done 972 out of 972 | elapsed:   28.5s finished\n"
     ]
    },
    {
     "name": "stdout",
     "output_type": "stream",
     "text": [
      "best params\n",
      "{'bootstrap': False, 'max_depth': 10, 'max_features': 5, 'min_samples_leaf': 5, 'min_samples_split': 8, 'n_estimators': 100}\n",
      "Model Performance\n",
      "Average Error: 812.2662 degrees.\n",
      "Accuracy = 83.32%.\n"
     ]
    }
   ],
   "source": [
    "param_grid = {\n",
    "    'bootstrap': [True,False],\n",
    "    'max_depth': [5,7,10],\n",
    "    'max_features': [3,4,5],\n",
    "    'min_samples_leaf': [5,7],\n",
    "    'min_samples_split': [6, 8, 10],\n",
    "    'n_estimators': [100,150,200]\n",
    "}\n",
    "# Create a based model\n",
    "rf = RandomForestRegressor()\n",
    "\n",
    "# Instantiate the grid search model\n",
    "grid_search = GridSearchCV(estimator = rf, param_grid = param_grid, \n",
    "                          cv = 3, n_jobs = -1, verbose = 2)\n",
    "\n",
    "grid_search.fit(X_train,y_train)\n",
    "print('best params')\n",
    "print (grid_search.best_params_)\n",
    "\n",
    "def evaluate(model, test_features, test_labels):\n",
    "    predictions = model.predict(test_features)\n",
    "    errors = abs(predictions - test_labels)\n",
    "    mape = 100 * np.mean(errors / test_labels)\n",
    "    accuracy = 100 - mape\n",
    "    print('Model Performance')\n",
    "    print('Average Error: {:0.4f} degrees.'.format(np.mean(errors)))\n",
    "    print('Accuracy = {:0.2f}%.'.format(accuracy))\n",
    "    \n",
    "    return accuracy\n",
    "\n",
    "best_grid = grid_search.best_estimator_\n",
    "grid_accuracy = evaluate(best_grid, X_test, y_test)"
   ]
  },
  {
   "cell_type": "code",
   "execution_count": 46,
   "metadata": {
    "colab": {
     "base_uri": "https://localhost:8080/",
     "height": 461
    },
    "id": "gIj-TJ9gY7ei",
    "outputId": "c2f34e38-2ad6-45c3-dc2d-488fcbf0dca3"
   },
   "outputs": [
    {
     "name": "stdout",
     "output_type": "stream",
     "text": [
      "MAPE = 16.51350380878341\n",
      "Maximum Error of the day =  2709.4512196629157\n",
      "Minimum Error of the day =  1.2250189379119547\n",
      "MAE of the day =  [798.6782537585992]\n",
      "Average RTM Price =  3989.9464583333333\n",
      "Average DAM Price =  3617.9903125\n",
      "MAPE during 00:00-06:00 hrs =  8.891105822604645\n",
      "MAPE during 06:00-12:00 hrs =  26.084116934654205\n",
      "MAPE during 12:00-18:00 hrs =  19.368478248204905\n",
      "MAPE during 18:00-24:00 hrs =  11.710314229669876\n"
     ]
    },
    {
     "data": {
      "image/png": "[encoded data removed]",
      "text/plain": [
       "<Figure size 1440x432 with 1 Axes>"
      ]
     },
     "metadata": {
      "needs_background": "light"
     },
     "output_type": "display_data"
    }
   ],
   "source": [
    "best_regr = best_grid\n",
    "best_regr.fit(X_train,y_train)\n",
    "\n",
    "y_predict1 = best_regr.predict(X_test)\n",
    "\n",
    "\n",
    "#Difference in test and predict value per day\n",
    "import numpy as np\n",
    "test_diff = np.abs(y_predict1 - y_test)\n",
    "\n",
    "#MAE for test set\n",
    "diff_day = []\n",
    "diff_sum = 0\n",
    "time = 0\n",
    "for i in test_diff:\n",
    "    if time != n_pred_block-1:\n",
    "        diff_sum +=i\n",
    "        time +=1\n",
    "    else:\n",
    "        diff_sum = diff_sum/n_pred_block\n",
    "        diff_day.append(diff_sum)\n",
    "        diff_sum = 0\n",
    "        time = 0\n",
    "        \n",
    "#MAPE for test set\n",
    "def mean_absolute_percentage_error(y_true, y_pred): \n",
    "    return np.mean(np.abs((y_true - y_pred) / y_true)) * 100\n",
    "\n",
    "mape0 = mean_absolute_percentage_error(y_test, y_predict1)\n",
    "print('MAPE =' ,mape0)\n",
    "\n",
    "#Max error and Min Error for the test set\n",
    "max_error  = max(test_diff)\n",
    "min_error = min(test_diff)\n",
    "\n",
    "print('Maximum Error of the day = ',max_error)\n",
    "print('Minimum Error of the day = ',min_error)\n",
    "print('MAE of the day = ',diff_day)#mae\n",
    "\n",
    "print('Average RTM Price = ',np.mean(y_test))\n",
    "print('Average DAM Price = ',X_test[:,99].mean())\n",
    "\n",
    "mape1 = mean_absolute_percentage_error(y_test[:24],y_predict1[:24])\n",
    "mape2 = mean_absolute_percentage_error(y_test[24:48],y_predict1[24:48])\n",
    "mape3 = mean_absolute_percentage_error(y_test[48:72],y_predict1[48:72])\n",
    "mape4 = mean_absolute_percentage_error(y_test[72:],y_predict1[72:])\n",
    "#Error during different sections of day:\n",
    "print('MAPE during 00:00-06:00 hrs = ',mape1)\n",
    "print('MAPE during 06:00-12:00 hrs = ',mape2)\n",
    "print('MAPE during 12:00-18:00 hrs = ',mape3)\n",
    "print('MAPE during 18:00-24:00 hrs = ',mape4)\n",
    "\n",
    "\n",
    "\n",
    "#Plotting for the test day\n",
    "import matplotlib.pyplot as plt\n",
    "plt.figure(figsize=(20,6))\n",
    "plt.xlabel('Timeblock', fontsize = 10)\n",
    "plt.ylabel('RTM Value', fontsize = 10)\n",
    "plt.plot(y_predict1, label = 'Predicted Price', linewidth=1)\n",
    "plt.plot(y_test, label = 'Actual Price',  linewidth=2)\n",
    "plt.legend(loc = 'lower right',frameon=True,  prop={\"size\":8});\n",
    "plt.show()\n",
    "\n",
    "\n",
    "\n",
    "#Saving the predicted and actual value to csv file\n",
    "save_df = pd.DataFrame({\"Actual RTM Price\" : y_test, \"Predicted RTM Price\" : y_predict1,\"Difference\": test_diff})\n",
    "save_df.to_csv(\"Forecast_RF.csv\", index=False)"
   ]
  },
  {
   "cell_type": "code",
   "execution_count": 47,
   "metadata": {
    "colab": {
     "base_uri": "https://localhost:8080/"
    },
    "id": "56BMd0pjHWIT",
    "outputId": "9aa26b4d-45ed-4799-fa53-0d57fb0d259f"
   },
   "outputs": [
    {
     "name": "stdout",
     "output_type": "stream",
     "text": [
      "Fitting 5 folds for each of 128 candidates, totalling 640 fits\n"
     ]
    },
    {
     "name": "stderr",
     "output_type": "stream",
     "text": [
      "[Parallel(n_jobs=-1)]: Using backend LokyBackend with 48 concurrent workers.\n",
      "[Parallel(n_jobs=-1)]: Done  66 tasks      | elapsed:    6.9s\n",
      "[Parallel(n_jobs=-1)]: Done 269 tasks      | elapsed:   27.1s\n",
      "[Parallel(n_jobs=-1)]: Done 640 out of 640 | elapsed:  1.3min finished\n"
     ]
    },
    {
     "name": "stdout",
     "output_type": "stream",
     "text": [
      "best params\n",
      "{'bootstrap': False, 'max_depth': 15, 'max_features': 6, 'min_samples_leaf': 4, 'min_samples_split': 8, 'n_estimators': 200}\n",
      "Model Performance\n",
      "Average Error: 722.9754 degrees.\n",
      "Accuracy = 84.60%.\n"
     ]
    }
   ],
   "source": [
    "param_grid = {\n",
    "    'bootstrap': [True,False],\n",
    "    'max_depth': [10,15],\n",
    "    'max_features': [5,6],\n",
    "    'min_samples_leaf': [4,5],\n",
    "    'min_samples_split': [7,8],\n",
    "    'n_estimators': [200,300,400,500]\n",
    "}\n",
    "# Create a based model\n",
    "rf = RandomForestRegressor()\n",
    "\n",
    "# Instantiate the grid search model\n",
    "grid_search = GridSearchCV(estimator = rf, param_grid = param_grid, \n",
    "                          n_jobs = -1, verbose = 2)\n",
    "\n",
    "grid_search.fit(X_train,y_train)\n",
    "print('best params')\n",
    "print (grid_search.best_params_)\n",
    "\n",
    "def evaluate(model, test_features, test_labels):\n",
    "    predictions = model.predict(test_features)\n",
    "    errors = abs(predictions - test_labels)\n",
    "    mape = 100 * np.mean(errors / test_labels)\n",
    "    accuracy = 100 - mape\n",
    "    print('Model Performance')\n",
    "    print('Average Error: {:0.4f} degrees.'.format(np.mean(errors)))\n",
    "    print('Accuracy = {:0.2f}%.'.format(accuracy))\n",
    "    \n",
    "    return accuracy\n",
    "\n",
    "best_grid = grid_search.best_estimator_\n",
    "grid_accuracy = evaluate(best_grid, X_test, y_test)"
   ]
  },
  {
   "cell_type": "code",
   "execution_count": 48,
   "metadata": {
    "colab": {
     "base_uri": "https://localhost:8080/",
     "height": 461
    },
    "id": "-XOnQ29eE5ir",
    "outputId": "25bcfeb6-adb0-448b-da68-efdadb141ca1"
   },
   "outputs": [
    {
     "name": "stdout",
     "output_type": "stream",
     "text": [
      "MAPE = 15.211095746185663\n",
      "Maximum Error of the day =  2539.016375367191\n",
      "Minimum Error of the day =  10.117964396869866\n",
      "MAE of the day =  [709.8726493227923]\n",
      "Average RTM Price =  3989.9464583333333\n",
      "Average DAM Price =  3617.9903125\n",
      "MAPE during 00:00-06:00 hrs =  10.659061323282744\n",
      "MAPE during 06:00-12:00 hrs =  22.262536003481195\n",
      "MAPE during 12:00-18:00 hrs =  17.125350639625754\n",
      "MAPE during 18:00-24:00 hrs =  10.797435018352953\n"
     ]
    },
    {
     "data": {
      "image/png": "[encoded data removed]",
      "text/plain": [
       "<Figure size 1440x432 with 1 Axes>"
      ]
     },
     "metadata": {
      "needs_background": "light"
     },
     "output_type": "display_data"
    }
   ],
   "source": [
    "best_regr = best_grid\n",
    "best_regr.fit(X_train,y_train)\n",
    "\n",
    "y_predict1 = best_regr.predict(X_test)\n",
    "\n",
    "\n",
    "#Difference in test and predict value per day\n",
    "import numpy as np\n",
    "test_diff = np.abs(y_predict1 - y_test)\n",
    "\n",
    "#MAE for test set\n",
    "diff_day = []\n",
    "diff_sum = 0\n",
    "time = 0\n",
    "for i in test_diff:\n",
    "    if time != n_pred_block-1:\n",
    "        diff_sum +=i\n",
    "        time +=1\n",
    "    else:\n",
    "        diff_sum = diff_sum/n_pred_block\n",
    "        diff_day.append(diff_sum)\n",
    "        diff_sum = 0\n",
    "        time = 0\n",
    "        \n",
    "#MAPE for test set\n",
    "def mean_absolute_percentage_error(y_true, y_pred): \n",
    "    return np.mean(np.abs((y_true - y_pred) / y_true)) * 100\n",
    "\n",
    "mape0 = mean_absolute_percentage_error(y_test, y_predict1)\n",
    "print('MAPE =' ,mape0)\n",
    "\n",
    "#Max error and Min Error for the test set\n",
    "max_error  = max(test_diff)\n",
    "min_error = min(test_diff)\n",
    "\n",
    "print('Maximum Error of the day = ',max_error)\n",
    "print('Minimum Error of the day = ',min_error)\n",
    "print('MAE of the day = ',diff_day)#mae\n",
    "\n",
    "print('Average RTM Price = ',np.mean(y_test))\n",
    "print('Average DAM Price = ',X_test[:,99].mean())\n",
    "\n",
    "mape1 = mean_absolute_percentage_error(y_test[:24],y_predict1[:24])\n",
    "mape2 = mean_absolute_percentage_error(y_test[24:48],y_predict1[24:48])\n",
    "mape3 = mean_absolute_percentage_error(y_test[48:72],y_predict1[48:72])\n",
    "mape4 = mean_absolute_percentage_error(y_test[72:],y_predict1[72:])\n",
    "#Error during different sections of day:\n",
    "print('MAPE during 00:00-06:00 hrs = ',mape1)\n",
    "print('MAPE during 06:00-12:00 hrs = ',mape2)\n",
    "print('MAPE during 12:00-18:00 hrs = ',mape3)\n",
    "print('MAPE during 18:00-24:00 hrs = ',mape4)\n",
    "\n",
    "\n",
    "\n",
    "#Plotting for the test day\n",
    "import matplotlib.pyplot as plt\n",
    "plt.figure(figsize=(20,6))\n",
    "plt.xlabel('Timeblock', fontsize = 10)\n",
    "plt.ylabel('RTM Value', fontsize = 10)\n",
    "plt.plot(y_predict1, label = 'Predicted Price', linewidth=1)\n",
    "plt.plot(y_test, label = 'Actual Price',  linewidth=2)\n",
    "plt.legend(loc = 'lower right',frameon=True,  prop={\"size\":8});\n",
    "plt.show()\n",
    "\n",
    "\n",
    "\n",
    "#Saving the predicted and actual value to csv file\n",
    "save_df = pd.DataFrame({\"Actual RTM Price\" : y_test, \"Predicted RTM Price\" : y_predict1,\"Difference\": test_diff})\n",
    "save_df.to_csv(\"Forecast_RF.csv\", index=False)"
   ]
  },
  {
   "cell_type": "code",
   "execution_count": 49,
   "metadata": {
    "colab": {
     "base_uri": "https://localhost:8080/"
    },
    "id": "euOswjPxTlNB",
    "outputId": "3a2b6aa3-6971-4ad8-8e86-5e3a55174328"
   },
   "outputs": [
    {
     "name": "stdout",
     "output_type": "stream",
     "text": [
      "Fitting 5 folds for each of 432 candidates, totalling 2160 fits\n"
     ]
    },
    {
     "name": "stderr",
     "output_type": "stream",
     "text": [
      "[Parallel(n_jobs=-1)]: Using backend LokyBackend with 48 concurrent workers.\n",
      "[Parallel(n_jobs=-1)]: Done  66 tasks      | elapsed:   23.3s\n",
      "[Parallel(n_jobs=-1)]: Done 269 tasks      | elapsed:  1.5min\n",
      "[Parallel(n_jobs=-1)]: Done 552 tasks      | elapsed:  3.3min\n",
      "[Parallel(n_jobs=-1)]: Done 917 tasks      | elapsed:  5.4min\n",
      "[Parallel(n_jobs=-1)]: Done 1362 tasks      | elapsed:  9.0min\n",
      "[Parallel(n_jobs=-1)]: Done 1889 tasks      | elapsed: 14.1min\n",
      "[Parallel(n_jobs=-1)]: Done 2160 out of 2160 | elapsed: 17.1min finished\n"
     ]
    },
    {
     "name": "stdout",
     "output_type": "stream",
     "text": [
      "best params\n",
      "{'bootstrap': True, 'max_depth': 20, 'max_features': 10, 'min_samples_leaf': 4, 'min_samples_split': 24, 'n_estimators': 500}\n",
      "Model Performance\n",
      "Average Error: 657.2192 degrees.\n",
      "Accuracy = 85.61%.\n"
     ]
    }
   ],
   "source": [
    "param_grid = {\n",
    "    'bootstrap': [True,False],\n",
    "    'max_depth': [15,20],\n",
    "    'max_features': [10, 15,20],\n",
    "    'min_samples_leaf': [4,5,7],\n",
    "    'min_samples_split': [18,24,36],\n",
    "    'n_estimators': [500, 600, 750, 1000]\n",
    "}\n",
    "# Create a based model\n",
    "rf = RandomForestRegressor()\n",
    "\n",
    "# Instantiate the grid search model\n",
    "grid_search = GridSearchCV(estimator = rf, param_grid = param_grid, \n",
    "                          n_jobs = -1, verbose = 2)\n",
    "\n",
    "grid_search.fit(X_train,y_train)\n",
    "print('best params')\n",
    "print (grid_search.best_params_)\n",
    "\n",
    "def evaluate(model, test_features, test_labels):\n",
    "    predictions = model.predict(test_features)\n",
    "    errors = abs(predictions - test_labels)\n",
    "    mape = 100 * np.mean(errors / test_labels)\n",
    "    accuracy = 100 - mape\n",
    "    print('Model Performance')\n",
    "    print('Average Error: {:0.4f} degrees.'.format(np.mean(errors)))\n",
    "    print('Accuracy = {:0.2f}%.'.format(accuracy))\n",
    "    \n",
    "    return accuracy\n",
    "\n",
    "best_grid = grid_search.best_estimator_\n",
    "grid_accuracy = evaluate(best_grid, X_test, y_test)"
   ]
  },
  {
   "cell_type": "code",
   "execution_count": 50,
   "metadata": {
    "colab": {
     "base_uri": "https://localhost:8080/",
     "height": 461
    },
    "id": "cu6Pwi7UTn43",
    "outputId": "a69f466b-4a53-4076-f72a-ba5788bbadad"
   },
   "outputs": [
    {
     "name": "stdout",
     "output_type": "stream",
     "text": [
      "MAPE = 14.350447202831237\n",
      "Maximum Error of the day =  2379.7367120817344\n",
      "Minimum Error of the day =  3.0378567396182916\n",
      "MAE of the day =  [653.2281806908064]\n",
      "Average RTM Price =  3989.9464583333333\n",
      "Average DAM Price =  3617.9903125\n",
      "MAPE during 00:00-06:00 hrs =  12.015874337858131\n",
      "MAPE during 06:00-12:00 hrs =  19.450249422249524\n",
      "MAPE during 12:00-18:00 hrs =  15.615610183448306\n",
      "MAPE during 18:00-24:00 hrs =  10.320054867768992\n"
     ]
    },
    {
     "data": {
      "image/png": "[encoded data removed]",
      "text/plain": [
       "<Figure size 1440x432 with 1 Axes>"
      ]
     },
     "metadata": {
      "needs_background": "light"
     },
     "output_type": "display_data"
    }
   ],
   "source": [
    "best_regr = best_grid\n",
    "best_regr.fit(X_train,y_train)\n",
    "\n",
    "y_predict1 = best_regr.predict(X_test)\n",
    "\n",
    "\n",
    "#Difference in test and predict value per day\n",
    "import numpy as np\n",
    "test_diff = np.abs(y_predict1 - y_test)\n",
    "\n",
    "#MAE for test set\n",
    "diff_day = []\n",
    "diff_sum = 0\n",
    "time = 0\n",
    "for i in test_diff:\n",
    "    if time != n_pred_block-1:\n",
    "        diff_sum +=i\n",
    "        time +=1\n",
    "    else:\n",
    "        diff_sum = diff_sum/n_pred_block\n",
    "        diff_day.append(diff_sum)\n",
    "        diff_sum = 0\n",
    "        time = 0\n",
    "        \n",
    "#MAPE for test set\n",
    "def mean_absolute_percentage_error(y_true, y_pred): \n",
    "    return np.mean(np.abs((y_true - y_pred) / y_true)) * 100\n",
    "\n",
    "mape0 = mean_absolute_percentage_error(y_test, y_predict1)\n",
    "print('MAPE =' ,mape0)\n",
    "\n",
    "#Max error and Min Error for the test set\n",
    "max_error  = max(test_diff)\n",
    "min_error = min(test_diff)\n",
    "\n",
    "print('Maximum Error of the day = ',max_error)\n",
    "print('Minimum Error of the day = ',min_error)\n",
    "print('MAE of the day = ',diff_day)#mae\n",
    "\n",
    "print('Average RTM Price = ',np.mean(y_test))\n",
    "print('Average DAM Price = ',X_test[:,99].mean())\n",
    "\n",
    "mape1 = mean_absolute_percentage_error(y_test[:24],y_predict1[:24])\n",
    "mape2 = mean_absolute_percentage_error(y_test[24:48],y_predict1[24:48])\n",
    "mape3 = mean_absolute_percentage_error(y_test[48:72],y_predict1[48:72])\n",
    "mape4 = mean_absolute_percentage_error(y_test[72:],y_predict1[72:])\n",
    "#Error during different sections of day:\n",
    "print('MAPE during 00:00-06:00 hrs = ',mape1)\n",
    "print('MAPE during 06:00-12:00 hrs = ',mape2)\n",
    "print('MAPE during 12:00-18:00 hrs = ',mape3)\n",
    "print('MAPE during 18:00-24:00 hrs = ',mape4)\n",
    "\n",
    "\n",
    "\n",
    "#Plotting for the test day\n",
    "import matplotlib.pyplot as plt\n",
    "plt.figure(figsize=(20,6))\n",
    "plt.xlabel('Timeblock', fontsize = 10)\n",
    "plt.ylabel('RTM Value', fontsize = 10)\n",
    "plt.plot(y_predict1, label = 'Predicted Price', linewidth=1)\n",
    "plt.plot(y_test, label = 'Actual Price',  linewidth=2)\n",
    "plt.legend(loc = 'lower right',frameon=True,  prop={\"size\":8});\n",
    "plt.show()\n",
    "\n",
    "\n",
    "\n",
    "#Saving the predicted and actual value to csv file\n",
    "save_df = pd.DataFrame({\"Actual RTM Price\" : y_test, \"Predicted RTM Price\" : y_predict1,\"Difference\": test_diff})\n",
    "save_df.to_csv(\"Forecast_RF_1.csv\", index=False)"
   ]
  },
  {
   "cell_type": "code",
   "execution_count": null,
   "metadata": {
    "id": "Cux_iijjTufc"
   },
   "outputs": [],
   "source": []
  }
 ],
 "metadata": {
  "colab": {
   "name": "IEX_Price_Forecasting.ipynb",
   "provenance": []
  },
  "kernelspec": {
   "display_name": "Python 3",
   "language": "python",
   "name": "python3"
  },
  "language_info": {
   "codemirror_mode": {
    "name": "ipython",
    "version": 3
   },
   "file_extension": ".py",
   "mimetype": "text/x-python",
   "name": "python",
   "nbconvert_exporter": "python",
   "pygments_lexer": "ipython3",
   "version": "3.8.5"
  }
 },
 "nbformat": 4,
 "nbformat_minor": 1
}
