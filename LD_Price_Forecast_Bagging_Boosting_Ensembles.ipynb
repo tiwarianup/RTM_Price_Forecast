{
  "nbformat": 4,
  "nbformat_minor": 0,
  "metadata": {
    "colab": {
      "name": "LD_Price_Forecast_Bagging_Boosting_Ensembles.ipynb",
      "provenance": [],
      "include_colab_link": true
    },
    "kernelspec": {
      "display_name": "Python 3",
      "language": "python",
      "name": "python3"
    },
    "language_info": {
      "codemirror_mode": {
        "name": "ipython",
        "version": 3
      },
      "file_extension": ".py",
      "mimetype": "text/x-python",
      "name": "python",
      "nbconvert_exporter": "python",
      "pygments_lexer": "ipython3",
      "version": "3.8.5"
    }
  },
  "cells": [
    {
      "cell_type": "markdown",
      "metadata": {
        "id": "view-in-github",
        "colab_type": "text"
      },
      "source": [
        "<a href=\"https://colab.research.google.com/github/tiwarianup/RTM_Price_Forecast/blob/main/LD_Price_Forecast_Bagging_Boosting_Ensembles.ipynb\" target=\"_parent\"><img src=\"https://colab.research.google.com/assets/colab-badge.svg\" alt=\"Open In Colab\"/></a>"
      ]
    },
    {
      "cell_type": "markdown",
      "metadata": {
        "id": "1JSANUe_d82k"
      },
      "source": [
        "# RTM IEX Price Forecasting using Bagging & Boosting Ensembles"
      ]
    },
    {
      "cell_type": "markdown",
      "metadata": {
        "id": "yGPd-Ze44STF"
      },
      "source": [
        "### **Introduction**"
      ]
    },
    {
      "cell_type": "markdown",
      "metadata": {
        "id": "fOjw_qoad82z"
      },
      "source": [
        "**Problem Statement**: In recent years rapid urbanisation and aggresive electrification programs has resulted in an increase in all India energy (electric power) demand. If we observe the past trends in the data published by the Central Electricity Authority (CEA) of India, it is evident that the energy demand will continue to grow in years to come. \r\n",
        "\r\n",
        "On a macro level, it should not be surprising for a rapidly developing nation like India. But, when we look at the micro level which is the day to day operations of the power system, we can find many potential challanges which call for attention to improve the overall performance and efficiency of the power systems. Predicting Real Time Market (RTM) Prices accurately is one such challange for a power utility. It is of utmost importance for the nation, that power supply is never interupted and thus every power utility thrives to meet the energy demand of thier consumers. \r\n",
        "\r\n",
        "The challange lies in the fact that the increment or decrement of energy demand is a real time process very similar to the price movement on the stock exchanges. This fluctuation in energy demand is to be anticipated and planned in advanced for smooth power system operations. We would not go deep into the actual functioning of these systems, but it is good to know that to fulfill this real time anticipated increment or decrement in demand, a power utility may wish to buy or sell power on the Indian Energy Exchange Platform. If the power demand of the utilitys' consumers are not fulfilled, they may have to face unplaned outages resulting in customer dissatisfaction."
      ]
    },
    {
      "cell_type": "markdown",
      "metadata": {
        "id": "UEW1K-dRkQAj"
      },
      "source": [
        "**Objective of this Exercise**: To analyze and model publically available data using RandomForest (Bagging)  and XGBoost (Boosting) machine learning algorithms to predict Real Time Market (RTM) Prices on Indian Energy Exchange (IEX)."
      ]
    },
    {
      "cell_type": "markdown",
      "metadata": {
        "id": "Y-KD2u5WlLCL"
      },
      "source": [
        "**Methodology Followed**: The methodolody followed for this exercise can be summarized as follows:\r\n",
        "1. Collecting Real Time Market prices and bids data from IEX website (Not Included)\r\n",
        "2. Collecting All India Electricity Load (Demand) from Vidyut Pravah website (Not Included)\r\n",
        "3. Compiling the data into a single CSV file for analysis (Not Included)\r\n",
        "4. Importing, Inspecting and Cleaning the data\r\n",
        "5. Visual Inspection of Data (EDA)\r\n",
        "6. Hyperparameter Tuning and Cross Validation in RandomForest and XGBoost \r\n",
        "7. Predicting Prices using Best Estimators\r\n",
        "8. Visualizing and exporting the final results"
      ]
    },
    {
      "cell_type": "markdown",
      "metadata": {
        "id": "GX3hAg4d8b9c"
      },
      "source": [
        "Traditionally, Time series data is modelled using statistical approaches such as Exponential Smoothening, ARIMA or SARIMAX models etc. An important peculiarity of time series data is autocorrelation, i.e. the dependency of current value on the past values. Further, a time series data is timestamped which means that there is a chronological order maintained in the data that cannot be directly recognized by machine learning models. Thus, we will use a technique called reduction which is a process to transforming the available features to account for the time dependency in the data. "
      ]
    },
    {
      "cell_type": "markdown",
      "metadata": {
        "id": "ulK26xKj31HV"
      },
      "source": [
        "The following notebook is divided into 3 sections as following:\r\n",
        "1. Visual Inspection of data (EDA) & Feature Engineering\r\n",
        "2. Implementing RandomForest for Price Predictions\r\n",
        "3. Implementing XGBoost for Price Predictions\r\n",
        "\r\n",
        "So, let us begin the modelling exercise."
      ]
    },
    {
      "cell_type": "markdown",
      "metadata": {
        "id": "Ia9BPCfR4cuQ"
      },
      "source": [
        "### **Section 1: Visual Inspection of Data (EDA) & Feature Engineering** "
      ]
    },
    {
      "cell_type": "markdown",
      "metadata": {
        "id": "Y7O5394h7vVB"
      },
      "source": [
        "In this section, we will work on the compiled data for analysis and modelling. We will start by importing and cleaning the data. Then, we will do some visual inspection of data by looking at correlation plots and heatmaps to derive and choose the independent variables (features) required for modelling the data. "
      ]
    },
    {
      "cell_type": "markdown",
      "metadata": {
        "id": "Wcy7NGGv-DLI"
      },
      "source": [
        "> Importing and Inspecting data"
      ]
    },
    {
      "cell_type": "code",
      "metadata": {
        "id": "-fnXlsvGQqsN"
      },
      "source": [
        "# disable warnings\r\n",
        "import warnings\r\n",
        "warnings.filterwarnings('ignore')"
      ],
      "execution_count": 205,
      "outputs": []
    },
    {
      "cell_type": "code",
      "metadata": {
        "id": "vByTBWE_o2GZ"
      },
      "source": [
        "# importing required python modules\n",
        "import datetime\n",
        "import numpy as np, pandas as pd\n",
        "import matplotlib.pyplot as plt, seaborn as sns\n",
        "import statsmodels.api as sm\n",
        "from sklearn.model_selection import GridSearchCV\n",
        "from sklearn.ensemble import RandomForestRegressor\n",
        "import xgboost"
      ],
      "execution_count": 206,
      "outputs": []
    },
    {
      "cell_type": "markdown",
      "metadata": {
        "id": "0PfQyRY-BKOu"
      },
      "source": [
        "Now, that we have imported the required modules, let us import the data using pandas module."
      ]
    },
    {
      "cell_type": "code",
      "metadata": {
        "id": "dIlTsu2up776"
      },
      "source": [
        "# importing required datasets\n",
        "price_data = pd.read_csv('./Documents/PriceForecasting/v1/price_data.csv')"
      ],
      "execution_count": 207,
      "outputs": []
    },
    {
      "cell_type": "code",
      "metadata": {
        "colab": {
          "base_uri": "https://localhost:8080/",
          "height": 202
        },
        "id": "EbUvE_XrqoNv",
        "outputId": "52b2c8cd-7c00-43ee-ac7e-04831f53688e"
      },
      "source": [
        "# inspecting price dataframe\n",
        "price_data.head()"
      ],
      "execution_count": 208,
      "outputs": [
        {
          "output_type": "execute_result",
          "data": {
            "text/plain": [
              "         Date  TimeblockId  DAM_Price RTM_Price RTM_Purchase_Bid  \\\n",
              "0  01-10-2020            1    2624.91   2089.45            949.1   \n",
              "1  01-10-2020            2    2609.88   2245.41            929.5   \n",
              "2  01-10-2020            3    2674.59   2245.89            963.4   \n",
              "3  01-10-2020            4    2609.42   2245.91            963.4   \n",
              "4  01-10-2020            5    2698.07   2199.82            991.8   \n",
              "\n",
              "  RTM_Selling_Bid  DAM_Purchase_Bid  DAM_Selling_Bid  Demand  \n",
              "0          3145.7            8860.0          12455.1  150321  \n",
              "1          3122.7            8732.3          12317.0  149035  \n",
              "2            2789            8718.6          12182.7  148483  \n",
              "3          2818.4            8485.7          12298.9  146938  \n",
              "4          2907.7            8728.7          12276.0  145493  "
            ],
            "text/html": [
              "<div>\n",
              "<style scoped>\n",
              "    .dataframe tbody tr th:only-of-type {\n",
              "        vertical-align: middle;\n",
              "    }\n",
              "\n",
              "    .dataframe tbody tr th {\n",
              "        vertical-align: top;\n",
              "    }\n",
              "\n",
              "    .dataframe thead th {\n",
              "        text-align: right;\n",
              "    }\n",
              "</style>\n",
              "<table border=\"1\" class=\"dataframe\">\n",
              "  <thead>\n",
              "    <tr style=\"text-align: right;\">\n",
              "      <th></th>\n",
              "      <th>Date</th>\n",
              "      <th>TimeblockId</th>\n",
              "      <th>DAM_Price</th>\n",
              "      <th>RTM_Price</th>\n",
              "      <th>RTM_Purchase_Bid</th>\n",
              "      <th>RTM_Selling_Bid</th>\n",
              "      <th>DAM_Purchase_Bid</th>\n",
              "      <th>DAM_Selling_Bid</th>\n",
              "      <th>Demand</th>\n",
              "    </tr>\n",
              "  </thead>\n",
              "  <tbody>\n",
              "    <tr>\n",
              "      <th>0</th>\n",
              "      <td>01-10-2020</td>\n",
              "      <td>1</td>\n",
              "      <td>2624.91</td>\n",
              "      <td>2089.45</td>\n",
              "      <td>949.1</td>\n",
              "      <td>3145.7</td>\n",
              "      <td>8860.0</td>\n",
              "      <td>12455.1</td>\n",
              "      <td>150321</td>\n",
              "    </tr>\n",
              "    <tr>\n",
              "      <th>1</th>\n",
              "      <td>01-10-2020</td>\n",
              "      <td>2</td>\n",
              "      <td>2609.88</td>\n",
              "      <td>2245.41</td>\n",
              "      <td>929.5</td>\n",
              "      <td>3122.7</td>\n",
              "      <td>8732.3</td>\n",
              "      <td>12317.0</td>\n",
              "      <td>149035</td>\n",
              "    </tr>\n",
              "    <tr>\n",
              "      <th>2</th>\n",
              "      <td>01-10-2020</td>\n",
              "      <td>3</td>\n",
              "      <td>2674.59</td>\n",
              "      <td>2245.89</td>\n",
              "      <td>963.4</td>\n",
              "      <td>2789</td>\n",
              "      <td>8718.6</td>\n",
              "      <td>12182.7</td>\n",
              "      <td>148483</td>\n",
              "    </tr>\n",
              "    <tr>\n",
              "      <th>3</th>\n",
              "      <td>01-10-2020</td>\n",
              "      <td>4</td>\n",
              "      <td>2609.42</td>\n",
              "      <td>2245.91</td>\n",
              "      <td>963.4</td>\n",
              "      <td>2818.4</td>\n",
              "      <td>8485.7</td>\n",
              "      <td>12298.9</td>\n",
              "      <td>146938</td>\n",
              "    </tr>\n",
              "    <tr>\n",
              "      <th>4</th>\n",
              "      <td>01-10-2020</td>\n",
              "      <td>5</td>\n",
              "      <td>2698.07</td>\n",
              "      <td>2199.82</td>\n",
              "      <td>991.8</td>\n",
              "      <td>2907.7</td>\n",
              "      <td>8728.7</td>\n",
              "      <td>12276.0</td>\n",
              "      <td>145493</td>\n",
              "    </tr>\n",
              "  </tbody>\n",
              "</table>\n",
              "</div>"
            ]
          },
          "metadata": {
            "tags": []
          },
          "execution_count": 208
        }
      ]
    },
    {
      "cell_type": "markdown",
      "metadata": {
        "id": "6rNQDtj7COD7"
      },
      "source": [
        "We can observe that the first two columns are timestamp information related to the corresponding values in the dataframe. Each day is divided into 96 timeblocks i.e. every hour has four 15 minute time blocks. Utilities are required to place buy or sell bids for these 15 minute timeblocks. Again without going into the details of the market, we will focus on analysing and  the modelling the time series in this exercise."
      ]
    },
    {
      "cell_type": "code",
      "metadata": {
        "colab": {
          "base_uri": "https://localhost:8080/"
        },
        "id": "giK9ZqAAqyKL",
        "outputId": "54845365-6057-45c8-8f3d-d1747925a0cb"
      },
      "source": [
        "# checking shapes of both dataframes\n",
        "price_data.shape"
      ],
      "execution_count": 209,
      "outputs": [
        {
          "output_type": "execute_result",
          "data": {
            "text/plain": [
              "(10656, 9)"
            ]
          },
          "metadata": {
            "tags": []
          },
          "execution_count": 209
        }
      ]
    },
    {
      "cell_type": "code",
      "metadata": {
        "colab": {
          "base_uri": "https://localhost:8080/"
        },
        "id": "326z7lWnrHkz",
        "outputId": "10d55fb5-7eee-4788-f9b8-7f8241642ad8"
      },
      "source": [
        "# checking price data column types\n",
        "price_data.info()"
      ],
      "execution_count": 210,
      "outputs": [
        {
          "output_type": "stream",
          "text": [
            "<class 'pandas.core.frame.DataFrame'>\n",
            "RangeIndex: 10656 entries, 0 to 10655\n",
            "Data columns (total 9 columns):\n",
            " #   Column            Non-Null Count  Dtype  \n",
            "---  ------            --------------  -----  \n",
            " 0   Date              10656 non-null  object \n",
            " 1   TimeblockId       10656 non-null  int64  \n",
            " 2   DAM_Price         10656 non-null  float64\n",
            " 3   RTM_Price         10656 non-null  object \n",
            " 4   RTM_Purchase_Bid  10656 non-null  object \n",
            " 5   RTM_Selling_Bid   10656 non-null  object \n",
            " 6   DAM_Purchase_Bid  10656 non-null  float64\n",
            " 7   DAM_Selling_Bid   10656 non-null  float64\n",
            " 8   Demand            10656 non-null  int64  \n",
            "dtypes: float64(3), int64(2), object(4)\n",
            "memory usage: 749.4+ KB\n"
          ],
          "name": "stdout"
        }
      ]
    },
    {
      "cell_type": "markdown",
      "metadata": {
        "id": "tcg5mKvKBVrD"
      },
      "source": [
        "We can observe that the compiled price data contains 10656 rows and 9 attributes. Further, we can see that there are no null values and but few columns are not stored in the right format. We will deal with these attributes going further and apply suitable transformations on these attributes."
      ]
    },
    {
      "cell_type": "markdown",
      "metadata": {
        "id": "7wDOHl3IDjjf"
      },
      "source": [
        "> **Data Cleaning**"
      ]
    },
    {
      "cell_type": "markdown",
      "metadata": {
        "id": "cmPbN_0bDnCk"
      },
      "source": [
        "Now, we need to convert all the values into numeric types as even though it looks like there are no null values in the dataset, it might be the case that some values are non-numeric thus, let us do that first."
      ]
    },
    {
      "cell_type": "code",
      "metadata": {
        "id": "8PExcPqYtQrR"
      },
      "source": [
        "# converting object dtypes to numeric dtype\n",
        "price_data['RTM_Price'] = pd.to_numeric(price_data['RTM_Price'], errors='coerce')\n",
        "price_data['DAM_Price'] = pd.to_numeric(price_data['DAM_Price'], errors='coerce')\n",
        "price_data['RTM_Purchase_Bid'] = pd.to_numeric(price_data['RTM_Purchase_Bid'], errors='coerce')\n",
        "price_data['RTM_Selling_Bid'] = pd.to_numeric(price_data['RTM_Selling_Bid'], errors='coerce')\n",
        "price_data['DAM_Purchase_Bid'] = pd.to_numeric(price_data['DAM_Purchase_Bid'], errors='coerce')\n",
        "price_data['DAM_Selling_Bid'] = pd.to_numeric(price_data['DAM_Selling_Bid'], errors='coerce')\n",
        "price_data['Demand'] = pd.to_numeric(price_data['Demand'], errors='coerce')"
      ],
      "execution_count": 211,
      "outputs": []
    },
    {
      "cell_type": "markdown",
      "metadata": {
        "id": "i2nV-1CaD2oW"
      },
      "source": [
        "> **Adding Weekday and Weekend effect**"
      ]
    },
    {
      "cell_type": "markdown",
      "metadata": {
        "id": "QbxvOx81EApa"
      },
      "source": [
        "Electricity power demand and consequently the prices are generally seasonal in nature. Seasonality means cyclicity of a pattern occuring in data over a short range of time. This occurs due to cyclicity in consumer demand patterns. On weekdays the demand may be more as compared to weekends and this needs to be accounted while modelling the time series data. Thus, we will derive a feature (independent variable) to account for the day of week and we will use this feature later in machine learning models."
      ]
    },
    {
      "cell_type": "code",
      "metadata": {
        "colab": {
          "base_uri": "https://localhost:8080/",
          "height": 202
        },
        "id": "FlIjXOGetwcX",
        "outputId": "213231ea-8e6c-4e78-d339-0d038b035b4e"
      },
      "source": [
        "# creating a column to track day of week and HolidayIds\n",
        "price_data['Date'] = pd.to_datetime(price_data.Date)\n",
        "price_data['Day_of_week'] = price_data['Date'].dt.dayofweek\n",
        "\n",
        "# create a function to check if the day of week is a weekend\n",
        "def is_weekend(row):\n",
        "    if (row == 5) or (row == 6):\n",
        "        return 1\n",
        "    else:\n",
        "        return 0\n",
        "\n",
        "# apply is_weekend function to assign a holidayId (1/0 for Weekend/Weekday)\n",
        "price_data['HolidayId'] = price_data['Day_of_week'].apply(is_weekend)\n",
        "price_data = price_data.drop(columns=['Day_of_week'])\n",
        "price_data.head()"
      ],
      "execution_count": 212,
      "outputs": [
        {
          "output_type": "execute_result",
          "data": {
            "text/plain": [
              "        Date  TimeblockId  DAM_Price  RTM_Price  RTM_Purchase_Bid  \\\n",
              "0 2020-01-10            1    2624.91    2089.45             949.1   \n",
              "1 2020-01-10            2    2609.88    2245.41             929.5   \n",
              "2 2020-01-10            3    2674.59    2245.89             963.4   \n",
              "3 2020-01-10            4    2609.42    2245.91             963.4   \n",
              "4 2020-01-10            5    2698.07    2199.82             991.8   \n",
              "\n",
              "   RTM_Selling_Bid  DAM_Purchase_Bid  DAM_Selling_Bid  Demand  HolidayId  \n",
              "0           3145.7            8860.0          12455.1  150321          0  \n",
              "1           3122.7            8732.3          12317.0  149035          0  \n",
              "2           2789.0            8718.6          12182.7  148483          0  \n",
              "3           2818.4            8485.7          12298.9  146938          0  \n",
              "4           2907.7            8728.7          12276.0  145493          0  "
            ],
            "text/html": [
              "<div>\n",
              "<style scoped>\n",
              "    .dataframe tbody tr th:only-of-type {\n",
              "        vertical-align: middle;\n",
              "    }\n",
              "\n",
              "    .dataframe tbody tr th {\n",
              "        vertical-align: top;\n",
              "    }\n",
              "\n",
              "    .dataframe thead th {\n",
              "        text-align: right;\n",
              "    }\n",
              "</style>\n",
              "<table border=\"1\" class=\"dataframe\">\n",
              "  <thead>\n",
              "    <tr style=\"text-align: right;\">\n",
              "      <th></th>\n",
              "      <th>Date</th>\n",
              "      <th>TimeblockId</th>\n",
              "      <th>DAM_Price</th>\n",
              "      <th>RTM_Price</th>\n",
              "      <th>RTM_Purchase_Bid</th>\n",
              "      <th>RTM_Selling_Bid</th>\n",
              "      <th>DAM_Purchase_Bid</th>\n",
              "      <th>DAM_Selling_Bid</th>\n",
              "      <th>Demand</th>\n",
              "      <th>HolidayId</th>\n",
              "    </tr>\n",
              "  </thead>\n",
              "  <tbody>\n",
              "    <tr>\n",
              "      <th>0</th>\n",
              "      <td>2020-01-10</td>\n",
              "      <td>1</td>\n",
              "      <td>2624.91</td>\n",
              "      <td>2089.45</td>\n",
              "      <td>949.1</td>\n",
              "      <td>3145.7</td>\n",
              "      <td>8860.0</td>\n",
              "      <td>12455.1</td>\n",
              "      <td>150321</td>\n",
              "      <td>0</td>\n",
              "    </tr>\n",
              "    <tr>\n",
              "      <th>1</th>\n",
              "      <td>2020-01-10</td>\n",
              "      <td>2</td>\n",
              "      <td>2609.88</td>\n",
              "      <td>2245.41</td>\n",
              "      <td>929.5</td>\n",
              "      <td>3122.7</td>\n",
              "      <td>8732.3</td>\n",
              "      <td>12317.0</td>\n",
              "      <td>149035</td>\n",
              "      <td>0</td>\n",
              "    </tr>\n",
              "    <tr>\n",
              "      <th>2</th>\n",
              "      <td>2020-01-10</td>\n",
              "      <td>3</td>\n",
              "      <td>2674.59</td>\n",
              "      <td>2245.89</td>\n",
              "      <td>963.4</td>\n",
              "      <td>2789.0</td>\n",
              "      <td>8718.6</td>\n",
              "      <td>12182.7</td>\n",
              "      <td>148483</td>\n",
              "      <td>0</td>\n",
              "    </tr>\n",
              "    <tr>\n",
              "      <th>3</th>\n",
              "      <td>2020-01-10</td>\n",
              "      <td>4</td>\n",
              "      <td>2609.42</td>\n",
              "      <td>2245.91</td>\n",
              "      <td>963.4</td>\n",
              "      <td>2818.4</td>\n",
              "      <td>8485.7</td>\n",
              "      <td>12298.9</td>\n",
              "      <td>146938</td>\n",
              "      <td>0</td>\n",
              "    </tr>\n",
              "    <tr>\n",
              "      <th>4</th>\n",
              "      <td>2020-01-10</td>\n",
              "      <td>5</td>\n",
              "      <td>2698.07</td>\n",
              "      <td>2199.82</td>\n",
              "      <td>991.8</td>\n",
              "      <td>2907.7</td>\n",
              "      <td>8728.7</td>\n",
              "      <td>12276.0</td>\n",
              "      <td>145493</td>\n",
              "      <td>0</td>\n",
              "    </tr>\n",
              "  </tbody>\n",
              "</table>\n",
              "</div>"
            ]
          },
          "metadata": {
            "tags": []
          },
          "execution_count": 212
        }
      ]
    },
    {
      "cell_type": "markdown",
      "metadata": {
        "id": "WBy5ciXAE8oN"
      },
      "source": [
        "Now, we have added a feature to account for the day of week affecting the price values."
      ]
    },
    {
      "cell_type": "code",
      "metadata": {
        "colab": {
          "base_uri": "https://localhost:8080/"
        },
        "id": "J85g2w_6B9-m",
        "outputId": "138fa9fe-df02-42ce-c96f-3eb7f5e3cd4a"
      },
      "source": [
        "# check the value counts of Holiday IDs\r\n",
        "price_data.HolidayId.value_counts()"
      ],
      "execution_count": 213,
      "outputs": [
        {
          "output_type": "execute_result",
          "data": {
            "text/plain": [
              "0    7680\n",
              "1    2976\n",
              "Name: HolidayId, dtype: int64"
            ]
          },
          "metadata": {
            "tags": []
          },
          "execution_count": 213
        }
      ]
    },
    {
      "cell_type": "markdown",
      "metadata": {
        "id": "JhXJ7KY1FFPr"
      },
      "source": [
        "Now, we can finally check the no of missing values we have in the dataset."
      ]
    },
    {
      "cell_type": "code",
      "metadata": {
        "colab": {
          "base_uri": "https://localhost:8080/"
        },
        "id": "CWTGEyAHuLO8",
        "outputId": "85828eaa-c696-4dc6-9a71-7ae020e01455"
      },
      "source": [
        "# check for missing values in price dataset\n",
        "price_data.isna().sum()"
      ],
      "execution_count": 214,
      "outputs": [
        {
          "output_type": "execute_result",
          "data": {
            "text/plain": [
              "Date                 0\n",
              "TimeblockId          0\n",
              "DAM_Price            0\n",
              "RTM_Price           12\n",
              "RTM_Purchase_Bid    12\n",
              "RTM_Selling_Bid     12\n",
              "DAM_Purchase_Bid     0\n",
              "DAM_Selling_Bid      0\n",
              "Demand               0\n",
              "HolidayId            0\n",
              "dtype: int64"
            ]
          },
          "metadata": {
            "tags": []
          },
          "execution_count": 214
        }
      ]
    },
    {
      "cell_type": "markdown",
      "metadata": {
        "id": "_i0QjwMRGoQc"
      },
      "source": [
        "Thus, this confirms that there were infact a few non-numeric values that were converted to null values while numerical conversion. We will use frontfilling or backfilling method to fill this data. However, we can use advanced interpolation techniques to fill this data as well."
      ]
    },
    {
      "cell_type": "code",
      "metadata": {
        "colab": {
          "base_uri": "https://localhost:8080/"
        },
        "id": "3P_qIOgxMVi3",
        "outputId": "53c8d4df-9ccc-454e-c363-5ac09b1079ca"
      },
      "source": [
        "# filling the value from previous timeblock for all NaN or NA\r\n",
        "price_data = price_data.ffill(axis = 0)\r\n",
        "price_data.isna().sum()"
      ],
      "execution_count": 215,
      "outputs": [
        {
          "output_type": "execute_result",
          "data": {
            "text/plain": [
              "Date                0\n",
              "TimeblockId         0\n",
              "DAM_Price           0\n",
              "RTM_Price           0\n",
              "RTM_Purchase_Bid    0\n",
              "RTM_Selling_Bid     0\n",
              "DAM_Purchase_Bid    0\n",
              "DAM_Selling_Bid     0\n",
              "Demand              0\n",
              "HolidayId           0\n",
              "dtype: int64"
            ]
          },
          "metadata": {
            "tags": []
          },
          "execution_count": 215
        }
      ]
    },
    {
      "cell_type": "markdown",
      "metadata": {
        "id": "QeL46cFxG9nD"
      },
      "source": [
        "> **Adding Public Holidays effect**"
      ]
    },
    {
      "cell_type": "markdown",
      "metadata": {
        "id": "wuaVCY5QHFSL"
      },
      "source": [
        "On account of public holidays, since many industries are shut, an impact of overall electricity load is seen which in turn impacts the prices on exchange. Thus, it will be great to add the effect of these special days. In your own respective regions, this day can be a public holiday or election day etc."
      ]
    },
    {
      "cell_type": "code",
      "metadata": {
        "id": "FUCVPH8wufry"
      },
      "source": [
        "# Assign special days as a value of 2\n",
        "price_data.loc[price_data.Date == datetime.datetime(2020,10,2,0,0,0), 'HolidayId'] = 2 #Gandhi Jayanti\n",
        "price_data.loc[price_data.Date == datetime.datetime(2020,10,25,0,0,0), 'HolidayId'] = 2 #Dusshera\n",
        "price_data.loc[price_data.Date == datetime.datetime(2020,10,30,0,0,0), 'HolidayId'] = 2 #Good Friday\n",
        "price_data.loc[price_data.Date == datetime.datetime(2020,11,14,0,0,0), 'HolidayId'] = 2 #Diwali\n",
        "price_data.loc[price_data.Date == datetime.datetime(2020,12,25,0,0,0), 'HolidayId'] = 2 #Christmas\n",
        "price_data.loc[price_data.Date == datetime.datetime(2020,12,31,0,0,0), 'HolidayId'] = 2 #New Year"
      ],
      "execution_count": 216,
      "outputs": []
    },
    {
      "cell_type": "markdown",
      "metadata": {
        "id": "ztTLI1DPHlHf"
      },
      "source": [
        "Here, for demonstration purposes, we have only considered holidays that lie in the timestamp range of our dataset. However, this data can also come from a secondary source and can be integrated into the pipeline."
      ]
    },
    {
      "cell_type": "code",
      "metadata": {
        "colab": {
          "base_uri": "https://localhost:8080/"
        },
        "id": "xmAs0wZaCHaa",
        "outputId": "f797264c-78c7-4df5-f63a-32374ba598b5"
      },
      "source": [
        "price_data.HolidayId.value_counts()"
      ],
      "execution_count": 217,
      "outputs": [
        {
          "output_type": "execute_result",
          "data": {
            "text/plain": [
              "0    7392\n",
              "1    2784\n",
              "2     480\n",
              "Name: HolidayId, dtype: int64"
            ]
          },
          "metadata": {
            "tags": []
          },
          "execution_count": 217
        }
      ]
    },
    {
      "cell_type": "markdown",
      "metadata": {
        "id": "X4_nvoFyH9rJ"
      },
      "source": [
        "Now that we have accounted for the effect of weekdays, weekends and special days on the price movements in our data, we are ready to make transformations to prepare the data required for modelling. As discussed earlier, we will use a technique called reduction to account for time dependency and autocorrelation in the price values. But, before that lets us visualize the data to get an intuition of the required features that can be fed into our machine learning models."
      ]
    },
    {
      "cell_type": "markdown",
      "metadata": {
        "id": "c61UAeM6I_Dr"
      },
      "source": [
        "> **Exploratory Data Analysis**"
      ]
    },
    {
      "cell_type": "markdown",
      "metadata": {
        "id": "9XGn0yR9JGEj"
      },
      "source": [
        "In this sections, we will look at the Auto Correlation Function (ACF) plots to check for time dependency as well heatmap to understand the correlations between dependent and independent variables."
      ]
    },
    {
      "cell_type": "code",
      "metadata": {
        "colab": {
          "base_uri": "https://localhost:8080/",
          "height": 499
        },
        "id": "TgKI1rUIKF8f",
        "outputId": "4ea90138-390b-4d5f-94be-434062cef442"
      },
      "source": [
        "# plotting the autocorrelation and partial autocorrelation plots for prices\r\n",
        "fig,ax = plt.subplots(2,1,figsize=(15,8))\r\n",
        "fig = sm.graphics.tsa.plot_acf(price_data.RTM_Price, lags=96, ax=ax[0], zero=False, title='ACF of Prices (96 Lags)')\r\n",
        "fig = sm.graphics.tsa.plot_pacf(price_data.RTM_Price, lags=96, ax=ax[1], zero=False, title='PACF of Prices (96 Lags)')\r\n",
        "plt.show()"
      ],
      "execution_count": 218,
      "outputs": [
        {
          "output_type": "display_data",
          "data": {
            "text/plain": [
              "<Figure size 1080x576 with 2 Axes>"
            ],
            "image/png": "[encoded data removed]"
          },
          "metadata": {
            "tags": [],
            "needs_background": "light"
          }
        }
      ]
    },
    {
      "cell_type": "markdown",
      "metadata": {
        "id": "q6TsAO8GNzEF"
      },
      "source": [
        "The ACF plot suggests that the dependency of current price value on the last 20 lags (no of time periods behind the current time period) is significant. The PACF plot suggests that upto 7 lags are significant in explaining the current price value. This clearly indicates that the timeblock in which the trade executes has some dependency on the TimeBlockId, thus we need to account for this dependency."
      ]
    },
    {
      "cell_type": "code",
      "metadata": {
        "colab": {
          "base_uri": "https://localhost:8080/",
          "height": 499
        },
        "id": "jZRw8PyLQ7Gz",
        "outputId": "831a51d4-192e-400c-e178-b77d4c280e9b"
      },
      "source": [
        "# plotting the autocorrelation and partial autocorrelation plots for prices\r\n",
        "fig,ax = plt.subplots(2,1,figsize=(15,8))\r\n",
        "fig = sm.graphics.tsa.plot_acf(price_data.RTM_Price, lags=96*2, ax=ax[0], zero=False, title='ACF of Prices (96*2 Lags)')\r\n",
        "fig = sm.graphics.tsa.plot_pacf(price_data.RTM_Price, lags=96*2, ax=ax[1], zero=False, title='PACF of Prices (96*2 Lags)')\r\n",
        "plt.show()"
      ],
      "execution_count": 219,
      "outputs": [
        {
          "output_type": "display_data",
          "data": {
            "text/plain": [
              "<Figure size 1080x576 with 2 Axes>"
            ],
            "image/png": "[encoded data removed]"
          },
          "metadata": {
            "tags": [],
            "needs_background": "light"
          }
        }
      ]
    },
    {
      "cell_type": "markdown",
      "metadata": {
        "id": "qKZRGS5URRtN"
      },
      "source": [
        "The ACF plot suggests that the dependency of current price value on the lags before 96 blocks (lags) is significant. The PACF plot suggests that upto 7 lags from the previous day are significant in explaining the current price value. This clearly indicates that the timeblock in which the trade executes has some dependency on the TimeBlockId, thus we need to account for this dependency."
      ]
    },
    {
      "cell_type": "code",
      "metadata": {
        "colab": {
          "base_uri": "https://localhost:8080/",
          "height": 499
        },
        "id": "NXaUUGCMO4tV",
        "outputId": "ae6b6890-3194-4cc9-89c2-1cdcf7018bf2"
      },
      "source": [
        "# plotting the autocorrelation and partial autocorrelation plots for prices\r\n",
        "fig,ax = plt.subplots(2,1,figsize=(15,8))\r\n",
        "fig = sm.graphics.tsa.plot_acf(price_data.RTM_Price, lags=96*7, ax=ax[0], zero=False, title='ACF of Prices (96*7 Lags)')\r\n",
        "fig = sm.graphics.tsa.plot_pacf(price_data.RTM_Price, lags=96*7, ax=ax[1], zero=False, title='PACF of Prices (96*7 Lags)')\r\n",
        "plt.show()"
      ],
      "execution_count": 220,
      "outputs": [
        {
          "output_type": "display_data",
          "data": {
            "text/plain": [
              "<Figure size 1080x576 with 2 Axes>"
            ],
            "image/png": "[encoded data removed]"
          },
          "metadata": {
            "tags": [],
            "needs_background": "light"
          }
        }
      ]
    },
    {
      "cell_type": "markdown",
      "metadata": {
        "id": "8qGKNJ69PW--"
      },
      "source": [
        "Again, we checked if there is an evidence of correlation between the price values one week back. The ACF and PACF plots displayed above suggest that timeperiods 7 days back are significant in explaining the current values suggesting presence of a weekly seasonality that should also be accounted for."
      ]
    },
    {
      "cell_type": "code",
      "metadata": {
        "colab": {
          "base_uri": "https://localhost:8080/",
          "height": 531
        },
        "id": "B2x4shU0BmUf",
        "outputId": "4190671a-c646-49b8-a148-ef16da2b4204"
      },
      "source": [
        "# checking the correlation between the variables\n",
        "# by plotting the heatmap of the correlation matrix\n",
        "plt.figure(figsize=(10,7))\n",
        "sns.heatmap(price_data.corr(), annot=True)\n",
        "plt.title('Correlation Plot of Price Attributes', size=16)\n",
        "plt.show()"
      ],
      "execution_count": 221,
      "outputs": [
        {
          "output_type": "display_data",
          "data": {
            "text/plain": [
              "<Figure size 720x504 with 2 Axes>"
            ],
            "image/png": "[encoded data removed]"
          },
          "metadata": {
            "tags": [],
            "needs_background": "light"
          }
        }
      ]
    },
    {
      "cell_type": "markdown",
      "metadata": {
        "id": "5Qkl2yd0QqKV"
      },
      "source": [
        "We can see that the dependent variable i.e. `RTM_Price` is very well correlated to the features present in the dataset. Though, we can observe some multicollinearity between the independent variables (features), our choice of modelling algorithms (i.e. the inherent design of the algorithm such as RandomForest of XGboost) are able to handle presence of multicollinearity among the features. This is because both of these algorithms use Ensembles of Decision Trees built on subsets of these features thus reducing the chance of usage of multicollinear features for estimations.\r\n",
        "\r\n",
        "On the basis of these findings, we will do data preparation for modelling by applying required transformations to account for timeblock dependence and weekly seasonality."
      ]
    },
    {
      "cell_type": "code",
      "metadata": {
        "colab": {
          "base_uri": "https://localhost:8080/",
          "height": 353
        },
        "id": "ral6xVBTNyFw",
        "outputId": "14e6dc28-6073-48d8-d756-fb09e3f41b93"
      },
      "source": [
        "# check for the box plot and distribution of price data in the dataset\r\n",
        "plt.figure(figsize=(20,5))\r\n",
        "plt.subplot(1,2,1)\r\n",
        "plt.title('Box Plot of RTM Prices', size=16)\r\n",
        "sns.boxplot(price_data.RTM_Price)\r\n",
        "plt.subplot(1,2,2)\r\n",
        "plt.title('Distibution Plot of RTM Prices', size=16)\r\n",
        "sns.distplot(price_data.RTM_Price)\r\n",
        "plt.show()"
      ],
      "execution_count": 222,
      "outputs": [
        {
          "output_type": "display_data",
          "data": {
            "text/plain": [
              "<Figure size 1440x360 with 2 Axes>"
            ],
            "image/png": "[encoded data removed]"
          },
          "metadata": {
            "tags": [],
            "needs_background": "light"
          }
        }
      ]
    },
    {
      "cell_type": "markdown",
      "metadata": {
        "id": "lXweBMKJRhNY"
      },
      "source": [
        "The boxplots shows the presence of few extreme values in the dataset. We may think of removing or capping these values but we will let it remain as it is as it is representative of real time situations and thus we should be able to model such instances as well.\r\n",
        "\r\n",
        "In the distribution plot we can see that the prices approximately follows a normal distribution, thus we can apply our machine learning algorithms on price as the target variable without any transformations."
      ]
    },
    {
      "cell_type": "markdown",
      "metadata": {
        "id": "5P6DQTbYSIDb"
      },
      "source": [
        "> **Data Preparation and Feature Engineering**"
      ]
    },
    {
      "cell_type": "markdown",
      "metadata": {
        "id": "X2uNBqZDKQpn"
      },
      "source": [
        "Now, we will do feature engineering and create a new dataset holding only the variables required for modelling."
      ]
    },
    {
      "cell_type": "code",
      "metadata": {
        "id": "HxEVrmk9u1I-"
      },
      "source": [
        "# create two dataframe to hold values\n",
        "# two dataframes are created to hold current day and last week same day values\n",
        "# finally we will use df1 dataframe to create the train-test split thus df2 is a temporary df\n",
        "df1 = pd.DataFrame()\n",
        "df2 = pd.DataFrame()"
      ],
      "execution_count": 223,
      "outputs": []
    },
    {
      "cell_type": "code",
      "metadata": {
        "colab": {
          "base_uri": "https://localhost:8080/",
          "height": 202
        },
        "id": "1-0Fd1qsADKw",
        "outputId": "2d87e388-27e0-4c27-f660-0d9261d24324"
      },
      "source": [
        "# we start at 8th october to backtrack and create variables to\n",
        "# account for previous week and previous day dependencies in the data\n",
        "oct8index = 672 # 96*7\n",
        "df1['TimeblockId'] = price_data['TimeblockId'][oct8index:]\n",
        "df1['HolidayId'] = price_data['HolidayId'][oct8index:]\n",
        "df1['DAM_Price'] = price_data['DAM_Price'][oct8index:]\n",
        "df1['DAM_Purchase_Bid'] = price_data['DAM_Purchase_Bid'][oct8index:]\n",
        "df1['DAM_Selling_Bid'] = price_data['DAM_Selling_Bid'][oct8index:]\n",
        "df1['RTM_Price_SD'] = price_data['RTM_Price'][oct8index:]\n",
        "\n",
        "df1.reset_index(inplace = True)\n",
        "df1 = df1.drop(['index'], axis = 1)\n",
        "\n",
        "last_wkday_index = -672\n",
        "\n",
        "# taking data from same day last week \n",
        "# same day is 8th Oct so starting same day last week is 1st Oct\n",
        "df1['RTM_Price_SDLW'] = price_data['RTM_Price'][:last_wkday_index]\n",
        "df1['RTM_Purchase_Bid_SDLW'] = price_data['RTM_Purchase_Bid'][:last_wkday_index]\n",
        "df1['RTM_Selling_Bid_SDLW'] = price_data['RTM_Selling_Bid'][:last_wkday_index]\n",
        "\n",
        "# taking data from same day last week \n",
        "# same day is 8th Oct so starting same day last week is 1st Oct\n",
        "\n",
        "oct7_index = 576 # 96*6 blocks\n",
        "df2['RTM_Price_PD'] = price_data['RTM_Price'][oct7_index:-96]\n",
        "df2['RTM_Purchase_Bid_PD'] = price_data['RTM_Purchase_Bid'][oct7_index:-96]\n",
        "df2['RTM_Selling_Bid_PD'] = price_data['RTM_Selling_Bid'][oct7_index:-96]\n",
        "df2.reset_index(inplace = True)\n",
        "df2.drop('index', axis=1, inplace=True)\n",
        "df2.head()"
      ],
      "execution_count": 224,
      "outputs": [
        {
          "output_type": "execute_result",
          "data": {
            "text/plain": [
              "   RTM_Price_PD  RTM_Purchase_Bid_PD  RTM_Selling_Bid_PD\n",
              "0       3673.80               2115.6              2284.8\n",
              "1       3673.08               2062.1              2337.6\n",
              "2       3199.19               1715.5              2371.5\n",
              "3       3199.29               1716.8              2363.8\n",
              "4       2999.96               1459.3              2156.3"
            ],
            "text/html": [
              "<div>\n",
              "<style scoped>\n",
              "    .dataframe tbody tr th:only-of-type {\n",
              "        vertical-align: middle;\n",
              "    }\n",
              "\n",
              "    .dataframe tbody tr th {\n",
              "        vertical-align: top;\n",
              "    }\n",
              "\n",
              "    .dataframe thead th {\n",
              "        text-align: right;\n",
              "    }\n",
              "</style>\n",
              "<table border=\"1\" class=\"dataframe\">\n",
              "  <thead>\n",
              "    <tr style=\"text-align: right;\">\n",
              "      <th></th>\n",
              "      <th>RTM_Price_PD</th>\n",
              "      <th>RTM_Purchase_Bid_PD</th>\n",
              "      <th>RTM_Selling_Bid_PD</th>\n",
              "    </tr>\n",
              "  </thead>\n",
              "  <tbody>\n",
              "    <tr>\n",
              "      <th>0</th>\n",
              "      <td>3673.80</td>\n",
              "      <td>2115.6</td>\n",
              "      <td>2284.8</td>\n",
              "    </tr>\n",
              "    <tr>\n",
              "      <th>1</th>\n",
              "      <td>3673.08</td>\n",
              "      <td>2062.1</td>\n",
              "      <td>2337.6</td>\n",
              "    </tr>\n",
              "    <tr>\n",
              "      <th>2</th>\n",
              "      <td>3199.19</td>\n",
              "      <td>1715.5</td>\n",
              "      <td>2371.5</td>\n",
              "    </tr>\n",
              "    <tr>\n",
              "      <th>3</th>\n",
              "      <td>3199.29</td>\n",
              "      <td>1716.8</td>\n",
              "      <td>2363.8</td>\n",
              "    </tr>\n",
              "    <tr>\n",
              "      <th>4</th>\n",
              "      <td>2999.96</td>\n",
              "      <td>1459.3</td>\n",
              "      <td>2156.3</td>\n",
              "    </tr>\n",
              "  </tbody>\n",
              "</table>\n",
              "</div>"
            ]
          },
          "metadata": {
            "tags": []
          },
          "execution_count": 224
        }
      ]
    },
    {
      "cell_type": "code",
      "metadata": {
        "colab": {
          "base_uri": "https://localhost:8080/"
        },
        "id": "oDDIOfNJEKLB",
        "outputId": "0ccf4c17-d6de-4f75-c70d-bdfe1ec1bca7"
      },
      "source": [
        "# check shapes of both dataframes\n",
        "df1.shape, df2.shape"
      ],
      "execution_count": 225,
      "outputs": [
        {
          "output_type": "execute_result",
          "data": {
            "text/plain": [
              "((9984, 9), (9984, 3))"
            ]
          },
          "metadata": {
            "tags": []
          },
          "execution_count": 225
        }
      ]
    },
    {
      "cell_type": "code",
      "metadata": {
        "colab": {
          "base_uri": "https://localhost:8080/",
          "height": 222
        },
        "id": "T6Bt0WnuErTg",
        "outputId": "ea3a267a-c9fc-46c6-a361-36fbfefdc4af"
      },
      "source": [
        "# merging values from both dataframes\n",
        "df1['RTM_Price_PD'] = df2['RTM_Price_PD']\n",
        "df1['RTM_Purchase_Bid_PD'] = df2['RTM_Purchase_Bid_PD']\n",
        "df1['RTM_Selling_Bid_PD'] = df2['RTM_Selling_Bid_PD']\n",
        "\n",
        "df1 = df1[['TimeblockId','HolidayId','DAM_Price','DAM_Purchase_Bid','DAM_Selling_Bid','RTM_Price_PD',\n",
        "           'RTM_Purchase_Bid_PD','RTM_Selling_Bid_PD','RTM_Price_SDLW','RTM_Purchase_Bid_SDLW', \\\n",
        "           'RTM_Selling_Bid_SDLW', 'RTM_Price_SD']]\n",
        "\n",
        "df1.head()"
      ],
      "execution_count": 226,
      "outputs": [
        {
          "output_type": "execute_result",
          "data": {
            "text/plain": [
              "   TimeblockId  HolidayId  DAM_Price  DAM_Purchase_Bid  DAM_Selling_Bid  \\\n",
              "0            1          0    2849.39           10274.1          10312.4   \n",
              "1            2          0    2804.69           10187.2          10410.3   \n",
              "2            3          0    2802.65           10142.6          10411.2   \n",
              "3            4          0    2749.39            9716.9          10466.8   \n",
              "4            5          0    2799.37            9666.8          10427.3   \n",
              "\n",
              "   RTM_Price_PD  RTM_Purchase_Bid_PD  RTM_Selling_Bid_PD  RTM_Price_SDLW  \\\n",
              "0       3673.80               2115.6              2284.8         2089.45   \n",
              "1       3673.08               2062.1              2337.6         2245.41   \n",
              "2       3199.19               1715.5              2371.5         2245.89   \n",
              "3       3199.29               1716.8              2363.8         2245.91   \n",
              "4       2999.96               1459.3              2156.3         2199.82   \n",
              "\n",
              "   RTM_Purchase_Bid_SDLW  RTM_Selling_Bid_SDLW  RTM_Price_SD  \n",
              "0                  949.1                3145.7       3921.56  \n",
              "1                  929.5                3122.7       3921.12  \n",
              "2                  963.4                2789.0       3214.28  \n",
              "3                  963.4                2818.4       3199.59  \n",
              "4                  991.8                2907.7       3119.50  "
            ],
            "text/html": [
              "<div>\n",
              "<style scoped>\n",
              "    .dataframe tbody tr th:only-of-type {\n",
              "        vertical-align: middle;\n",
              "    }\n",
              "\n",
              "    .dataframe tbody tr th {\n",
              "        vertical-align: top;\n",
              "    }\n",
              "\n",
              "    .dataframe thead th {\n",
              "        text-align: right;\n",
              "    }\n",
              "</style>\n",
              "<table border=\"1\" class=\"dataframe\">\n",
              "  <thead>\n",
              "    <tr style=\"text-align: right;\">\n",
              "      <th></th>\n",
              "      <th>TimeblockId</th>\n",
              "      <th>HolidayId</th>\n",
              "      <th>DAM_Price</th>\n",
              "      <th>DAM_Purchase_Bid</th>\n",
              "      <th>DAM_Selling_Bid</th>\n",
              "      <th>RTM_Price_PD</th>\n",
              "      <th>RTM_Purchase_Bid_PD</th>\n",
              "      <th>RTM_Selling_Bid_PD</th>\n",
              "      <th>RTM_Price_SDLW</th>\n",
              "      <th>RTM_Purchase_Bid_SDLW</th>\n",
              "      <th>RTM_Selling_Bid_SDLW</th>\n",
              "      <th>RTM_Price_SD</th>\n",
              "    </tr>\n",
              "  </thead>\n",
              "  <tbody>\n",
              "    <tr>\n",
              "      <th>0</th>\n",
              "      <td>1</td>\n",
              "      <td>0</td>\n",
              "      <td>2849.39</td>\n",
              "      <td>10274.1</td>\n",
              "      <td>10312.4</td>\n",
              "      <td>3673.80</td>\n",
              "      <td>2115.6</td>\n",
              "      <td>2284.8</td>\n",
              "      <td>2089.45</td>\n",
              "      <td>949.1</td>\n",
              "      <td>3145.7</td>\n",
              "      <td>3921.56</td>\n",
              "    </tr>\n",
              "    <tr>\n",
              "      <th>1</th>\n",
              "      <td>2</td>\n",
              "      <td>0</td>\n",
              "      <td>2804.69</td>\n",
              "      <td>10187.2</td>\n",
              "      <td>10410.3</td>\n",
              "      <td>3673.08</td>\n",
              "      <td>2062.1</td>\n",
              "      <td>2337.6</td>\n",
              "      <td>2245.41</td>\n",
              "      <td>929.5</td>\n",
              "      <td>3122.7</td>\n",
              "      <td>3921.12</td>\n",
              "    </tr>\n",
              "    <tr>\n",
              "      <th>2</th>\n",
              "      <td>3</td>\n",
              "      <td>0</td>\n",
              "      <td>2802.65</td>\n",
              "      <td>10142.6</td>\n",
              "      <td>10411.2</td>\n",
              "      <td>3199.19</td>\n",
              "      <td>1715.5</td>\n",
              "      <td>2371.5</td>\n",
              "      <td>2245.89</td>\n",
              "      <td>963.4</td>\n",
              "      <td>2789.0</td>\n",
              "      <td>3214.28</td>\n",
              "    </tr>\n",
              "    <tr>\n",
              "      <th>3</th>\n",
              "      <td>4</td>\n",
              "      <td>0</td>\n",
              "      <td>2749.39</td>\n",
              "      <td>9716.9</td>\n",
              "      <td>10466.8</td>\n",
              "      <td>3199.29</td>\n",
              "      <td>1716.8</td>\n",
              "      <td>2363.8</td>\n",
              "      <td>2245.91</td>\n",
              "      <td>963.4</td>\n",
              "      <td>2818.4</td>\n",
              "      <td>3199.59</td>\n",
              "    </tr>\n",
              "    <tr>\n",
              "      <th>4</th>\n",
              "      <td>5</td>\n",
              "      <td>0</td>\n",
              "      <td>2799.37</td>\n",
              "      <td>9666.8</td>\n",
              "      <td>10427.3</td>\n",
              "      <td>2999.96</td>\n",
              "      <td>1459.3</td>\n",
              "      <td>2156.3</td>\n",
              "      <td>2199.82</td>\n",
              "      <td>991.8</td>\n",
              "      <td>2907.7</td>\n",
              "      <td>3119.50</td>\n",
              "    </tr>\n",
              "  </tbody>\n",
              "</table>\n",
              "</div>"
            ]
          },
          "metadata": {
            "tags": []
          },
          "execution_count": 226
        }
      ]
    },
    {
      "cell_type": "markdown",
      "metadata": {
        "id": "yn551TD_FAYm"
      },
      "source": [
        "> **Demand Data Transformations to take previous day and previous week effect**"
      ]
    },
    {
      "cell_type": "markdown",
      "metadata": {
        "id": "oBk52IMAKEEY"
      },
      "source": [
        "Next, we will apply some transformation on the demand data to extact the previous day and previous week demand into account."
      ]
    },
    {
      "cell_type": "code",
      "metadata": {
        "id": "wSq7CMoJFYhp",
        "colab": {
          "base_uri": "https://localhost:8080/",
          "height": 222
        },
        "outputId": "38010c02-a6b1-4a23-87fd-9c63831a0a8d"
      },
      "source": [
        "## taking data from same day last week \n",
        "# same day is 8th Oct so starting same day last week is 1st Oct\n",
        "# previous day is 7th Oct\n",
        "df2= pd.DataFrame()\n",
        "df2['Demand_PD'] = price_data['Demand'][576:-96]\n",
        "df2.reset_index(inplace = True)\n",
        "df2 = df2.drop(['index'], axis = 1)\n",
        "\n",
        "df1['Demand_PD'] = df2['Demand_PD']\n",
        "df2= pd.DataFrame()\n",
        "df2['Demand_SDLW'] = price_data['Demand'][192:-672]\n",
        "df2.reset_index(inplace = True)\n",
        "df2 = df2.drop(['index'], axis = 1)\n",
        "\n",
        "df1['Demand_SDLW'] = df2['Demand_SDLW']\n",
        "df1.head()"
      ],
      "execution_count": 227,
      "outputs": [
        {
          "output_type": "execute_result",
          "data": {
            "text/plain": [
              "   TimeblockId  HolidayId  DAM_Price  DAM_Purchase_Bid  DAM_Selling_Bid  \\\n",
              "0            1          0    2849.39           10274.1          10312.4   \n",
              "1            2          0    2804.69           10187.2          10410.3   \n",
              "2            3          0    2802.65           10142.6          10411.2   \n",
              "3            4          0    2749.39            9716.9          10466.8   \n",
              "4            5          0    2799.37            9666.8          10427.3   \n",
              "\n",
              "   RTM_Price_PD  RTM_Purchase_Bid_PD  RTM_Selling_Bid_PD  RTM_Price_SDLW  \\\n",
              "0       3673.80               2115.6              2284.8         2089.45   \n",
              "1       3673.08               2062.1              2337.6         2245.41   \n",
              "2       3199.19               1715.5              2371.5         2245.89   \n",
              "3       3199.29               1716.8              2363.8         2245.91   \n",
              "4       2999.96               1459.3              2156.3         2199.82   \n",
              "\n",
              "   RTM_Purchase_Bid_SDLW  RTM_Selling_Bid_SDLW  RTM_Price_SD  Demand_PD  \\\n",
              "0                  949.1                3145.7       3921.56     145315   \n",
              "1                  929.5                3122.7       3921.12     143759   \n",
              "2                  963.4                2789.0       3214.28     143365   \n",
              "3                  963.4                2818.4       3199.59     141513   \n",
              "4                  991.8                2907.7       3119.50     139912   \n",
              "\n",
              "   Demand_SDLW  \n",
              "0     148652.0  \n",
              "1     147277.0  \n",
              "2     146777.0  \n",
              "3     145130.0  \n",
              "4     143633.0  "
            ],
            "text/html": [
              "<div>\n",
              "<style scoped>\n",
              "    .dataframe tbody tr th:only-of-type {\n",
              "        vertical-align: middle;\n",
              "    }\n",
              "\n",
              "    .dataframe tbody tr th {\n",
              "        vertical-align: top;\n",
              "    }\n",
              "\n",
              "    .dataframe thead th {\n",
              "        text-align: right;\n",
              "    }\n",
              "</style>\n",
              "<table border=\"1\" class=\"dataframe\">\n",
              "  <thead>\n",
              "    <tr style=\"text-align: right;\">\n",
              "      <th></th>\n",
              "      <th>TimeblockId</th>\n",
              "      <th>HolidayId</th>\n",
              "      <th>DAM_Price</th>\n",
              "      <th>DAM_Purchase_Bid</th>\n",
              "      <th>DAM_Selling_Bid</th>\n",
              "      <th>RTM_Price_PD</th>\n",
              "      <th>RTM_Purchase_Bid_PD</th>\n",
              "      <th>RTM_Selling_Bid_PD</th>\n",
              "      <th>RTM_Price_SDLW</th>\n",
              "      <th>RTM_Purchase_Bid_SDLW</th>\n",
              "      <th>RTM_Selling_Bid_SDLW</th>\n",
              "      <th>RTM_Price_SD</th>\n",
              "      <th>Demand_PD</th>\n",
              "      <th>Demand_SDLW</th>\n",
              "    </tr>\n",
              "  </thead>\n",
              "  <tbody>\n",
              "    <tr>\n",
              "      <th>0</th>\n",
              "      <td>1</td>\n",
              "      <td>0</td>\n",
              "      <td>2849.39</td>\n",
              "      <td>10274.1</td>\n",
              "      <td>10312.4</td>\n",
              "      <td>3673.80</td>\n",
              "      <td>2115.6</td>\n",
              "      <td>2284.8</td>\n",
              "      <td>2089.45</td>\n",
              "      <td>949.1</td>\n",
              "      <td>3145.7</td>\n",
              "      <td>3921.56</td>\n",
              "      <td>145315</td>\n",
              "      <td>148652.0</td>\n",
              "    </tr>\n",
              "    <tr>\n",
              "      <th>1</th>\n",
              "      <td>2</td>\n",
              "      <td>0</td>\n",
              "      <td>2804.69</td>\n",
              "      <td>10187.2</td>\n",
              "      <td>10410.3</td>\n",
              "      <td>3673.08</td>\n",
              "      <td>2062.1</td>\n",
              "      <td>2337.6</td>\n",
              "      <td>2245.41</td>\n",
              "      <td>929.5</td>\n",
              "      <td>3122.7</td>\n",
              "      <td>3921.12</td>\n",
              "      <td>143759</td>\n",
              "      <td>147277.0</td>\n",
              "    </tr>\n",
              "    <tr>\n",
              "      <th>2</th>\n",
              "      <td>3</td>\n",
              "      <td>0</td>\n",
              "      <td>2802.65</td>\n",
              "      <td>10142.6</td>\n",
              "      <td>10411.2</td>\n",
              "      <td>3199.19</td>\n",
              "      <td>1715.5</td>\n",
              "      <td>2371.5</td>\n",
              "      <td>2245.89</td>\n",
              "      <td>963.4</td>\n",
              "      <td>2789.0</td>\n",
              "      <td>3214.28</td>\n",
              "      <td>143365</td>\n",
              "      <td>146777.0</td>\n",
              "    </tr>\n",
              "    <tr>\n",
              "      <th>3</th>\n",
              "      <td>4</td>\n",
              "      <td>0</td>\n",
              "      <td>2749.39</td>\n",
              "      <td>9716.9</td>\n",
              "      <td>10466.8</td>\n",
              "      <td>3199.29</td>\n",
              "      <td>1716.8</td>\n",
              "      <td>2363.8</td>\n",
              "      <td>2245.91</td>\n",
              "      <td>963.4</td>\n",
              "      <td>2818.4</td>\n",
              "      <td>3199.59</td>\n",
              "      <td>141513</td>\n",
              "      <td>145130.0</td>\n",
              "    </tr>\n",
              "    <tr>\n",
              "      <th>4</th>\n",
              "      <td>5</td>\n",
              "      <td>0</td>\n",
              "      <td>2799.37</td>\n",
              "      <td>9666.8</td>\n",
              "      <td>10427.3</td>\n",
              "      <td>2999.96</td>\n",
              "      <td>1459.3</td>\n",
              "      <td>2156.3</td>\n",
              "      <td>2199.82</td>\n",
              "      <td>991.8</td>\n",
              "      <td>2907.7</td>\n",
              "      <td>3119.50</td>\n",
              "      <td>139912</td>\n",
              "      <td>143633.0</td>\n",
              "    </tr>\n",
              "  </tbody>\n",
              "</table>\n",
              "</div>"
            ]
          },
          "metadata": {
            "tags": []
          },
          "execution_count": 227
        }
      ]
    },
    {
      "cell_type": "code",
      "metadata": {
        "colab": {
          "base_uri": "https://localhost:8080/",
          "height": 251
        },
        "id": "kSXI0yEYKJ7M",
        "outputId": "5ca7abbf-5b00-4392-8a0a-315c28013a71"
      },
      "source": [
        "# create dummy variables for HolidayIds and Time Blocks\n",
        "df1 = pd.get_dummies(df1, columns = ['HolidayId'] )\n",
        "df1 = pd.get_dummies(df1, columns = ['TimeblockId'] )\n",
        "df1 = df1[['TimeblockId_1','TimeblockId_2','TimeblockId_3','TimeblockId_4','TimeblockId_5','TimeblockId_6','TimeblockId_7',\n",
        "           'TimeblockId_8','TimeblockId_9','TimeblockId_10','TimeblockId_11','TimeblockId_12','TimeblockId_13','TimeblockId_14',\n",
        "           'TimeblockId_15','TimeblockId_16','TimeblockId_17','TimeblockId_18','TimeblockId_19','TimeblockId_20','TimeblockId_21',\n",
        "           'TimeblockId_22','TimeblockId_23','TimeblockId_24','TimeblockId_25','TimeblockId_26','TimeblockId_27','TimeblockId_28',\n",
        "           'TimeblockId_29','TimeblockId_30','TimeblockId_31','TimeblockId_32','TimeblockId_33','TimeblockId_34','TimeblockId_35',\n",
        "           'TimeblockId_36','TimeblockId_37','TimeblockId_38','TimeblockId_39','TimeblockId_40','TimeblockId_41','TimeblockId_42',\n",
        "           'TimeblockId_43','TimeblockId_44','TimeblockId_45','TimeblockId_46','TimeblockId_47','TimeblockId_48','TimeblockId_49',\n",
        "           'TimeblockId_50','TimeblockId_51','TimeblockId_52','TimeblockId_53','TimeblockId_54','TimeblockId_55','TimeblockId_56',\n",
        "           'TimeblockId_57','TimeblockId_58','TimeblockId_59','TimeblockId_60','TimeblockId_61','TimeblockId_62','TimeblockId_63',\n",
        "           'TimeblockId_64','TimeblockId_65','TimeblockId_66','TimeblockId_67','TimeblockId_68','TimeblockId_69','TimeblockId_70',\n",
        "           'TimeblockId_71','TimeblockId_72','TimeblockId_73','TimeblockId_74','TimeblockId_75','TimeblockId_76','TimeblockId_77',\n",
        "           'TimeblockId_78','TimeblockId_79','TimeblockId_80','TimeblockId_81','TimeblockId_82','TimeblockId_83','TimeblockId_84',\n",
        "           'TimeblockId_85','TimeblockId_86','TimeblockId_87','TimeblockId_88','TimeblockId_89','TimeblockId_90','TimeblockId_91',\n",
        "           'TimeblockId_92','TimeblockId_93','TimeblockId_94','TimeblockId_95','TimeblockId_96','HolidayId_0','HolidayId_1',\n",
        "           'HolidayId_2','DAM_Price', 'DAM_Purchase_Bid', 'DAM_Selling_Bid', 'RTM_Price_PD', 'RTM_Purchase_Bid_PD', \n",
        "           'Demand_PD', 'RTM_Selling_Bid_PD', 'RTM_Price_SDLW', 'RTM_Purchase_Bid_SDLW', 'RTM_Selling_Bid_SDLW', \n",
        "            'RTM_Price_SD']]\n",
        "df1.head()"
      ],
      "execution_count": 228,
      "outputs": [
        {
          "output_type": "execute_result",
          "data": {
            "text/plain": [
              "   TimeblockId_1  TimeblockId_2  TimeblockId_3  TimeblockId_4  TimeblockId_5  \\\n",
              "0              1              0              0              0              0   \n",
              "1              0              1              0              0              0   \n",
              "2              0              0              1              0              0   \n",
              "3              0              0              0              1              0   \n",
              "4              0              0              0              0              1   \n",
              "\n",
              "   TimeblockId_6  TimeblockId_7  TimeblockId_8  TimeblockId_9  TimeblockId_10  \\\n",
              "0              0              0              0              0               0   \n",
              "1              0              0              0              0               0   \n",
              "2              0              0              0              0               0   \n",
              "3              0              0              0              0               0   \n",
              "4              0              0              0              0               0   \n",
              "\n",
              "   ...  DAM_Purchase_Bid  DAM_Selling_Bid  RTM_Price_PD  RTM_Purchase_Bid_PD  \\\n",
              "0  ...           10274.1          10312.4       3673.80               2115.6   \n",
              "1  ...           10187.2          10410.3       3673.08               2062.1   \n",
              "2  ...           10142.6          10411.2       3199.19               1715.5   \n",
              "3  ...            9716.9          10466.8       3199.29               1716.8   \n",
              "4  ...            9666.8          10427.3       2999.96               1459.3   \n",
              "\n",
              "   Demand_PD  RTM_Selling_Bid_PD  RTM_Price_SDLW  RTM_Purchase_Bid_SDLW  \\\n",
              "0     145315              2284.8         2089.45                  949.1   \n",
              "1     143759              2337.6         2245.41                  929.5   \n",
              "2     143365              2371.5         2245.89                  963.4   \n",
              "3     141513              2363.8         2245.91                  963.4   \n",
              "4     139912              2156.3         2199.82                  991.8   \n",
              "\n",
              "   RTM_Selling_Bid_SDLW  RTM_Price_SD  \n",
              "0                3145.7       3921.56  \n",
              "1                3122.7       3921.12  \n",
              "2                2789.0       3214.28  \n",
              "3                2818.4       3199.59  \n",
              "4                2907.7       3119.50  \n",
              "\n",
              "[5 rows x 110 columns]"
            ],
            "text/html": [
              "<div>\n",
              "<style scoped>\n",
              "    .dataframe tbody tr th:only-of-type {\n",
              "        vertical-align: middle;\n",
              "    }\n",
              "\n",
              "    .dataframe tbody tr th {\n",
              "        vertical-align: top;\n",
              "    }\n",
              "\n",
              "    .dataframe thead th {\n",
              "        text-align: right;\n",
              "    }\n",
              "</style>\n",
              "<table border=\"1\" class=\"dataframe\">\n",
              "  <thead>\n",
              "    <tr style=\"text-align: right;\">\n",
              "      <th></th>\n",
              "      <th>TimeblockId_1</th>\n",
              "      <th>TimeblockId_2</th>\n",
              "      <th>TimeblockId_3</th>\n",
              "      <th>TimeblockId_4</th>\n",
              "      <th>TimeblockId_5</th>\n",
              "      <th>TimeblockId_6</th>\n",
              "      <th>TimeblockId_7</th>\n",
              "      <th>TimeblockId_8</th>\n",
              "      <th>TimeblockId_9</th>\n",
              "      <th>TimeblockId_10</th>\n",
              "      <th>...</th>\n",
              "      <th>DAM_Purchase_Bid</th>\n",
              "      <th>DAM_Selling_Bid</th>\n",
              "      <th>RTM_Price_PD</th>\n",
              "      <th>RTM_Purchase_Bid_PD</th>\n",
              "      <th>Demand_PD</th>\n",
              "      <th>RTM_Selling_Bid_PD</th>\n",
              "      <th>RTM_Price_SDLW</th>\n",
              "      <th>RTM_Purchase_Bid_SDLW</th>\n",
              "      <th>RTM_Selling_Bid_SDLW</th>\n",
              "      <th>RTM_Price_SD</th>\n",
              "    </tr>\n",
              "  </thead>\n",
              "  <tbody>\n",
              "    <tr>\n",
              "      <th>0</th>\n",
              "      <td>1</td>\n",
              "      <td>0</td>\n",
              "      <td>0</td>\n",
              "      <td>0</td>\n",
              "      <td>0</td>\n",
              "      <td>0</td>\n",
              "      <td>0</td>\n",
              "      <td>0</td>\n",
              "      <td>0</td>\n",
              "      <td>0</td>\n",
              "      <td>...</td>\n",
              "      <td>10274.1</td>\n",
              "      <td>10312.4</td>\n",
              "      <td>3673.80</td>\n",
              "      <td>2115.6</td>\n",
              "      <td>145315</td>\n",
              "      <td>2284.8</td>\n",
              "      <td>2089.45</td>\n",
              "      <td>949.1</td>\n",
              "      <td>3145.7</td>\n",
              "      <td>3921.56</td>\n",
              "    </tr>\n",
              "    <tr>\n",
              "      <th>1</th>\n",
              "      <td>0</td>\n",
              "      <td>1</td>\n",
              "      <td>0</td>\n",
              "      <td>0</td>\n",
              "      <td>0</td>\n",
              "      <td>0</td>\n",
              "      <td>0</td>\n",
              "      <td>0</td>\n",
              "      <td>0</td>\n",
              "      <td>0</td>\n",
              "      <td>...</td>\n",
              "      <td>10187.2</td>\n",
              "      <td>10410.3</td>\n",
              "      <td>3673.08</td>\n",
              "      <td>2062.1</td>\n",
              "      <td>143759</td>\n",
              "      <td>2337.6</td>\n",
              "      <td>2245.41</td>\n",
              "      <td>929.5</td>\n",
              "      <td>3122.7</td>\n",
              "      <td>3921.12</td>\n",
              "    </tr>\n",
              "    <tr>\n",
              "      <th>2</th>\n",
              "      <td>0</td>\n",
              "      <td>0</td>\n",
              "      <td>1</td>\n",
              "      <td>0</td>\n",
              "      <td>0</td>\n",
              "      <td>0</td>\n",
              "      <td>0</td>\n",
              "      <td>0</td>\n",
              "      <td>0</td>\n",
              "      <td>0</td>\n",
              "      <td>...</td>\n",
              "      <td>10142.6</td>\n",
              "      <td>10411.2</td>\n",
              "      <td>3199.19</td>\n",
              "      <td>1715.5</td>\n",
              "      <td>143365</td>\n",
              "      <td>2371.5</td>\n",
              "      <td>2245.89</td>\n",
              "      <td>963.4</td>\n",
              "      <td>2789.0</td>\n",
              "      <td>3214.28</td>\n",
              "    </tr>\n",
              "    <tr>\n",
              "      <th>3</th>\n",
              "      <td>0</td>\n",
              "      <td>0</td>\n",
              "      <td>0</td>\n",
              "      <td>1</td>\n",
              "      <td>0</td>\n",
              "      <td>0</td>\n",
              "      <td>0</td>\n",
              "      <td>0</td>\n",
              "      <td>0</td>\n",
              "      <td>0</td>\n",
              "      <td>...</td>\n",
              "      <td>9716.9</td>\n",
              "      <td>10466.8</td>\n",
              "      <td>3199.29</td>\n",
              "      <td>1716.8</td>\n",
              "      <td>141513</td>\n",
              "      <td>2363.8</td>\n",
              "      <td>2245.91</td>\n",
              "      <td>963.4</td>\n",
              "      <td>2818.4</td>\n",
              "      <td>3199.59</td>\n",
              "    </tr>\n",
              "    <tr>\n",
              "      <th>4</th>\n",
              "      <td>0</td>\n",
              "      <td>0</td>\n",
              "      <td>0</td>\n",
              "      <td>0</td>\n",
              "      <td>1</td>\n",
              "      <td>0</td>\n",
              "      <td>0</td>\n",
              "      <td>0</td>\n",
              "      <td>0</td>\n",
              "      <td>0</td>\n",
              "      <td>...</td>\n",
              "      <td>9666.8</td>\n",
              "      <td>10427.3</td>\n",
              "      <td>2999.96</td>\n",
              "      <td>1459.3</td>\n",
              "      <td>139912</td>\n",
              "      <td>2156.3</td>\n",
              "      <td>2199.82</td>\n",
              "      <td>991.8</td>\n",
              "      <td>2907.7</td>\n",
              "      <td>3119.50</td>\n",
              "    </tr>\n",
              "  </tbody>\n",
              "</table>\n",
              "<p>5 rows × 110 columns</p>\n",
              "</div>"
            ]
          },
          "metadata": {
            "tags": []
          },
          "execution_count": 228
        }
      ]
    },
    {
      "cell_type": "markdown",
      "metadata": {
        "id": "p2WNa4L7KkrH"
      },
      "source": [
        "Thus, now we have the final dataframe `df1` containing all the independent variables and the dependent variable on which we can apply the machine learning models. The final dataframe contains 9984 observations with 109 feature attributes and 1 target variable."
      ]
    },
    {
      "cell_type": "markdown",
      "metadata": {
        "id": "OAGWmvobK-wO"
      },
      "source": [
        "> **Creating Training and Testing Datasets**"
      ]
    },
    {
      "cell_type": "markdown",
      "metadata": {
        "id": "NX-DPmGULgOx"
      },
      "source": [
        "Now, we will create train and test datasets. Since, timeseries data analysis requires us to maintain the chronological order of data, we would not be able to use shuffled `train_test_split` function present in `sklearn`. Thus, we will manually create a train test split based on no of training days and no of prediction blocks. Normally in the Real Time Electricity Market, bids are submitted for two timeblocks and thus, we need to with as much accuracy as possible, predict the two timeblocks ahead forecasts. \r\n",
        "\r\n",
        "**Note:** Another peculiarity that arises with time series data is the train, validation, test data splits may not follow the pattern available in either of the sets specially when the volatility is high in the dataset and volatility in prices is often encountered. Thus, we would like to make our training set as large as possible to contain as much information as possible in the dataset. This can lead to overfitting but after several iterations, here we have choosen to train the model on all the data except for the last 96 blocks which we choose as the test set. \r\n",
        "\r\n",
        "You can play around and change these user inputs to train the model on the shorter or longer time period and use more than 96 time blocks for the validation/test sets."
      ]
    },
    {
      "cell_type": "code",
      "metadata": {
        "id": "s5MireJ6KpLL"
      },
      "source": [
        "# creating dependent and independent variable and storing as numpy arrays\n",
        "X = df1.iloc[:,:-1].values\n",
        "y = df1.iloc[:,-1].values"
      ],
      "execution_count": 229,
      "outputs": []
    },
    {
      "cell_type": "code",
      "metadata": {
        "colab": {
          "base_uri": "https://localhost:8080/"
        },
        "id": "rFd71UQ9K8t7",
        "outputId": "2a95b484-0c9d-433d-d52f-f75df3a78e18"
      },
      "source": [
        "# checking shapes of dependent and independent variables arrays\n",
        "X.shape, y.shape"
      ],
      "execution_count": 230,
      "outputs": [
        {
          "output_type": "execute_result",
          "data": {
            "text/plain": [
              "((9984, 109), (9984,))"
            ]
          },
          "metadata": {
            "tags": []
          },
          "execution_count": 230
        }
      ]
    },
    {
      "cell_type": "code",
      "metadata": {
        "id": "LBIT1_jSrCAe"
      },
      "source": [
        "# user inputs for no of training days and no of prediction blocks (test set)\n",
        "n_train_days = 92 # int(input(\"No. of Training Days: \"))\n",
        "n_pred_block = 96 # int(input(\"No. of Time Blocks to Predict: \"))"
      ],
      "execution_count": 231,
      "outputs": []
    },
    {
      "cell_type": "code",
      "metadata": {
        "id": "tiFNUScGLZAJ"
      },
      "source": [
        "# creating train test split\n",
        "# predicting the RTM Price \n",
        "# 1 signifies value of latest day and as n value increases we move backward from current day\n",
        "\n",
        "n = 1\n",
        "X_train,y_train  = X[-(n_train_days + n)*96:-96*n,:] , y[-(n_train_days + n)*96:-96*n]\n",
        "if n > 1:\n",
        "    if n_pred_block == 96:\n",
        "        X_test , y_test = X[-96*n:-96*(n-1),:] , y[-96*n:-96*(n-1)]\n",
        "    else:\n",
        "        X_test , y_test = X[-96*n:-96*n + n_pred_block, :] , y[-96*n:-96*n + n_pred_block]\n",
        "\n",
        "if n==1:\n",
        "    if n_pred_block == 96:\n",
        "        X_test , y_test = X[-96*n:, :] , y[-96*n:]\n",
        "    else:\n",
        "        X_test , y_test = X[-96*n:-96*n + n_pred_block, :] , y[-96*n:-96*n + n_pred_block]"
      ],
      "execution_count": 232,
      "outputs": []
    },
    {
      "cell_type": "code",
      "metadata": {
        "colab": {
          "base_uri": "https://localhost:8080/"
        },
        "id": "nVomMOjNXXMN",
        "outputId": "8e101929-49df-4f9a-920d-fb9b6d54c10b"
      },
      "source": [
        "# check the shapes of train and test sets\r\n",
        "X_train.shape, y_train.shape, X_test.shape, y_test.shape"
      ],
      "execution_count": 233,
      "outputs": [
        {
          "output_type": "execute_result",
          "data": {
            "text/plain": [
              "((8832, 109), (8832,), (96, 109), (96,))"
            ]
          },
          "metadata": {
            "tags": []
          },
          "execution_count": 233
        }
      ]
    },
    {
      "cell_type": "markdown",
      "metadata": {
        "id": "22svjhdnS9qU"
      },
      "source": [
        "### **Section 2: Implementing XGBoost for Price predictions**"
      ]
    },
    {
      "cell_type": "markdown",
      "metadata": {
        "id": "k43WJb81TMFL"
      },
      "source": [
        "In this section, we will use the training data to perform Hyperparameter tuning for `XGBRegressor` and use the best estimators obtained from grid search cross validation to predict the prices."
      ]
    },
    {
      "cell_type": "markdown",
      "metadata": {
        "id": "zMONCWo7Tc5t"
      },
      "source": [
        "**Hyperparameter Tuning for XGBoost using GridSearch CrossValidation**"
      ]
    },
    {
      "cell_type": "markdown",
      "metadata": {
        "id": "NxZwQp7CTzG8"
      },
      "source": [
        "The following parameter grid used for `GridSearchCV` is obtained after a few iterations of `RandomSearchCV` technique. We will use `neg_mean_squared_error` as the evaluation scoring criteria on the validation sets. The `best_estimator_` attribute of the gridsearch instance will give us the fit with best parameters."
      ]
    },
    {
      "cell_type": "code",
      "metadata": {
        "colab": {
          "base_uri": "https://localhost:8080/"
        },
        "id": "HeNY3lhELIZa",
        "outputId": "a16846d5-1e1f-4cd3-879e-a2b1243cbd74"
      },
      "source": [
        "#Hyperparameter Tuning of Xgboost Model\n",
        "\n",
        "parameters_for_testing = {\n",
        "    'colsample_bytree': [0.5, 0.6, 0.7],\n",
        "    'gamma': [0.05, 0.06],\n",
        "    'learning_rate': [0.06, 0.07, 0.1],\n",
        "    'max_depth': [4,5,6],\n",
        "    'n_estimators': [100, 110]\n",
        "     }\n",
        "\n",
        "# define the XGBoost instance\n",
        "xgb_model = xgboost.XGBRegressor()\n",
        "\n",
        "# define gridsearch instance with appropritate parameters\n",
        "gs_xgb = GridSearchCV(estimator = xgb_model, param_grid = parameters_for_testing, n_jobs=-1,\n",
        "                        verbose=1,scoring='neg_mean_squared_error')\n",
        "\n",
        "# perform grid search to find the best fit parameters\n",
        "gs_xgb.fit(X_train,y_train)\n",
        "\n",
        "# print best gridsearch cv results\n",
        "print('Best Params:', gs_xgb.best_params_)\n",
        "print('Best Score:', gs_xgb.best_score_)\n",
        "print('Best Estimator:', gs_xgb.best_estimator_)"
      ],
      "execution_count": 234,
      "outputs": [
        {
          "output_type": "stream",
          "text": [
            "Fitting 5 folds for each of 108 candidates, totalling 540 fits\n"
          ],
          "name": "stdout"
        },
        {
          "output_type": "stream",
          "text": [
            "[Parallel(n_jobs=-1)]: Using backend LokyBackend with 48 concurrent workers.\n",
            "[Parallel(n_jobs=-1)]: Done 104 tasks      | elapsed:   27.1s\n",
            "[Parallel(n_jobs=-1)]: Done 354 tasks      | elapsed:  1.2min\n",
            "[Parallel(n_jobs=-1)]: Done 540 out of 540 | elapsed:  1.7min finished\n"
          ],
          "name": "stderr"
        },
        {
          "output_type": "stream",
          "text": [
            "Best Params: {'colsample_bytree': 0.5, 'gamma': 0.05, 'learning_rate': 0.07, 'max_depth': 4, 'n_estimators': 100}\n",
            "Best Score: -288694.9656970505\n",
            "Best Estimator: XGBRegressor(base_score=0.5, booster='gbtree', colsample_bylevel=1,\n",
            "             colsample_bynode=1, colsample_bytree=0.5, gamma=0.05, gpu_id=-1,\n",
            "             importance_type='gain', interaction_constraints='',\n",
            "             learning_rate=0.07, max_delta_step=0, max_depth=4,\n",
            "             min_child_weight=1, missing=nan, monotone_constraints='()',\n",
            "             n_estimators=100, n_jobs=48, num_parallel_tree=1, random_state=0,\n",
            "             reg_alpha=0, reg_lambda=1, scale_pos_weight=1, subsample=1,\n",
            "             tree_method='exact', validate_parameters=1, verbosity=None)\n"
          ],
          "name": "stdout"
        }
      ]
    },
    {
      "cell_type": "markdown",
      "metadata": {
        "id": "RiD7IDmAU51C"
      },
      "source": [
        "> **Make Predictions using the Best Estimator**"
      ]
    },
    {
      "cell_type": "code",
      "metadata": {
        "id": "GRJzQ8AlWhuG"
      },
      "source": [
        "# use the best grid search estimator to predict on the test dataset\n",
        "best_regr = gs_xgb.best_estimator_ \n",
        "\"\"\"xgboost.XGBRegressor(base_score=0.5, booster='gbtree', colsample_bylevel=1,\n",
        "             colsample_bynode=1, colsample_bytree=0.6, gamma=0.05, gpu_id=-1,\n",
        "             importance_type='gain', interaction_constraints='',\n",
        "             learning_rate=0.05, max_delta_step=0, max_depth=5,\n",
        "             min_child_weight=1, monotone_constraints='()',\n",
        "             n_estimators=110, n_jobs=48, num_parallel_tree=1, random_state=0,\n",
        "             reg_alpha=0, reg_lambda=1, scale_pos_weight=1, subsample=1,\n",
        "             tree_method='exact', validate_parameters=1, verbosity=None) # obtained by gs_xgb.best_estimator_#\n",
        "             \"\"\"\n",
        "best_regr.fit(X_train,y_train)\n",
        "\n",
        "xgb_predictions = best_regr.predict(X_test)"
      ],
      "execution_count": 235,
      "outputs": []
    },
    {
      "cell_type": "markdown",
      "metadata": {
        "id": "l3MvBHBOU_If"
      },
      "source": [
        "> **Evaluate model accuracy**"
      ]
    },
    {
      "cell_type": "code",
      "metadata": {
        "id": "bwhagHs3WwuL"
      },
      "source": [
        "# MAPE for test set\n",
        "def mean_absolute_percentage_error(y_true, y_pred): \n",
        "    return np.mean(np.abs((y_true - y_pred) / y_true)) * 100\n",
        "\n",
        "def evaluate_rf(model, test_features, test_labels):\n",
        "    predictions = model.predict(test_features)\n",
        "    errors = abs(predictions - test_labels)\n",
        "    mape = 100 * np.mean(errors / test_labels)\n",
        "    accuracy = 100 - mape\n",
        "    print('Model Performance')\n",
        "    print('Average Error: {:0.4f} degrees.'.format(np.mean(errors)))\n",
        "    print('Accuracy = {:0.2f}%.'.format(accuracy))\n",
        "    \n",
        "    return accuracy\n",
        "\n",
        "def evalute_xgb(y_pred, y_test, n_pred_block):\n",
        "  test_diff = np.abs(y_pred - y_test)\n",
        "\n",
        "  #MAE for test set\n",
        "  diff_day = []\n",
        "  diff_sum = 0\n",
        "  time = 0\n",
        "  for i in test_diff:\n",
        "      if time != n_pred_block-1:\n",
        "          diff_sum +=i\n",
        "          time +=1\n",
        "      else:\n",
        "          diff_sum = diff_sum/n_pred_block\n",
        "          diff_day.append(diff_sum)\n",
        "          diff_sum = 0\n",
        "          time = 0\n",
        "\n",
        "  mape0 = mean_absolute_percentage_error(y_test, y_pred)\n",
        "\n",
        "  #Max error and Min Error for the test set\n",
        "  max_error  = max(test_diff)\n",
        "  min_error = min(test_diff)\n",
        "\n",
        "  print('Maximum Error of the day = ',max_error)\n",
        "  print('Minimum Error of the day = ',min_error)\n",
        "  print('Mean Absolute Error of the day = ',diff_day)\n",
        "\n",
        "  print('Average RTM Price = ',np.mean(y_test))\n",
        "  mape1 = mean_absolute_percentage_error(y_test[:24],xgb_predictions[:24])\n",
        "  mape2 = mean_absolute_percentage_error(y_test[24:48],xgb_predictions[24:48])\n",
        "  mape3 = mean_absolute_percentage_error(y_test[48:72],xgb_predictions[48:72])\n",
        "  mape4 = mean_absolute_percentage_error(y_test[72:],xgb_predictions[72:])\n",
        "  #Error during different sections of day:\n",
        "  print('MAPE during 00:00-06:00 hrs = ',mape1)\n",
        "  print('MAPE during 06:00-12:00 hrs = ',mape2)\n",
        "  print('MAPE during 12:00-18:00 hrs = ',mape3)\n",
        "  print('MAPE during 18:00-24:00 hrs = ',mape4)"
      ],
      "execution_count": 236,
      "outputs": []
    },
    {
      "cell_type": "markdown",
      "metadata": {
        "id": "9cXVQI11ae3L"
      },
      "source": [
        "> **Model Evaluation on Test Set**"
      ]
    },
    {
      "cell_type": "code",
      "metadata": {
        "colab": {
          "base_uri": "https://localhost:8080/"
        },
        "id": "larTeW0oggLl",
        "outputId": "3e4849bd-aa9c-4b3d-a000-a446e786e141"
      },
      "source": [
        "# evaluating XGB regressor results on the test dataset\r\n",
        "evalute_xgb(xgb_predictions, y_test, n_pred_block)"
      ],
      "execution_count": 237,
      "outputs": [
        {
          "output_type": "stream",
          "text": [
            "Maximum Error of the day =  2760.33984375\n",
            "Minimum Error of the day =  7.1733691406248\n",
            "Mean Absolute Error of the day =  [756.5341135152185]\n",
            "Average RTM Price =  3989.9464583333333\n",
            "MAPE during 00:00-06:00 hrs =  11.95734952581325\n",
            "MAPE during 06:00-12:00 hrs =  22.49845547564474\n",
            "MAPE during 12:00-18:00 hrs =  22.06340889151566\n",
            "MAPE during 18:00-24:00 hrs =  8.165047204889216\n"
          ],
          "name": "stdout"
        }
      ]
    },
    {
      "cell_type": "markdown",
      "metadata": {
        "id": "HORjZgyIZEgV"
      },
      "source": [
        "Thus, we have ~85% accuracy on test dataset. Thus, our predictions are fairly good and the model is not overfitting to the outliers and volatility in the dataset and does a good job to capture the underlying trends in the data at a daily level. "
      ]
    },
    {
      "cell_type": "markdown",
      "metadata": {
        "id": "EBlSiDaiX8zu"
      },
      "source": [
        "> **Comnparison of Actual vs Predicted Prices obtained using XGBoost**"
      ]
    },
    {
      "cell_type": "code",
      "metadata": {
        "colab": {
          "base_uri": "https://localhost:8080/",
          "height": 400
        },
        "id": "rTcwojuxW-T6",
        "outputId": "05fab8ff-e5fd-474d-ee3f-590133bf8e30"
      },
      "source": [
        "# evaluation performance on the test dataset\n",
        "# plotting actual vs predicted data\n",
        "plt.figure(figsize=(20,6))\n",
        "plt.xlabel('TimeblockId', fontsize = 10)\n",
        "plt.ylabel('RTM Value', fontsize = 10)\n",
        "plt.plot(xgb_predictions, label = 'Predicted Price', linewidth=1)\n",
        "plt.plot(y_test, label = 'Actual Price',  linewidth=2)\n",
        "plt.legend(loc = 'lower right',frameon=True,  prop={\"size\":8});\n",
        "plt.title('Actual vs XGBoost Forecasts', size=16)\n",
        "plt.show()"
      ],
      "execution_count": 238,
      "outputs": [
        {
          "output_type": "display_data",
          "data": {
            "text/plain": [
              "<Figure size 1440x432 with 1 Axes>"
            ],
            "image/png": "[encoded data removed]"
          },
          "metadata": {
            "tags": [],
            "needs_background": "light"
          }
        }
      ]
    },
    {
      "cell_type": "markdown",
      "metadata": {
        "id": "Ucl-_5RNVv10"
      },
      "source": [
        "### **Section 3: Implementing RandomForest for Price predictions**"
      ]
    },
    {
      "cell_type": "markdown",
      "metadata": {
        "id": "aZi5ZlCWWBAc"
      },
      "source": [
        "In this section, we will use the training data to perform Hyperparameter tuning for `RandomForestRegressor` and use the best estimators obtained from grid search cross validation to predict the prices.\r\n"
      ]
    },
    {
      "cell_type": "markdown",
      "metadata": {
        "id": "RAziV4_0WQbz"
      },
      "source": [
        "> **Hyperparameter Tuning for RandomForestRegressor using GridSearch CrossValidation**"
      ]
    },
    {
      "cell_type": "markdown",
      "metadata": {
        "id": "t6t-86VPWUK6"
      },
      "source": [
        "The following parameter grid used for `GridSearchCV` is obtained after a few iterations of `RandomSearchCV` technique. We will use neg_mean_squared_error as the evaluation scoring criteria on the validation sets. The `best_estimator_` attribute of the gridsearch instance will give us the fit with best parameters."
      ]
    },
    {
      "cell_type": "code",
      "metadata": {
        "colab": {
          "base_uri": "https://localhost:8080/"
        },
        "id": "euOswjPxTlNB",
        "outputId": "98557941-4338-4658-e5f8-6b3e3008d93c"
      },
      "source": [
        "# define the parameters to perform hyperparameter tuning\n",
        "\n",
        "param_grid = {\n",
        "    'bootstrap': [True,False],\n",
        "    'max_depth': [10, 15],\n",
        "    'max_features': [13, 15,18],\n",
        "    'min_samples_leaf': [4,5],\n",
        "    'min_samples_split': [36, 50, 60],\n",
        "    'n_estimators': [700, 750, 800]\n",
        "}\n",
        "\n",
        "# create the random forest regressor instance\n",
        "rf = RandomForestRegressor()\n",
        "\n",
        "# create the gridsearch instance\n",
        "gs_rf = GridSearchCV(estimator = rf, param_grid = param_grid, \n",
        "                          n_jobs = -1, verbose = 2, scoring='r2')\n",
        "\n",
        "# peform grid search cross validation\n",
        "gs_rf.fit(X_train,y_train)\n",
        "\n",
        "# print the grid search results\n",
        "print('Best Params:', gs_rf.best_params_)\n",
        "print('Best Score:', gs_rf.best_score_)\n",
        "print('Best Estimator:', gs_rf.best_estimator_)"
      ],
      "execution_count": 239,
      "outputs": [
        {
          "output_type": "stream",
          "text": [
            "Fitting 5 folds for each of 216 candidates, totalling 1080 fits\n"
          ],
          "name": "stdout"
        },
        {
          "output_type": "stream",
          "text": [
            "[Parallel(n_jobs=-1)]: Using backend LokyBackend with 48 concurrent workers.\n",
            "[Parallel(n_jobs=-1)]: Done  66 tasks      | elapsed:   28.9s\n",
            "[Parallel(n_jobs=-1)]: Done 269 tasks      | elapsed:  1.6min\n",
            "[Parallel(n_jobs=-1)]: Done 552 tasks      | elapsed:  3.4min\n",
            "[Parallel(n_jobs=-1)]: Done 917 tasks      | elapsed:  6.6min\n",
            "[Parallel(n_jobs=-1)]: Done 1080 out of 1080 | elapsed:  8.2min finished\n"
          ],
          "name": "stderr"
        },
        {
          "output_type": "stream",
          "text": [
            "Best Params: {'bootstrap': True, 'max_depth': 10, 'max_features': 18, 'min_samples_leaf': 4, 'min_samples_split': 36, 'n_estimators': 700}\n",
            "Best Score: 0.5488524548371542\n",
            "Best Estimator: RandomForestRegressor(max_depth=10, max_features=18, min_samples_leaf=4,\n",
            "                      min_samples_split=36, n_estimators=700)\n"
          ],
          "name": "stdout"
        }
      ]
    },
    {
      "cell_type": "markdown",
      "metadata": {
        "id": "NqE8AZLbYNbl"
      },
      "source": [
        "The best estimator obtained using Hyperparameter tuning coupled with GridSearchCV gave us ~85% accuracy on the train dataset. Now, let us make the predictions on the test set and evaluate model performance."
      ]
    },
    {
      "cell_type": "code",
      "metadata": {
        "colab": {
          "base_uri": "https://localhost:8080/"
        },
        "id": "ut-6MIhRWvcs",
        "outputId": "bac7b7f1-2484-4db7-c18c-28b3b4fe3be5"
      },
      "source": [
        "# make predictions using best estimator and evaluate model performace on training set\r\n",
        "best_grid = gs_rf.best_estimator_\r\n",
        "grid_accuracy = evaluate_rf(best_grid, X_test, y_test)"
      ],
      "execution_count": 240,
      "outputs": [
        {
          "output_type": "stream",
          "text": [
            "Model Performance\n",
            "Average Error: 711.1415 degrees.\n",
            "Accuracy = 84.64%.\n"
          ],
          "name": "stdout"
        }
      ]
    },
    {
      "cell_type": "markdown",
      "metadata": {
        "id": "6f1X7fejXwW-"
      },
      "source": [
        "> **Making prediction using best RF estimator found using `GridSearchCV`**"
      ]
    },
    {
      "cell_type": "code",
      "metadata": {
        "colab": {
          "base_uri": "https://localhost:8080/"
        },
        "id": "cu6Pwi7UTn43",
        "outputId": "15f5bbb3-60f2-44fc-b935-d954c86a4a17"
      },
      "source": [
        "# perform predictions on the test set and evaluate model performance\n",
        "best_regr = best_grid\n",
        "# best grid = RandomForestRegressor(max_depth=10, max_features=15, min_samples_leaf=4, \n",
        "# min_samples_split=50, n_estimators=800)\n",
        "\n",
        "# make prediction on test set\n",
        "best_regr.fit(X_train,y_train)\n",
        "rf_predictions = best_regr.predict(X_test)\n",
        "\n",
        "# evaluate model on test set\n",
        "evalute_model(rf_predictions, y_test, n_pred_block)"
      ],
      "execution_count": 241,
      "outputs": [
        {
          "output_type": "stream",
          "text": [
            "Maximum Error of the day =  2598.4647404600973\n",
            "Minimum Error of the day =  15.490902050112709\n",
            "Mean Absolute Error of the day =  [707.4508663797345]\n",
            "Average RTM Price =  3989.9464583333333\n",
            "MAPE during 00:00-06:00 hrs =  12.912854536744248\n",
            "MAPE during 06:00-12:00 hrs =  21.037841105083967\n",
            "MAPE during 12:00-18:00 hrs =  17.95532627563596\n",
            "MAPE during 18:00-24:00 hrs =  9.382668273659263\n",
            "Full Day MAPE = 15.322172547780857\n"
          ],
          "name": "stdout"
        }
      ]
    },
    {
      "cell_type": "markdown",
      "metadata": {
        "id": "uS83ZumyYfLl"
      },
      "source": [
        "Thus, we have ~85% accuracy on test dataset as well. Thus, our predictions are fairly good and the model is not overfitting to the outliers and volatility in the dataset and does a good job to capture the underlying trends in the data at a daily level. "
      ]
    },
    {
      "cell_type": "markdown",
      "metadata": {
        "id": "6ile_0fvXn22"
      },
      "source": [
        "> **Comparison of Actual vs Predicted Prices obtained using RanfomForest**"
      ]
    },
    {
      "cell_type": "code",
      "metadata": {
        "colab": {
          "base_uri": "https://localhost:8080/",
          "height": 400
        },
        "id": "FQq7YqrKXJhg",
        "outputId": "cbda7ad6-043c-45db-e0a8-928ba0cf0488"
      },
      "source": [
        "# comparison of actual vs predicted prices using randomforest\r\n",
        "plt.figure(figsize=(20,6))\r\n",
        "plt.xlabel('TimeblockId', fontsize = 10)\r\n",
        "plt.ylabel('RTM Value', fontsize = 10)\r\n",
        "plt.plot(rf_predictions, label = 'Predicted Price', linewidth=1)\r\n",
        "plt.plot(y_test, label = 'Actual Price',  linewidth=2)\r\n",
        "plt.legend(loc = 'lower right',frameon=True,  prop={\"size\":8});\r\n",
        "plt.title('Actual vs RandomForest Forecasts', size=16)\r\n",
        "plt.show()"
      ],
      "execution_count": 242,
      "outputs": [
        {
          "output_type": "display_data",
          "data": {
            "text/plain": [
              "<Figure size 1440x432 with 1 Axes>"
            ],
            "image/png": "[encoded data removed]"
          },
          "metadata": {
            "tags": [],
            "needs_background": "light"
          }
        }
      ]
    },
    {
      "cell_type": "markdown",
      "metadata": {
        "id": "LnWJu8YOXfA7"
      },
      "source": [
        "> **Exporting the results to csv file**"
      ]
    },
    {
      "cell_type": "code",
      "metadata": {
        "id": "yv37imH7byQj"
      },
      "source": [
        "# exporting results to csv files\n",
        "rf_forecasts = pd.DataFrame({\"Actual RTM Price\" : y_test, \"Predicted RTM Price\" : rf_predictions,\"Difference\": y_test-rf_predictions})\n",
        "rf_forecasts.to_csv(\"Forecast_RF.csv\", index=False)\n",
        "xgb_forecasts = pd.DataFrame({\"Actual RTM Price\" : y_test, \"Predicted RTM Price\" : xgb_predictions,\"Difference\":  y_test-xgb_predictions})\n",
        "xgb_forecasts.to_csv(\"Forecast_XGB.csv\", index=False)"
      ],
      "execution_count": 243,
      "outputs": []
    },
    {
      "cell_type": "markdown",
      "metadata": {
        "id": "A2214uQ4ZL3u"
      },
      "source": [
        "**Recap:** In this exercise, we saw how we can apply XGBoost and RandomForest models on Timeseries data using a technique called reduction. We then applied data cleaning, data transformation and feature engineering to perform reduction. Then, we trained the train sets on both the ML algorithms vy performing Hyperparameter tuning and cross validation. Finally, we evaluated the performace of the best estimators on the test set. Both the algorithm gave ~85% accuracy on test sets. \r\n",
        "\r\n",
        "**Next Steps**: If you wish to extend this exercise, you may wish to model the generator outages, weather impacts on electricity demand, volatility analysis of prices etc. to further improve the performance of these models."
      ]
    }
  ]
}